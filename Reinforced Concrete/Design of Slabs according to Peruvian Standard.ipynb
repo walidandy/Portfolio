{
 "cells": [
  {
   "cell_type": "code",
   "execution_count": 128,
   "metadata": {},
   "outputs": [],
   "source": [
    "from sympy import *"
   ]
  },
  {
   "cell_type": "markdown",
   "metadata": {},
   "source": [
    "# PARAMETROS"
   ]
  },
  {
   "cell_type": "markdown",
   "metadata": {},
   "source": [
    "## Direccion Numerica\n",
    "Se toman en consideracion las vigas de borde y T"
   ]
  },
  {
   "cell_type": "code",
   "execution_count": 129,
   "metadata": {},
   "outputs": [],
   "source": [
    "import handcalcs.render\n",
    "bf\t=0.35\n",
    "bw\t=0.25\n",
    "h\t=0.15\n",
    "A1=(bf+bw)*h+bf*bw"
   ]
  },
  {
   "cell_type": "code",
   "execution_count": 130,
   "metadata": {},
   "outputs": [
    {
     "data": {
      "text/plain": "0.302"
     },
     "execution_count": 130,
     "metadata": {},
     "output_type": "execute_result"
    }
   ],
   "source": [
    "y1 =((bf+h/2)*(bf+bw)*h+(bf/2)*bf*bw)/A1\n",
    "y1.__round__(3)"
   ]
  },
  {
   "cell_type": "markdown",
   "metadata": {},
   "source": [
    "Recordemos que estamos tomando el momento de inercia en relacion al punto \"y\" (centroide)"
   ]
  },
  {
   "cell_type": "code",
   "execution_count": 131,
   "metadata": {},
   "outputs": [
    {
     "data": {
      "text/plain": "<IPython.core.display.Latex object>",
      "text/latex": "\\[\n\\begin{aligned}\n\\mathrm{Ix1} &= 383486.65 \\; \\;\\textrm{(cm4)}\n &\\mathrm{Ix1}_{s} &= 90703.12 \\; \\;\\textrm{(cm4)}\n &\\mathrm{a1} &= 4.23 \\; \n\\\\[10pt]\n\\end{aligned}\n\\]"
     },
     "metadata": {},
     "output_type": "display_data"
    }
   ],
   "source": [
    "%%render params 2\n",
    "#Seccion L de borde\n",
    "Ix1 =((bf+bw)*h**3/12+(bf+bw)*h*(bf+h/2-y1)**2+bw*bf**3/12+bw*bf*(y1-bf/2)**2)*1e8 #cm4\n",
    "#Seccion losa\n",
    "Ix1_s =((3+0.45/2)*h**3/12)*1e8 #cm4\n",
    "#Alfa\n",
    "a1 =(Ix1/Ix1_s).__round__(2)"
   ]
  },
  {
   "cell_type": "markdown",
   "metadata": {},
   "source": [
    "Verificaciones, en relacion a $bf=h-t\\leqslant4t$. Este es un hecho comun para todos los paños que tengan el mismo espesor de losa"
   ]
  },
  {
   "cell_type": "code",
   "execution_count": 132,
   "metadata": {},
   "outputs": [
    {
     "data": {
      "text/plain": "(0.35, 0.6)"
     },
     "execution_count": 132,
     "metadata": {},
     "output_type": "execute_result"
    }
   ],
   "source": [
    "r2 =4*0.15\n",
    "r1 =(0.15+0.35)-0.15\n",
    "r1,r2"
   ]
  },
  {
   "cell_type": "code",
   "execution_count": 133,
   "metadata": {},
   "outputs": [
    {
     "data": {
      "text/plain": "0.3299"
     },
     "execution_count": 133,
     "metadata": {},
     "output_type": "execute_result"
    }
   ],
   "source": [
    "bf\t=0.35\n",
    "bw\t=0.25\n",
    "h\t=0.15\n",
    "A2 =(bw+2*bf)*h+bf*bw\n",
    "y2 =((bf+h/2)*(bw+2*bf)*h+(bf/2)*bf*bw)/A2\n",
    "y2.__round__(4)"
   ]
  },
  {
   "cell_type": "code",
   "execution_count": 134,
   "metadata": {},
   "outputs": [
    {
     "data": {
      "text/plain": "<IPython.core.display.Latex object>",
      "text/latex": "\\[\n\\begin{aligned}\n\\mathrm{Ix2} &= 454866.39 \\; \\;\\textrm{((cm4))}\n &\\mathrm{Ix2}_{s} &= 168750.00 \\; \\;\\textrm{((cm4))}\n &\\mathrm{a2} &= 2.70 \\; \n\\\\[10pt]\n\\end{aligned}\n\\]"
     },
     "metadata": {},
     "output_type": "display_data"
    }
   ],
   "source": [
    "%%render params 2\n",
    "#Seccion T\n",
    "Ix2 =((bw+2*bf)*h**3/12+(bw+2*bf)*h*(bf+h/2-y2)**2+bw*bf**3/12+bf*bw*(bf/2-y2)**2)*1e8 #(cm4)\n",
    "Ix2_s =(6*h**3/12)*1e8 #(cm4)\n",
    "#Alfa\n",
    "a2 =(Ix2/Ix2_s).__round__(2)"
   ]
  },
  {
   "cell_type": "markdown",
   "metadata": {},
   "source": [
    "## Direccion Alfabetica\n",
    "Se toman en consideracion las vigas T y L"
   ]
  },
  {
   "cell_type": "code",
   "execution_count": 135,
   "metadata": {},
   "outputs": [],
   "source": [
    "#Estos datos se mantienen\n",
    "bf\t=0.35\n",
    "bw\t=0.25\n",
    "h\t=0.15\n",
    "A3=(bf+bw)*h+bf*bw"
   ]
  },
  {
   "cell_type": "code",
   "execution_count": 136,
   "metadata": {},
   "outputs": [
    {
     "data": {
      "text/plain": "<IPython.core.display.Latex object>",
      "text/latex": "\\[\n\\begin{aligned}\n\\mathrm{Ix3} &= 383486.65 \\; \\;\\textrm{(cm4)}\n &\\mathrm{Ix3}_{s} &= 76640.62 \\; \\;\\textrm{(cm4)}\n &\\mathrm{a3} &= 5.00 \\; \n\\\\[10pt]\n\\end{aligned}\n\\]"
     },
     "metadata": {},
     "output_type": "display_data"
    }
   ],
   "source": [
    "%%render params 2\n",
    "#Seccion L de borde\n",
    "Ix3 =((bf+bw)*h**3/12+(bf+bw)*h*(bf+h/2-y1)**2+bw*bf**3/12+bw*bf*(y1-bf/2)**2)*1e8 #cm4\n",
    "#Seccion losa\n",
    "Ix3_s =((2.5+0.45/2)*h**3/12)*1e8 #cm4\n",
    "#Alfa\n",
    "a3 =(Ix3/Ix3_s).__round__(2)"
   ]
  },
  {
   "cell_type": "code",
   "execution_count": 137,
   "metadata": {},
   "outputs": [],
   "source": [
    "bf\t=0.3\n",
    "bw\t=0.2\n",
    "h\t=0.25\n",
    "A4 =(bw+2*bf)*h+bf*bw"
   ]
  },
  {
   "cell_type": "code",
   "execution_count": 138,
   "metadata": {},
   "outputs": [
    {
     "data": {
      "text/plain": "<IPython.core.display.Latex object>",
      "text/latex": "\\[\n\\begin{aligned}\n\\mathrm{Ix4} &= 524245.23 \\; \\;\\textrm{((cm4))}\n &\\mathrm{Ix4}_{s} &= 1074218.75 \\; \\;\\textrm{((cm4))}\n &\\mathrm{a4} &= 0.49 \\; \n\\\\[10pt]\n\\end{aligned}\n\\]"
     },
     "metadata": {},
     "output_type": "display_data"
    }
   ],
   "source": [
    "%%render params 2\n",
    "#Seccion T\n",
    "Ix4 =((bw+2*bf)*h**3/12+(bw+2*bf)*h*(bf+h/2-y2)**2+bw*bf**3/12+bf*bw*(bf/2-y2)**2)*1e8 #(cm4)\n",
    "Ix4_s =((4.5+7.5/2)*h**3/12)*1e8 #(cm4)\n",
    "#Alfa\n",
    "a4 =(Ix4/Ix4_s).__round__(2)"
   ]
  },
  {
   "cell_type": "markdown",
   "metadata": {},
   "source": [
    "Continuaremos calculando los parametros.."
   ]
  },
  {
   "cell_type": "markdown",
   "metadata": {},
   "source": [
    "## Paño 1"
   ]
  },
  {
   "cell_type": "code",
   "execution_count": 139,
   "metadata": {},
   "outputs": [
    {
     "data": {
      "text/plain": "<IPython.core.display.Latex object>",
      "text/latex": "\\[\n\\begin{aligned}\n\\mathrm{l1}_{a} &= 6 \\; \\;\\textrm{(medido a ejes (direccion perpendicular))}\n &\\mathrm{l2}_{a} &= 5 \\; \\;\\textrm{(medido a ejes (direccion de analisis))}\n &\\mathrm{da}_{a} &= 0.55 \\; \n\\\\[10pt]\n \\mathrm{l1}_{n} &= 5 \\; \\;\\textrm{(medido a ejes (direccion perpendicular))}\n &\\mathrm{l2}_{n} &= 6 \\; \\;\\textrm{(medido a ejes (direccion de analisis))}\n &\\mathrm{da}_{n} &= 1.82 \\; \n\\\\[10pt]\n\\end{aligned}\n\\]"
     },
     "metadata": {},
     "output_type": "display_data"
    }
   ],
   "source": [
    "%%render params 2\n",
    "#Direccion Alfabetica\n",
    "l1_a =6 #medido a ejes (direccion perpendicular)\n",
    "l2_a =5 #medido a ejes (direccion de analisis)\n",
    "da_a =((a3+a4)/(a1+a2))*(l2_a/l1_a)**2\n",
    "#Direccion Numerica\n",
    "l1_n =5 #medido a ejes (direccion perpendicular)\n",
    "l2_n =6 #medido a ejes (direccion de analisis)\n",
    "da_n =((a1+a2)/(a3+a4))*(l2_n/l1_n)**2"
   ]
  },
  {
   "cell_type": "markdown",
   "metadata": {},
   "source": [
    "## Paño 2"
   ]
  },
  {
   "cell_type": "code",
   "execution_count": 140,
   "metadata": {},
   "outputs": [
    {
     "data": {
      "text/plain": "<IPython.core.display.Latex object>",
      "text/latex": "\\[\n\\begin{aligned}\n\\mathrm{l1}_{a} &= 6 \\; \\;\\textrm{(medido a ejes)}\n &\\mathrm{l2}_{a} &= 5 \\; \\;\\textrm{(medido a ejes)}\n &\\mathrm{da}_{a} &= 0.71 \\; \n\\\\[10pt]\n \\mathrm{da}_{n} &= 1.42 \\;\n\\end{aligned}\n\\]"
     },
     "metadata": {},
     "output_type": "display_data"
    }
   ],
   "source": [
    "%%render params 2\n",
    "#Direccion Alfabetica\n",
    "l1_a =6 #medido a ejes\n",
    "l2_a =5 #medido a ejes\n",
    "da_a =((a3+a4)/(a2+a2))*(l2_a/l1_a)**2\n",
    "#Direccion Numerica\n",
    "da_n =da_a**-1"
   ]
  },
  {
   "cell_type": "markdown",
   "metadata": {},
   "source": [
    "## Paño 3"
   ]
  },
  {
   "cell_type": "code",
   "execution_count": 141,
   "metadata": {},
   "outputs": [
    {
     "data": {
      "text/plain": "<IPython.core.display.Latex object>",
      "text/latex": "\\[\n\\begin{aligned}\n\\mathrm{l1}_{a} &= 6 \\; \\;\\textrm{(medido a ejes)}\n &\\mathrm{l2}_{a} &= 4 \\; \\;\\textrm{(medido a ejes)}\n &\\mathrm{da}_{a} &= 0.06 \\; \n\\\\[10pt]\n \\mathrm{da}_{n} &= 15.91 \\;\n\\end{aligned}\n\\]"
     },
     "metadata": {},
     "output_type": "display_data"
    }
   ],
   "source": [
    "%%render params 2\n",
    "#Direccion Alfabetica\n",
    "l1_a =6 #medido a ejes\n",
    "l2_a =4 #medido a ejes\n",
    "da_a =((a4+a4)/(a1+a2))*(l2_a/l1_a)**2\n",
    "#Direccion Numerica\n",
    "da_n =da_a**-1"
   ]
  },
  {
   "cell_type": "markdown",
   "metadata": {},
   "source": [
    "## Paño 4"
   ]
  },
  {
   "cell_type": "code",
   "execution_count": 142,
   "metadata": {},
   "outputs": [
    {
     "data": {
      "text/plain": "<IPython.core.display.Latex object>",
      "text/latex": "\\[\n\\begin{aligned}\n\\mathrm{l1}_{a} &= 6 \\; \\;\\textrm{(medido a ejes)}\n &\\mathrm{l2}_{a} &= 4 \\; \\;\\textrm{(medido a ejes)}\n &\\mathrm{da}_{a} &= 0.08 \\; \n\\\\[10pt]\n \\mathrm{da}_{n} &= 12.40 \\;\n\\end{aligned}\n\\]"
     },
     "metadata": {},
     "output_type": "display_data"
    }
   ],
   "source": [
    "%%render params 2\n",
    "#Direccion Alfabetica\n",
    "l1_a =6 #medido a ejes\n",
    "l2_a =4 #medido a ejes\n",
    "da_a =((a4+a4)/(a2+a2))*(l2_a/l1_a)**2\n",
    "#Direccion Numerica\n",
    "da_n =da_a**-1"
   ]
  },
  {
   "cell_type": "markdown",
   "metadata": {},
   "source": [
    "Como es de notar todos los paños cumplen con la restriccion dada por el metodo, que dice lo siguiente:\n",
    "$$0.5<\\frac{\\alpha_1*l_1^2}{\\alpha_2*l_2^2}<5$$"
   ]
  },
  {
   "cell_type": "markdown",
   "metadata": {},
   "source": [
    "## Verificacion del peralte asumido\n",
    "La verificacion se realizara para el paño crítico\n"
   ]
  },
  {
   "cell_type": "markdown",
   "metadata": {},
   "source": [
    "### Determinacion de parametros"
   ]
  },
  {
   "cell_type": "code",
   "execution_count": 143,
   "metadata": {},
   "outputs": [
    {
     "data": {
      "text/plain": "<IPython.core.display.Latex object>",
      "text/latex": "\\[\n\\begin{aligned}\n\\mathrm{b1} &= 1.22 \\; \\;\\textrm{(Paño mas critico)}\n &\\mathrm{b2} &= 1.22 \\; \n &\\mathrm{b3} &= 1.56 \\; \n\\\\[10pt]\n \\mathrm{b4} &= 1.56 \\;\n\\end{aligned}\n\\]"
     },
     "metadata": {},
     "output_type": "display_data"
    }
   ],
   "source": [
    "%%render params 2\n",
    "b1 =(6-.45)/(5-.45) #Paño mas critico\n",
    "b2 =(6-.45)/(5-.45)\n",
    "b3 =(6-.45)/(4-.45)\n",
    "b4 =(6-.45)/(4-.45)"
   ]
  },
  {
   "cell_type": "code",
   "execution_count": 144,
   "metadata": {},
   "outputs": [
    {
     "data": {
      "text/plain": "<IPython.core.display.Latex object>",
      "text/latex": "\\[\n\\begin{aligned}\n\\mathrm{lc} &= 5 \\; \n\\\\[10pt]\n\\mathrm{ll} &= 6 \\; \n\\\\[10pt]\nP &= 2 \\cdot \\left( \\mathrm{lc} + \\mathrm{ll} \\right)  = 2 \\cdot \\left( 5 + 6 \\right) &= 22  \n\\\\[10pt]\n\\mathrm{bs} &= \\frac{ \\mathrm{lc} + \\mathrm{ll} }{ P }  = \\frac{ 5 + 6 }{ 22 } &= 0.500  \n\\\\[10pt]\n\\mathrm{am} &= \\frac{ \\mathrm{a1} + \\mathrm{a2} + \\mathrm{a3} + \\mathrm{a4} }{ 4 }  = \\frac{ 4.230 + 2.700 + 5.000 + 0.490 }{ 4 } &= 3.105 \\; \\;\\textrm{(Promedio de los parametros alfa)}\n\\\\[10pt]\n\\mathrm{h1} &= \\left( \\mathrm{ll} \\cdot \\frac{ 800 + 0.071 \\cdot 4200 }{ 36000 + 5000 \\cdot \\mathrm{b1} \\cdot \\left( \\mathrm{am} - 0.5 \\cdot \\left( 1 - \\mathrm{bs} \\right) \\cdot \\left( 1 + \\frac{ 1 }{ \\mathrm{b1} } \\right) \\right) } \\right) \\cdot 1 \\times 10 ^ {2} \\\\&= \\left( 6 \\cdot \\frac{ 800 + 0.071 \\cdot 4200 }{ 36000 + 5000 \\cdot 1.220 \\cdot \\left( 3.105 - 0.5 \\cdot \\left( 1 - 0.500 \\right) \\cdot \\left( 1 + \\frac{ 1 }{ 1.220 } \\right) \\right) } \\right) \\cdot 1 \\times 10 ^ {2} \\\\&= 12.632 \\; \\;\\textrm{(cm x1e2)}\\\\[10pt]\n\\\\[10pt]\n\\mathrm{h2} &= \\left( \\mathrm{ll} \\cdot \\frac{ 800 + 0.071 \\cdot 4200 }{ 36000 + 5000 \\cdot \\mathrm{b1} \\cdot \\left( 1 + \\mathrm{bs} \\right) } \\right) \\cdot 1 \\times 10 ^ {2} \\\\&= \\left( 6 \\cdot \\frac{ 800 + 0.071 \\cdot 4200 }{ 36000 + 5000 \\cdot 1.220 \\cdot \\left( 1 + 0.500 \\right) } \\right) \\cdot 1 \\times 10 ^ {2} \\\\&= 14.595 \\; \\;\\textrm{(cm x1e2)}\\\\[10pt]\n\\\\[10pt]\n\\mathrm{h3} &= \\left( \\mathrm{ll} \\cdot \\frac{ 800 + 0.071 \\cdot 4200 }{ 36000 } \\right) \\cdot 1 \\times 10 ^ {2}  = \\left( 6 \\cdot \\frac{ 800 + 0.071 \\cdot 4200 }{ 36000 } \\right) \\cdot 1 \\times 10 ^ {2} &= 18.303 \\; \\;\\textrm{(cm x1e2)}\n\\end{aligned}\n\\]"
     },
     "metadata": {},
     "output_type": "display_data"
    }
   ],
   "source": [
    "%%render\n",
    "#Analizando el paño mas critico\n",
    "lc =5\n",
    "ll =6\n",
    "P =2*(lc+ll)\n",
    "bs =(lc+ll)/P\n",
    "am =(a1+a2+a3+a4)/4 #Promedio de los parametros alfa\n",
    "h1 =(ll*(800+0.071*4200)/(36000+5000*b1*(am-0.5*(1-bs)*(1+1/b1))))*1e2 #cm x1e2\n",
    "h2 =(ll*(800+0.071*4200)/(36000+5000*b1*(1+bs)))*1e2 #cm x1e2\n",
    "h3 =(ll*(800+0.071*4200)/36000)*1e2 #cm x1e2"
   ]
  },
  {
   "cell_type": "markdown",
   "metadata": {},
   "source": [
    "Recordemos que el peralte asumido es de 15 cm, el cual esta entre 14.60 y 18.03"
   ]
  },
  {
   "cell_type": "markdown",
   "metadata": {},
   "source": [
    "# Determinacion de los momentos estaticos"
   ]
  },
  {
   "cell_type": "markdown",
   "metadata": {},
   "source": [
    "## Ejes Alfabeticos\n"
   ]
  },
  {
   "cell_type": "code",
   "execution_count": 145,
   "metadata": {},
   "outputs": [
    {
     "data": {
      "text/plain": "<IPython.core.display.Latex object>",
      "text/latex": "\\[\n\\begin{aligned}\n\\mathrm{cm} &= 0.460 \\; \n\\\\[10pt]\n\\mathrm{cv} &= 0.500 \\; \n\\\\[10pt]\n\\mathrm{wu} &= 1.494 \\; \n\\\\[10pt]\n\\mathrm{af1} &= \\frac{ 5 }{ 2 } + \\frac{ 0.45 }{ 2 } &= 2.725 \\; \\;\\textrm{(franja de analisis)}\n\\\\[10pt]\n\\mathrm{ln} &= 6 - 0.45 &= 5.550 \\; \\;\\textrm{(Direccion de analisis)}\n\\\\[10pt]\n\\mathrm{me1} &= \\frac{ \\mathrm{wu} \\cdot \\mathrm{af1} \\cdot \\left( \\mathrm{ln} \\right) ^{ 2 } }{ 8 }  = \\frac{ 1.494 \\cdot 2.725 \\cdot \\left( 5.550 \\right) ^{ 2 } }{ 8 } &= 15.675 \\; \\;\\textrm{((Eje A))}\n\\\\[10pt]\n\\mathrm{af2} &= 2.5 + 2 &= 4.500 \\; \\;\\textrm{(franja de analisis)}\n\\\\[10pt]\n\\mathrm{ln} &= 6 - 0.45 &= 5.550 \\; \\;\\textrm{(Direccion de analisis)}\n\\\\[10pt]\n\\mathrm{me2} &= \\frac{ \\mathrm{wu} \\cdot \\mathrm{af2} \\cdot \\left( \\mathrm{ln} \\right) ^{ 2 } }{ 8 }  = \\frac{ 1.494 \\cdot 4.500 \\cdot \\left( 5.550 \\right) ^{ 2 } }{ 8 } &= 25.886 \\; \\;\\textrm{((Eje B))}\n\\\\[10pt]\n\\mathrm{af3} &= 2 + 2.5 &= 4.500 \\; \\;\\textrm{(franja de a)}\n\\\\[10pt]\n\\mathrm{ln} &= 6 - 0.45 &= 5.550 \\; \\;\\textrm{(Direccion)}\n\\\\[10pt]\n\\mathrm{me3} &= \\frac{ \\mathrm{wu} \\cdot \\mathrm{af3} \\cdot \\left( \\mathrm{ln} \\right) ^{ 2 } }{ 8 }  = \\frac{ 1.494 \\cdot 4.500 \\cdot \\left( 5.550 \\right) ^{ 2 } }{ 8 } &= 25.886 \\; \\;\\textrm{((Eje C))}\n\\\\[10pt]\n\\mathrm{af4} &= 2.5 + \\frac{ 0.45 }{ 2 } &= 2.725 \\; \\;\\textrm{(franja de a)}\n\\\\[10pt]\n\\mathrm{ln} &= 6 - 0.45 &= 5.550 \\; \\;\\textrm{(Direccion)}\n\\\\[10pt]\n\\mathrm{me4} &= \\frac{ \\mathrm{wu} \\cdot \\mathrm{af4} \\cdot \\left( \\mathrm{ln} \\right) ^{ 2 } }{ 8 }  = \\frac{ 1.494 \\cdot 2.725 \\cdot \\left( 5.550 \\right) ^{ 2 } }{ 8 } &= 15.675 \\; \\;\\textrm{((Eje D))}\n\\end{aligned}\n\\]"
     },
     "metadata": {},
     "output_type": "display_data"
    }
   ],
   "source": [
    "%%render\n",
    "cm=0.46\n",
    "cv=0.5\n",
    "wu=1.4*cm+1.7*cv\n",
    "#Eje A\n",
    "af1 =5/2+0.45/2 #franja de analisis\n",
    "#Tramo 1-2/2-3/3-4\n",
    "ln =6-0.45 #Direccion de analisis\n",
    "me1 =(wu*af1*ln**2)/8 #(Eje A)\n",
    "#Eje B\n",
    "af2 =2.5+2 #franja de analisis\n",
    "#Tramo 1-2/2-3/3-4\n",
    "ln =6-0.45 #Direccion de analisis\n",
    "me2 =(wu*af2*ln**2)/8 #(Eje B)\n",
    "#Eje C\n",
    "af3 =2+2.5 #franja de a\n",
    "#Tramo 1-2/2-3/3-4\n",
    "ln =6-0.45 #Direccion\n",
    "me3 =(wu*af3*ln**2)/8 #(Eje C)\n",
    "#Eje D\n",
    "af4 =2.5+0.45/2 #franja de a\n",
    "#Tramo 1-2/2-3/3-4\n",
    "ln =6-0.45 #Direccion\n",
    "me4 =(wu*af4*ln**2)/8 #(Eje D)"
   ]
  },
  {
   "cell_type": "markdown",
   "metadata": {},
   "source": [
    "## Ejes Numericos"
   ]
  },
  {
   "cell_type": "code",
   "execution_count": 146,
   "metadata": {},
   "outputs": [
    {
     "data": {
      "text/plain": "<IPython.core.display.Latex object>",
      "text/latex": "\\[\n\\begin{aligned}\n\\mathrm{cm} &= 0.460 \\; \n\\\\[10pt]\n\\mathrm{cv} &= 0.500 \\; \n\\\\[10pt]\n\\mathrm{wu} &= 1.494 \\; \n\\\\[10pt]\n\\mathrm{af5} &= \\frac{ 6 }{ 2 } + \\frac{ 0.45 }{ 2 } &= 3.225 \\; \\;\\textrm{(franja de analisis)}\n\\\\[10pt]\n\\mathrm{ln} &= 5 - 0.45 &= 3.550 \\; \\;\\textrm{(Direccion de analisis)}\n\\\\[10pt]\n\\mathrm{me5} &= \\frac{ \\mathrm{wu} \\cdot \\mathrm{af5} \\cdot \\left( \\mathrm{ln} \\right) ^{ 2 } }{ 8 }  = \\frac{ 1.494 \\cdot 3.225 \\cdot \\left( 3.550 \\right) ^{ 2 } }{ 8 } &= 12.468  \n\\\\[10pt]\n\\mathrm{ln} &= 4 - 0.45 &= 3.550 \\; \\;\\textrm{(Direccion de analisis)}\n\\\\[10pt]\n\\mathrm{me5}_{2} &= \\frac{ \\mathrm{wu} \\cdot \\mathrm{af5} \\cdot \\left( \\mathrm{ln} \\right) ^{ 2 } }{ 8 }  = \\frac{ 1.494 \\cdot 3.225 \\cdot \\left( 3.550 \\right) ^{ 2 } }{ 8 } &= 7.590  \n\\\\[10pt]\n\\mathrm{af6} &= 3 + 3 &= 6 \\; \\;\\textrm{(franja de analisis)}\n\\\\[10pt]\n\\mathrm{ln} &= 5 - 0.45 &= 3.550 \\; \\;\\textrm{(Direccion de analisis)}\n\\\\[10pt]\n\\mathrm{me6} &= \\frac{ \\mathrm{wu} \\cdot \\mathrm{af6} \\cdot \\left( \\mathrm{ln} \\right) ^{ 2 } }{ 8 }  = \\frac{ 1.494 \\cdot 6 \\cdot \\left( 3.550 \\right) ^{ 2 } }{ 8 } &= 23.197  \n\\\\[10pt]\n\\mathrm{ln} &= 3.550 \\; \n\\\\[10pt]\n\\mathrm{me6}_{2} &= \\frac{ \\mathrm{wu} \\cdot \\mathrm{af6} \\cdot \\left( \\mathrm{ln} \\right) ^{ 2 } }{ 8 }  = \\frac{ 1.494 \\cdot 6 \\cdot \\left( 3.550 \\right) ^{ 2 } }{ 8 } &= 14.121  \n\\\\[10pt]\n\\mathrm{af7} &= 3 + 3 &= 6 \\; \\;\\textrm{(franja de a)}\n\\\\[10pt]\n\\mathrm{ln} &= 5 - 0.45 &= 3.550 \\; \\;\\textrm{(Direccion)}\n\\\\[10pt]\n\\mathrm{me7} &= \\frac{ \\mathrm{wu} \\cdot \\mathrm{af7} \\cdot \\left( \\mathrm{ln} \\right) ^{ 2 } }{ 8 }  = \\frac{ 1.494 \\cdot 6 \\cdot \\left( 3.550 \\right) ^{ 2 } }{ 8 } &= 23.197  \n\\\\[10pt]\n\\mathrm{ln} &= 4 - 0.45 &= 3.550 \\; \\;\\textrm{(Direccion)}\n\\\\[10pt]\n\\mathrm{me7}_{2} &= \\frac{ \\mathrm{wu} \\cdot \\mathrm{af7} \\cdot \\left( \\mathrm{ln} \\right) ^{ 2 } }{ 8 }  = \\frac{ 1.494 \\cdot 6 \\cdot \\left( 3.550 \\right) ^{ 2 } }{ 8 } &= 14.121  \n\\\\[10pt]\n\\mathrm{af8} &= 3 + \\frac{ 0.45 }{ 2 } &= 3.225 \\; \\;\\textrm{(franja de a)}\n\\\\[10pt]\n\\mathrm{ln} &= 5 - 0.45 &= 3.550 \\; \\;\\textrm{(Direccion)}\n\\\\[10pt]\n\\mathrm{me8} &= \\frac{ \\mathrm{wu} \\cdot \\mathrm{af8} \\cdot \\left( \\mathrm{ln} \\right) ^{ 2 } }{ 8 }  = \\frac{ 1.494 \\cdot 3.225 \\cdot \\left( 3.550 \\right) ^{ 2 } }{ 8 } &= 12.468  \n\\\\[10pt]\n\\mathrm{ln} &= 4 - 0.45 &= 3.550 \\; \\;\\textrm{(Direccion)}\n\\\\[10pt]\n\\mathrm{me8}_{2} &= \\frac{ \\mathrm{wu} \\cdot \\mathrm{af8} \\cdot \\left( \\mathrm{ln} \\right) ^{ 2 } }{ 8 }  = \\frac{ 1.494 \\cdot 3.225 \\cdot \\left( 3.550 \\right) ^{ 2 } }{ 8 } &= 7.590  \n\\end{aligned}\n\\]"
     },
     "metadata": {},
     "output_type": "display_data"
    }
   ],
   "source": [
    "%%render\n",
    "cm=0.46\n",
    "cv=0.5\n",
    "wu=1.4*cm+1.7*cv\n",
    "#Eje 1\n",
    "af5 =6/2+0.45/2 #franja de analisis\n",
    "#Tramo A-B/C-D\n",
    "ln =5-0.45 #Direccion de analisis\n",
    "me5 =(wu*af5*ln**2)/8\n",
    "#Tramo B-C\n",
    "ln =4-0.45 #Direccion de analisis\n",
    "me5_2 =(wu*af5*ln**2)/8\n",
    "#Eje 2\n",
    "af6 =3+3#franja de analisis\n",
    "#Tramo A-B/C-D\n",
    "ln =5-0.45 #Direccion de analisis\n",
    "me6 =(wu*af6*ln**2)/8\n",
    "#Tramo B-C\n",
    "ln=4-0.45\n",
    "me6_2 =(wu*af6*ln**2)/8\n",
    "#Eje 3\n",
    "af7 =3+3 #franja de a\n",
    "#Tramo A-B/C-D\n",
    "ln =5-0.45 #Direccion\n",
    "me7 =(wu*af7*ln**2)/8\n",
    "#Tramo B-C\n",
    "ln =4-0.45 #Direccion\n",
    "me7_2 =(wu*af7*ln**2)/8\n",
    "#Eje 4\n",
    "af8 =3+0.45/2 #franja de a\n",
    "#Tramo A-B/C-D\n",
    "ln =5-0.45 #Direccion\n",
    "me8 =(wu*af8*ln**2)/8\n",
    "#Tramo B-C\n",
    "ln =4-0.45 #Direccion\n",
    "me8_2 =(wu*af8*ln**2)/8"
   ]
  },
  {
   "cell_type": "markdown",
   "metadata": {},
   "source": [
    "Calculo para determinar la carga muerta y carga viva\n",
    "$$cm=2.4*0.15+0.1=0.46$$\n",
    "$$cv=0.5$$"
   ]
  },
  {
   "cell_type": "markdown",
   "metadata": {},
   "source": [
    "# Determinacion del momento estatico en momento positivo y negativo"
   ]
  },
  {
   "cell_type": "markdown",
   "metadata": {},
   "source": [
    "### Eje Alfabetico"
   ]
  },
  {
   "cell_type": "code",
   "execution_count": 147,
   "metadata": {},
   "outputs": [
    {
     "data": {
      "text/plain": "<IPython.core.display.Latex object>",
      "text/latex": "\\[\n\\begin{aligned}\n\\mathrm{mna12i} &= 0.16 \\cdot \\mathrm{me1}  = 0.16 \\cdot 15.675 &= 2.508 \\; \\;\\textrm{(Momento Negativo(Tramo 1-2))}\n\\\\[10pt]\n\\mathrm{mpa12} &= 0.57 \\cdot \\mathrm{me1}  = 0.57 \\cdot 15.675 &= 8.935 \\; \\;\\textrm{(Momento Positivo(Tramo 1-2))}\n\\\\[10pt]\n\\mathrm{mna12d} &= 0.7 \\cdot \\mathrm{me1}  = 0.7 \\cdot 15.675 &= 10.973 \\; \\;\\textrm{(Momento Negativo(Tramo 1-2))}\n\\\\[10pt]\n\\mathrm{mna23i} &= 0.65 \\cdot \\mathrm{me1}  = 0.65 \\cdot 15.675 &= 10.189 \\; \\;\\textrm{(Momento Negativo(Tramo 2-3))}\n\\\\[10pt]\n\\mathrm{mpa23} &= 0.35 \\cdot \\mathrm{me1}  = 0.35 \\cdot 15.675 &= 5.486 \\; \\;\\textrm{(Momento Positivo(Tramo 2-3))}\n\\\\[10pt]\n\\mathrm{mna23d} &= 0.65 \\cdot \\mathrm{me1}  = 0.65 \\cdot 15.675 &= 10.189 \\; \\;\\textrm{(Momento Negativo(Tramo 2-3))}\n\\\\[10pt]\n\\mathrm{mna34i} &= 0.7 \\cdot \\mathrm{me1}  = 0.7 \\cdot 15.675 &= 10.973 \\; \\;\\textrm{(Momento Negativo(Tramo 3-4))}\n\\\\[10pt]\n\\mathrm{mpa34} &= 0.57 \\cdot \\mathrm{me1}  = 0.57 \\cdot 15.675 &= 8.935 \\; \\;\\textrm{(Momento Positivo(Tramo 3-4))}\n\\\\[10pt]\n\\mathrm{mna34d} &= 0.16 \\cdot \\mathrm{me1}  = 0.16 \\cdot 15.675 &= 2.508 \\; \\;\\textrm{(Momento Negativo(Tramo 3-4))}\n\\end{aligned}\n\\]"
     },
     "metadata": {},
     "output_type": "display_data"
    }
   ],
   "source": [
    "%%render\n",
    "#Eje A\n",
    "#Tramo 1-2\n",
    "mna12i =0.16*me1 #Momento Negativo(Tramo 1-2)\n",
    "mpa12 =0.57*me1 #Momento Positivo(Tramo 1-2)\n",
    "mna12d =0.7*me1 #Momento Negativo(Tramo 1-2)\n",
    "#Tramo 2-3\n",
    "mna23i =0.65*me1 #Momento Negativo(Tramo 2-3)\n",
    "mpa23 =0.35*me1 #Momento Positivo(Tramo 2-3)\n",
    "mna23d =0.65*me1 #Momento Negativo(Tramo 2-3)\n",
    "#Tramo 3-4\n",
    "mna34i =0.7*me1 #Momento Negativo(Tramo 3-4)\n",
    "mpa34 =0.57*me1 #Momento Positivo(Tramo 3-4)\n",
    "mna34d =0.16*me1 #Momento Negativo(Tramo 3-4)"
   ]
  },
  {
   "cell_type": "code",
   "execution_count": 148,
   "metadata": {},
   "outputs": [
    {
     "data": {
      "text/plain": "<IPython.core.display.Latex object>",
      "text/latex": "\\[\n\\begin{aligned}\n\\mathrm{mnb12i} &= 0.16 \\cdot \\mathrm{me2}  = 0.16 \\cdot 25.886 &= 4.142 \\; \\;\\textrm{(Momento Negativo(Tramo 1-2))}\n\\\\[10pt]\n\\mathrm{mpb12} &= 0.57 \\cdot \\mathrm{me2}  = 0.57 \\cdot 25.886 &= 14.755 \\; \\;\\textrm{(Momento Positivo(Tramo 1-2))}\n\\\\[10pt]\n\\mathrm{mnb12d} &= 0.7 \\cdot \\mathrm{me2}  = 0.7 \\cdot 25.886 &= 18.120 \\; \\;\\textrm{(Momento Negativo(Tramo 1-2))}\n\\\\[10pt]\n\\mathrm{mnb23i} &= 0.65 \\cdot \\mathrm{me2}  = 0.65 \\cdot 25.886 &= 16.826 \\; \\;\\textrm{(Momento Negativo(Tramo 2-3))}\n\\\\[10pt]\n\\mathrm{mpb23} &= 0.35 \\cdot \\mathrm{me2}  = 0.35 \\cdot 25.886 &= 9.060 \\; \\;\\textrm{(Momento Positivo(Tramo 2-3))}\n\\\\[10pt]\n\\mathrm{mnb23d} &= 0.65 \\cdot \\mathrm{me2}  = 0.65 \\cdot 25.886 &= 16.826 \\; \\;\\textrm{(Momento Negativo(Tramo 2-3))}\n\\\\[10pt]\n\\mathrm{mnb34i} &= 0.7 \\cdot \\mathrm{me2}  = 0.7 \\cdot 25.886 &= 18.120 \\; \\;\\textrm{(Momento Negativo(Tramo 3-4))}\n\\\\[10pt]\n\\mathrm{mpb34} &= 0.57 \\cdot \\mathrm{me2}  = 0.57 \\cdot 25.886 &= 14.755 \\; \\;\\textrm{(Momento Positivo(Tramo 3-4))}\n\\\\[10pt]\n\\mathrm{mnb34d} &= 0.16 \\cdot \\mathrm{me2}  = 0.16 \\cdot 25.886 &= 4.142 \\; \\;\\textrm{(Momento Negativo(Tramo 3-4))}\n\\end{aligned}\n\\]"
     },
     "metadata": {},
     "output_type": "display_data"
    }
   ],
   "source": [
    "%%render\n",
    "#Eje B\n",
    "#Tramo 1-2\n",
    "mnb12i =0.16*me2 #Momento Negativo(Tramo 1-2)\n",
    "mpb12 =0.57*me2 #Momento Positivo(Tramo 1-2)\n",
    "mnb12d =0.7*me2 #Momento Negativo(Tramo 1-2)\n",
    "#Tramo 2-3\n",
    "mnb23i =0.65*me2 #Momento Negativo(Tramo 2-3)\n",
    "mpb23 =0.35*me2 #Momento Positivo(Tramo 2-3)\n",
    "mnb23d =0.65*me2 #Momento Negativo(Tramo 2-3)\n",
    "#Tramo 3-4\n",
    "mnb34i =0.7*me2 #Momento Negativo(Tramo 3-4)\n",
    "mpb34 =0.57*me2 #Momento Positivo(Tramo 3-4)\n",
    "mnb34d =0.16*me2 #Momento Negativo(Tramo 3-4)"
   ]
  },
  {
   "cell_type": "code",
   "execution_count": 149,
   "metadata": {},
   "outputs": [
    {
     "data": {
      "text/plain": "<IPython.core.display.Latex object>",
      "text/latex": "\\[\n\\begin{aligned}\n\\mathrm{mnc12i} &= 0.16 \\cdot \\mathrm{me3}  = 0.16 \\cdot 25.886 &= 4.142 \\; \\;\\textrm{(Momento Negativo(Tramo 1-2))}\n\\\\[10pt]\n\\mathrm{mpc12} &= 0.57 \\cdot \\mathrm{me3}  = 0.57 \\cdot 25.886 &= 14.755 \\; \\;\\textrm{(Momento Positivo(Tramo 1-2))}\n\\\\[10pt]\n\\mathrm{mnc12d} &= 0.7 \\cdot \\mathrm{me3}  = 0.7 \\cdot 25.886 &= 18.120 \\; \\;\\textrm{(Momento Negativo(Tramo 1-2))}\n\\\\[10pt]\n\\mathrm{mnc23i} &= 0.65 \\cdot \\mathrm{me3}  = 0.65 \\cdot 25.886 &= 16.826 \\; \\;\\textrm{(Momento Negativo(Tramo 2-3))}\n\\\\[10pt]\n\\mathrm{mpc23} &= 0.35 \\cdot \\mathrm{me3}  = 0.35 \\cdot 25.886 &= 9.060 \\; \\;\\textrm{(Momento Positivo(Tramo 2-3))}\n\\\\[10pt]\n\\mathrm{mnc23d} &= 0.65 \\cdot \\mathrm{me3}  = 0.65 \\cdot 25.886 &= 16.826 \\; \\;\\textrm{(Momento Negativo(Tramo 2-3))}\n\\\\[10pt]\n\\mathrm{mnc34i} &= 0.7 \\cdot \\mathrm{me3}  = 0.7 \\cdot 25.886 &= 18.120 \\; \\;\\textrm{(Momento Negativo(Tramo 3-4))}\n\\\\[10pt]\n\\mathrm{mpc34} &= 0.57 \\cdot \\mathrm{me3}  = 0.57 \\cdot 25.886 &= 14.755 \\; \\;\\textrm{(Momento Positivo(Tramo 3-4))}\n\\\\[10pt]\n\\mathrm{mnc34d} &= 0.16 \\cdot \\mathrm{me3}  = 0.16 \\cdot 25.886 &= 4.142 \\; \\;\\textrm{(Momento Negativo(Tramo 3-4))}\n\\end{aligned}\n\\]"
     },
     "metadata": {},
     "output_type": "display_data"
    }
   ],
   "source": [
    "%%render\n",
    "#Eje C\n",
    "#Tramo 1-2\n",
    "mnc12i =0.16*me3 #Momento Negativo(Tramo 1-2)\n",
    "mpc12 =0.57*me3 #Momento Positivo(Tramo 1-2)\n",
    "mnc12d =0.7*me3 #Momento Negativo(Tramo 1-2)\n",
    "#Tramo 2-3\n",
    "mnc23i =0.65*me3 #Momento Negativo(Tramo 2-3)\n",
    "mpc23 =0.35*me3 #Momento Positivo(Tramo 2-3)\n",
    "mnc23d =0.65*me3 #Momento Negativo(Tramo 2-3)\n",
    "#Tramo 3-4\n",
    "mnc34i =0.7*me3 #Momento Negativo(Tramo 3-4)\n",
    "mpc34 =0.57*me3 #Momento Positivo(Tramo 3-4)\n",
    "mnc34d =0.16*me3 #Momento Negativo(Tramo 3-4)"
   ]
  },
  {
   "cell_type": "code",
   "execution_count": 150,
   "metadata": {},
   "outputs": [
    {
     "data": {
      "text/plain": "<IPython.core.display.Latex object>",
      "text/latex": "\\[\n\\begin{aligned}\n\\mathrm{mnd12i} &= 0.16 \\cdot \\mathrm{me4}  = 0.16 \\cdot 15.675 &= 2.508 \\; \\;\\textrm{(Momento Negativo(Tramo 1-2))}\n\\\\[10pt]\n\\mathrm{mpd12} &= 0.57 \\cdot \\mathrm{me4}  = 0.57 \\cdot 15.675 &= 8.935 \\; \\;\\textrm{(Momento Positivo(Tramo 1-2))}\n\\\\[10pt]\n\\mathrm{mnd12d} &= 0.7 \\cdot \\mathrm{me4}  = 0.7 \\cdot 15.675 &= 10.973 \\; \\;\\textrm{(Momento Negativo(Tramo 1-2))}\n\\\\[10pt]\n\\mathrm{mnd23i} &= 0.65 \\cdot \\mathrm{me4}  = 0.65 \\cdot 15.675 &= 10.189 \\; \\;\\textrm{(Momento Negativo(Tramo 2-3))}\n\\\\[10pt]\n\\mathrm{mpd23} &= 0.35 \\cdot \\mathrm{me4}  = 0.35 \\cdot 15.675 &= 5.486 \\; \\;\\textrm{(Momento Positivo(Tramo 2-3))}\n\\\\[10pt]\n\\mathrm{mnd23d} &= 0.65 \\cdot \\mathrm{me4}  = 0.65 \\cdot 15.675 &= 10.189 \\; \\;\\textrm{(Momento Negativo(Tramo 2-3))}\n\\\\[10pt]\n\\mathrm{mnd34i} &= 0.7 \\cdot \\mathrm{me4}  = 0.7 \\cdot 15.675 &= 10.973 \\; \\;\\textrm{(Momento Negativo(Tramo 3-4))}\n\\\\[10pt]\n\\mathrm{mpd34} &= 0.57 \\cdot \\mathrm{me4}  = 0.57 \\cdot 15.675 &= 8.935 \\; \\;\\textrm{(Momento Positivo(Tramo 3-4))}\n\\\\[10pt]\n\\mathrm{mnd34d} &= 0.16 \\cdot \\mathrm{me4}  = 0.16 \\cdot 15.675 &= 2.508 \\; \\;\\textrm{(Momento Negativo(Tramo 3-4))}\n\\end{aligned}\n\\]"
     },
     "metadata": {},
     "output_type": "display_data"
    }
   ],
   "source": [
    "%%render\n",
    "#Eje D\n",
    "#Tramo 1-2\n",
    "mnd12i =0.16*me4 #Momento Negativo(Tramo 1-2)\n",
    "mpd12 =0.57*me4 #Momento Positivo(Tramo 1-2)\n",
    "mnd12d =0.7*me4 #Momento Negativo(Tramo 1-2)\n",
    "#Tramo 2-3\n",
    "mnd23i =0.65*me4 #Momento Negativo(Tramo 2-3)\n",
    "mpd23 =0.35*me4 #Momento Positivo(Tramo 2-3)\n",
    "mnd23d =0.65*me4 #Momento Negativo(Tramo 2-3)\n",
    "#Tramo 3-4\n",
    "mnd34i =0.7*me4 #Momento Negativo(Tramo 3-4)\n",
    "mpd34 =0.57*me4 #Momento Positivo(Tramo 3-4)\n",
    "mnd34d =0.16*me4 #Momento Negativo(Tramo 3-4)"
   ]
  },
  {
   "cell_type": "markdown",
   "source": [
    "## Eje Numerico"
   ],
   "metadata": {
    "collapsed": false
   }
  },
  {
   "cell_type": "code",
   "execution_count": 151,
   "outputs": [
    {
     "data": {
      "text/plain": "<IPython.core.display.Latex object>",
      "text/latex": "\\[\n\\begin{aligned}\n\\mathrm{mn1abi} &= 0.16 \\cdot \\mathrm{me5}  = 0.16 \\cdot 12.468 &= 1.995 \\; \\;\\textrm{(Momento Negativo(Tramo A-B))}\n\\\\[10pt]\n\\mathrm{mp1ab} &= 0.57 \\cdot \\mathrm{me5}  = 0.57 \\cdot 12.468 &= 7.107 \\; \\;\\textrm{(Momento Positivo(Tramo A-B))}\n\\\\[10pt]\n\\mathrm{mn1abd} &= 0.7 \\cdot \\mathrm{me5}  = 0.7 \\cdot 12.468 &= 8.728 \\; \\;\\textrm{(Momento Negativo(Tramo A-B))}\n\\\\[10pt]\n\\mathrm{mn1bci} &= 0.65 \\cdot \\mathrm{me5}_{2}  = 0.65 \\cdot 7.590 &= 4.934 \\; \\;\\textrm{(Momento Negativo(Tramo A-B))}\n\\\\[10pt]\n\\mathrm{mp1bc} &= 0.35 \\cdot \\mathrm{me5}_{2}  = 0.35 \\cdot 7.590 &= 2.657 \\; \\;\\textrm{(Momento Positivo(Tramo A-B))}\n\\\\[10pt]\n\\mathrm{mn1bcd} &= 0.65 \\cdot \\mathrm{me5}_{2}  = 0.65 \\cdot 7.590 &= 4.934 \\; \\;\\textrm{(Momento Negativo(Tramo A-B))}\n\\\\[10pt]\n\\mathrm{mn1cdi} &= 0.7 \\cdot \\mathrm{me5}  = 0.7 \\cdot 12.468 &= 8.728 \\; \\;\\textrm{(Momento Negativo(Tramo A-B))}\n\\\\[10pt]\n\\mathrm{mp1cd} &= 0.57 \\cdot \\mathrm{me5}  = 0.57 \\cdot 12.468 &= 7.107 \\; \\;\\textrm{(Momento Positivo(Tramo A-B))}\n\\\\[10pt]\n\\mathrm{mn1cdd} &= 0.16 \\cdot \\mathrm{me5}  = 0.16 \\cdot 12.468 &= 1.995 \\; \\;\\textrm{(Momento Negativo(Tramo A-B))}\n\\end{aligned}\n\\]"
     },
     "metadata": {},
     "output_type": "display_data"
    }
   ],
   "source": [
    "%%render\n",
    "#Eje 1\n",
    "#Tramo A-B\n",
    "mn1abi =0.16*me5 #Momento Negativo(Tramo A-B)\n",
    "mp1ab =0.57*me5 #Momento Positivo(Tramo A-B)\n",
    "mn1abd =0.7*me5 #Momento Negativo(Tramo A-B)\n",
    "#Tramo B-C\n",
    "mn1bci =0.65*me5_2 #Momento Negativo(Tramo A-B)\n",
    "mp1bc =0.35*me5_2 #Momento Positivo(Tramo A-B)\n",
    "mn1bcd =0.65*me5_2 #Momento Negativo(Tramo A-B)\n",
    "#Tramo C-D\n",
    "mn1cdi =0.7*me5 #Momento Negativo(Tramo A-B)\n",
    "mp1cd =0.57*me5 #Momento Positivo(Tramo A-B)\n",
    "mn1cdd =0.16*me5 #Momento Negativo(Tramo A-B)\n",
    "\n"
   ],
   "metadata": {
    "collapsed": false
   }
  },
  {
   "cell_type": "code",
   "execution_count": 152,
   "outputs": [
    {
     "data": {
      "text/plain": "<IPython.core.display.Latex object>",
      "text/latex": "\\[\n\\begin{aligned}\n\\mathrm{mn2abi} &= 0.16 \\cdot \\mathrm{me6}  = 0.16 \\cdot 23.197 &= 3.712 \\; \\;\\textrm{(Momento Negativo(Tramo A-B))}\n\\\\[10pt]\n\\mathrm{mp2ab} &= 0.57 \\cdot \\mathrm{me6}  = 0.57 \\cdot 23.197 &= 13.222 \\; \\;\\textrm{(Momento Positivo(Tramo A-B))}\n\\\\[10pt]\n\\mathrm{mn2abd} &= 0.7 \\cdot \\mathrm{me6}  = 0.7 \\cdot 23.197 &= 16.238 \\; \\;\\textrm{(Momento Negativo(Tramo A-B))}\n\\\\[10pt]\n\\mathrm{mn2bci} &= 0.65 \\cdot \\mathrm{me6}_{2}  = 0.65 \\cdot 14.121 &= 9.179 \\; \\;\\textrm{(Momento Negativo(Tramo A-B))}\n\\\\[10pt]\n\\mathrm{mp2bc} &= 0.35 \\cdot \\mathrm{me6}_{2}  = 0.35 \\cdot 14.121 &= 4.942 \\; \\;\\textrm{(Momento Positivo(Tramo A-B))}\n\\\\[10pt]\n\\mathrm{mn2bcd} &= 0.65 \\cdot \\mathrm{me6}_{2}  = 0.65 \\cdot 14.121 &= 9.179 \\; \\;\\textrm{(Momento Negativo(Tramo A-B))}\n\\\\[10pt]\n\\mathrm{mn2cdi} &= 0.7 \\cdot \\mathrm{me6}  = 0.7 \\cdot 23.197 &= 16.238 \\; \\;\\textrm{(Momento Negativo(Tramo A-B))}\n\\\\[10pt]\n\\mathrm{mp2cd} &= 0.57 \\cdot \\mathrm{me6}  = 0.57 \\cdot 23.197 &= 13.222 \\; \\;\\textrm{(Momento Positivo(Tramo A-B))}\n\\\\[10pt]\n\\mathrm{mn2cdd} &= 0.16 \\cdot \\mathrm{me6}  = 0.16 \\cdot 23.197 &= 3.712 \\; \\;\\textrm{(Momento Negativo(Tramo A-B))}\n\\end{aligned}\n\\]"
     },
     "metadata": {},
     "output_type": "display_data"
    }
   ],
   "source": [
    "%%render\n",
    "#Eje 2\n",
    "#Tramo A-B\n",
    "mn2abi =0.16*me6 #Momento Negativo(Tramo A-B)\n",
    "mp2ab =0.57*me6 #Momento Positivo(Tramo A-B)\n",
    "mn2abd =0.7*me6 #Momento Negativo(Tramo A-B)\n",
    "#Tramo B-C\n",
    "mn2bci =0.65*me6_2 #Momento Negativo(Tramo A-B)\n",
    "mp2bc =0.35*me6_2 #Momento Positivo(Tramo A-B)\n",
    "mn2bcd =0.65*me6_2 #Momento Negativo(Tramo A-B)\n",
    "#Tramo C-D\n",
    "mn2cdi =0.7*me6 #Momento Negativo(Tramo A-B)\n",
    "mp2cd =0.57*me6 #Momento Positivo(Tramo A-B)\n",
    "mn2cdd =0.16*me6 #Momento Negativo(Tramo A-B)"
   ],
   "metadata": {
    "collapsed": false
   }
  },
  {
   "cell_type": "code",
   "execution_count": 153,
   "outputs": [
    {
     "data": {
      "text/plain": "<IPython.core.display.Latex object>",
      "text/latex": "\\[\n\\begin{aligned}\n\\mathrm{mn3abi} &= 0.16 \\cdot \\mathrm{me7}  = 0.16 \\cdot 23.197 &= 3.712 \\; \\;\\textrm{(Momento Negativo(Tramo A-B))}\n\\\\[10pt]\n\\mathrm{mp3ab} &= 0.57 \\cdot \\mathrm{me7}  = 0.57 \\cdot 23.197 &= 13.222 \\; \\;\\textrm{(Momento Positivo(Tramo A-B))}\n\\\\[10pt]\n\\mathrm{mn3abd} &= 0.7 \\cdot \\mathrm{me7}  = 0.7 \\cdot 23.197 &= 16.238 \\; \\;\\textrm{(Momento Negativo(Tramo A-B))}\n\\\\[10pt]\n\\mathrm{mn3bci} &= 0.65 \\cdot \\mathrm{me7}_{2}  = 0.65 \\cdot 14.121 &= 9.179 \\; \\;\\textrm{(Momento Negativo(Tramo A-B))}\n\\\\[10pt]\n\\mathrm{mp3bc} &= 0.35 \\cdot \\mathrm{me7}_{2}  = 0.35 \\cdot 14.121 &= 4.942 \\; \\;\\textrm{(Momento Positivo(Tramo A-B))}\n\\\\[10pt]\n\\mathrm{mn3bcd} &= 0.65 \\cdot \\mathrm{me7}_{2}  = 0.65 \\cdot 14.121 &= 9.179 \\; \\;\\textrm{(Momento Negativo(Tramo A-B))}\n\\\\[10pt]\n\\mathrm{mn3cdi} &= 0.7 \\cdot \\mathrm{me7}  = 0.7 \\cdot 23.197 &= 16.238 \\; \\;\\textrm{(Momento Negativo(Tramo A-B))}\n\\\\[10pt]\n\\mathrm{mp3cd} &= 0.57 \\cdot \\mathrm{me7}  = 0.57 \\cdot 23.197 &= 13.222 \\; \\;\\textrm{(Momento Positivo(Tramo A-B))}\n\\\\[10pt]\n\\mathrm{mn3cdd} &= 0.16 \\cdot \\mathrm{me7}  = 0.16 \\cdot 23.197 &= 3.712 \\; \\;\\textrm{(Momento Negativo(Tramo A-B))}\n\\end{aligned}\n\\]"
     },
     "metadata": {},
     "output_type": "display_data"
    }
   ],
   "source": [
    "%%render\n",
    "#Eje 3\n",
    "#Tramo A-B\n",
    "mn3abi =0.16*me7 #Momento Negativo(Tramo A-B)\n",
    "mp3ab =0.57*me7 #Momento Positivo(Tramo A-B)\n",
    "mn3abd =0.7*me7 #Momento Negativo(Tramo A-B)\n",
    "#Tramo B-C\n",
    "mn3bci =0.65*me7_2 #Momento Negativo(Tramo A-B)\n",
    "mp3bc =0.35*me7_2 #Momento Positivo(Tramo A-B)\n",
    "mn3bcd =0.65*me7_2 #Momento Negativo(Tramo A-B)\n",
    "#Tramo C-D\n",
    "mn3cdi =0.7*me7 #Momento Negativo(Tramo A-B)\n",
    "mp3cd =0.57*me7 #Momento Positivo(Tramo A-B)\n",
    "mn3cdd =0.16*me7 #Momento Negativo(Tramo A-B)"
   ],
   "metadata": {
    "collapsed": false
   }
  },
  {
   "cell_type": "code",
   "execution_count": 154,
   "outputs": [
    {
     "data": {
      "text/plain": "<IPython.core.display.Latex object>",
      "text/latex": "\\[\n\\begin{aligned}\n\\mathrm{mn4abi} &= 0.16 \\cdot \\mathrm{me8}  = 0.16 \\cdot 12.468 &= 1.995 \\; \\;\\textrm{(Momento Negativo(Tramo A-B))}\n\\\\[10pt]\n\\mathrm{mp4ab} &= 0.57 \\cdot \\mathrm{me8}  = 0.57 \\cdot 12.468 &= 7.107 \\; \\;\\textrm{(Momento Positivo(Tramo A-B))}\n\\\\[10pt]\n\\mathrm{mn4abd} &= 0.7 \\cdot \\mathrm{me8}  = 0.7 \\cdot 12.468 &= 8.728 \\; \\;\\textrm{(Momento Negativo(Tramo A-B))}\n\\\\[10pt]\n\\mathrm{mn4bci} &= 0.65 \\cdot \\mathrm{me8}_{2}  = 0.65 \\cdot 7.590 &= 4.934 \\; \\;\\textrm{(Momento Negativo(Tramo A-B))}\n\\\\[10pt]\n\\mathrm{mp4bc} &= 0.35 \\cdot \\mathrm{me8}_{2}  = 0.35 \\cdot 7.590 &= 2.657 \\; \\;\\textrm{(Momento Positivo(Tramo A-B))}\n\\\\[10pt]\n\\mathrm{mn4bcd} &= 0.65 \\cdot \\mathrm{me8}_{2}  = 0.65 \\cdot 7.590 &= 4.934 \\; \\;\\textrm{(Momento Negativo(Tramo A-B))}\n\\\\[10pt]\n\\mathrm{mn4cdi} &= 0.7 \\cdot \\mathrm{me8}  = 0.7 \\cdot 12.468 &= 8.728 \\; \\;\\textrm{(Momento Negativo(Tramo A-B))}\n\\\\[10pt]\n\\mathrm{mp4cd} &= 0.57 \\cdot \\mathrm{me8}  = 0.57 \\cdot 12.468 &= 7.107 \\; \\;\\textrm{(Momento Positivo(Tramo A-B))}\n\\\\[10pt]\n\\mathrm{mn4cdd} &= 0.16 \\cdot \\mathrm{me8}  = 0.16 \\cdot 12.468 &= 1.995 \\; \\;\\textrm{(Momento Negativo(Tramo A-B))}\n\\end{aligned}\n\\]"
     },
     "metadata": {},
     "output_type": "display_data"
    }
   ],
   "source": [
    "%%render\n",
    "#Eje 4\n",
    "#Tramo A-B\n",
    "mn4abi =0.16*me8 #Momento Negativo(Tramo A-B)\n",
    "mp4ab =0.57*me8 #Momento Positivo(Tramo A-B)\n",
    "mn4abd =0.7*me8 #Momento Negativo(Tramo A-B)\n",
    "#Tramo B-C\n",
    "mn4bci =0.65*me8_2 #Momento Negativo(Tramo A-B)\n",
    "mp4bc =0.35*me8_2 #Momento Positivo(Tramo A-B)\n",
    "mn4bcd =0.65*me8_2 #Momento Negativo(Tramo A-B)\n",
    "#Tramo C-D\n",
    "mn4cdi =0.7*me8 #Momento Negativo(Tramo A-B)\n",
    "mp4cd =0.57*me8 #Momento Positivo(Tramo A-B)\n",
    "mn4cdd =0.16*me8 #Momento Negativo(Tramo A-B)"
   ],
   "metadata": {
    "collapsed": false
   }
  },
  {
   "cell_type": "markdown",
   "metadata": {},
   "source": [
    "# Distribuir el momento estatico en el ancho de la franja de analisis"
   ]
  },
  {
   "cell_type": "markdown",
   "metadata": {},
   "source": [
    "Verificamos si existen efectos de cargas desfavorables. Considerar que el ba considerar las cargas a nivel de servicio, esto significa que se toma en cuenta el 100% de la sobrecarga."
   ]
  },
  {
   "cell_type": "code",
   "execution_count": 155,
   "metadata": {},
   "outputs": [
    {
     "data": {
      "text/plain": "<IPython.core.display.Latex object>",
      "text/latex": "\\[\n\\begin{aligned}\n\\mathrm{ba} &= 0.920 \\; \\;\\textrm{(ba<2 Considerar efectos de carga desfavorable)}\n\\end{aligned}\n\\]"
     },
     "metadata": {},
     "output_type": "display_data"
    }
   ],
   "source": [
    "%%render\n",
    "ba=cm/cv #ba<2 Considerar efectos de carga desfavorable"
   ]
  },
  {
   "cell_type": "code",
   "execution_count": 156,
   "metadata": {},
   "outputs": [
    {
     "data": {
      "text/plain": "<IPython.core.display.Latex object>",
      "text/latex": "\\[\n\\begin{aligned}\nI_{c} &= 341718.750 \\; \\;\\textrm{(Inercia de la Columna,cm4 x 1e8)}\n\\\\[10pt]\nl &= 300 \\; \\;\\textrm{(Longitud en cm x100)}\n\\\\[10pt]\n\\mathrm{kc} &= 1139.063 \\; \n\\end{aligned}\n\\]"
     },
     "metadata": {},
     "output_type": "display_data"
    }
   ],
   "source": [
    "%%render\n",
    "I_c=(0.45*0.45**3/12)*1e8 #Inercia de la Columna,cm4 x 1e8\n",
    "l=300 #Longitud en cm x100\n",
    "kc=I_c/l"
   ]
  },
  {
   "cell_type": "code",
   "execution_count": 157,
   "metadata": {},
   "outputs": [
    {
     "data": {
      "text/plain": "<IPython.core.display.Latex object>",
      "text/latex": "\\[\n\\begin{aligned}\nv &= \\frac{ \\mathrm{Ix3} }{ 600 }  = \\frac{ 383486.649 }{ 600 } &= 639.144  \n\\\\[10pt]\nl &= \\frac{ \\mathrm{Ix3}_{s} }{ 600 }  = \\frac{ 76640.625 }{ 600 } &= 127.734  \n\\\\[10pt]\n\\mathrm{r1} &= v + l  = 639.144 + 127.734 &= 766.879 \\; \\;\\textrm{(Direccion 1-2 Columna A1)}\n\\end{aligned}\n\\]"
     },
     "metadata": {},
     "output_type": "display_data"
    }
   ],
   "source": [
    "%%render\n",
    "v =Ix3/600\n",
    "l =Ix3_s/600\n",
    "r1 =v+l #Direccion 1-2 Columna A1"
   ]
  },
  {
   "cell_type": "code",
   "execution_count": 158,
   "metadata": {},
   "outputs": [
    {
     "data": {
      "text/plain": "<IPython.core.display.Latex object>",
      "text/latex": "\\[\n\\begin{aligned}\nv &= \\frac{ \\mathrm{Ix1} }{ 500 }  = \\frac{ 383486.649 }{ 500 } &= 766.973  \n\\\\[10pt]\nl &= \\frac{ \\mathrm{Ix1}_{s} }{ 500 }  = \\frac{ 90703.125 }{ 500 } &= 181.406  \n\\\\[10pt]\n\\mathrm{r2} &= v + l  = 766.973 + 181.406 &= 948.380 \\; \\;\\textrm{(Direccion A-B Columna A1)}\n\\end{aligned}\n\\]"
     },
     "metadata": {},
     "output_type": "display_data"
    }
   ],
   "source": [
    "%%render\n",
    "v =Ix1/(500)\n",
    "l =Ix1_s/(500)\n",
    "r2 =v+l #Direccion A-B Columna A1"
   ]
  },
  {
   "cell_type": "code",
   "execution_count": 159,
   "metadata": {},
   "outputs": [
    {
     "data": {
      "text/plain": "<IPython.core.display.Latex object>",
      "text/latex": "\\[\n\\begin{aligned}\na_{ca11d} &= \\frac{ \\mathrm{kc} }{ \\mathrm{r1} } \\cdot 2  = \\frac{ 1139.063 }{ 766.879 } \\cdot 2 &= 2.971  \n\\\\[10pt]\n\\mathrm{l2l11da1} &= \\frac{ 5 }{ 6 } &= 0.833  \n\\\\[10pt]\n\\mathrm{a1a1} &= \\frac{ \\mathrm{Ix3} }{ \\mathrm{Ix3}_{s} }  = \\frac{ 383486.649 }{ 76640.625 } &= 5.004  \n\\\\[10pt]\n& \\textrm{}\\\\[10pt]\na_{ca12d} &= \\frac{ \\mathrm{kc} }{ \\mathrm{r2} } \\cdot 2  = \\frac{ 1139.063 }{ 948.380 } \\cdot 2 &= 2.402  \n\\\\[10pt]\n\\mathrm{l2l12da1} &= \\frac{ 6 }{ 5 } &= 1.200  \n\\\\[10pt]\n\\mathrm{a2a1} &= \\frac{ \\mathrm{Ix1} }{ \\mathrm{Ix1}_{s} }  = \\frac{ 383486.649 }{ 90703.125 } &= 4.228  \n\\end{aligned}\n\\]"
     },
     "metadata": {},
     "output_type": "display_data"
    }
   ],
   "source": [
    "%%render\n",
    "a_ca11d =kc/(r1)*2\n",
    "l2l11da1 =5/6\n",
    "a1a1 =Ix3/Ix3_s\n",
    "################################\n",
    "a_ca12d =kc/(r2)*2\n",
    "l2l12da1 =6/5\n",
    "a2a1 =Ix1/Ix1_s"
   ]
  },
  {
   "cell_type": "code",
   "execution_count": 160,
   "metadata": {},
   "outputs": [
    {
     "data": {
      "text/plain": "<IPython.core.display.Latex object>",
      "text/latex": "\\[\n\\begin{aligned}\nv &= \\frac{ \\mathrm{Ix3} }{ 600 }  = \\frac{ 383486.649 }{ 600 } &= 639.144  \n\\\\[10pt]\nl &= \\frac{ \\mathrm{Ix3}_{s} }{ 600 }  = \\frac{ 76640.625 }{ 600 } &= 127.734  \n\\\\[10pt]\n\\mathrm{r1} &= v + l  = 639.144 + 127.734 &= 766.879 \\; \\;\\textrm{(Direccion 1-3 Columna A2)}\n\\end{aligned}\n\\]"
     },
     "metadata": {},
     "output_type": "display_data"
    }
   ],
   "source": [
    "%%render\n",
    "v = Ix3 / (600)\n",
    "l = Ix3_s / (600)\n",
    "r1 = v + l #Direccion 1-3 Columna A2"
   ]
  },
  {
   "cell_type": "code",
   "execution_count": 161,
   "metadata": {},
   "outputs": [
    {
     "data": {
      "text/plain": "<IPython.core.display.Latex object>",
      "text/latex": "\\[\n\\begin{aligned}\nv &= \\frac{ \\mathrm{Ix2} }{ 500 }  = \\frac{ 454866.395 }{ 500 } &= 909.733  \n\\\\[10pt]\nl &= \\frac{ \\mathrm{Ix2}_{s} }{ 500 }  = \\frac{ 168750.000 }{ 500 } &= 337.500  \n\\\\[10pt]\n\\mathrm{r2} &= v + l  = 909.733 + 337.500 &= 1247.233 \\; \\;\\textrm{(Direccion A-B Columna A2)}\n\\end{aligned}\n\\]"
     },
     "metadata": {},
     "output_type": "display_data"
    }
   ],
   "source": [
    "%%render\n",
    "v = Ix2 / (500)\n",
    "l = Ix2_s / (500)\n",
    "r2 = v + l #Direccion A-B Columna A2"
   ]
  },
  {
   "cell_type": "code",
   "execution_count": 162,
   "metadata": {},
   "outputs": [
    {
     "data": {
      "text/plain": "<IPython.core.display.Latex object>",
      "text/latex": "\\[\n\\begin{aligned}\na_{ca21d} &= \\frac{ \\mathrm{kc} }{ \\mathrm{r1} }  = \\frac{ 1139.063 }{ 766.879 } &= 1.485  \n\\\\[10pt]\n\\mathrm{l2l11da2} &= \\frac{ 5 }{ 12 } &= 0.417  \n\\\\[10pt]\n\\mathrm{a1a2} &= \\frac{ \\mathrm{Ix3} }{ \\mathrm{Ix3}_{s} }  = \\frac{ 383486.649 }{ 76640.625 } &= 5.004  \n\\\\[10pt]\n& \\textrm{}\\\\[10pt]\na_{ca22d} &= \\frac{ \\mathrm{kc} }{ \\mathrm{r2} } \\cdot 2  = \\frac{ 1139.063 }{ 1247.233 } \\cdot 2 &= 1.827  \n\\\\[10pt]\n\\mathrm{l2l12da2} &= \\frac{ 6 }{ 5 } &= 1.200  \n\\\\[10pt]\n\\mathrm{a2a2} &= \\frac{ \\mathrm{Ix2} }{ \\mathrm{Ix2}_{s} }  = \\frac{ 454866.395 }{ 168750.000 } &= 2.696  \n\\end{aligned}\n\\]"
     },
     "metadata": {},
     "output_type": "display_data"
    }
   ],
   "source": [
    "%%render\n",
    "a_ca21d =kc/(r1)\n",
    "l2l11da2 =5/12\n",
    "a1a2 =Ix3/Ix3_s\n",
    "############################\n",
    "a_ca22d =kc/(r2)*2\n",
    "l2l12da2 =6/5\n",
    "a2a2 =Ix2/Ix2_s"
   ]
  },
  {
   "cell_type": "code",
   "execution_count": 163,
   "metadata": {},
   "outputs": [
    {
     "data": {
      "text/plain": "<IPython.core.display.Latex object>",
      "text/latex": "\\[\n\\begin{aligned}\nv &= \\frac{ \\mathrm{Ix4} }{ 600 }  = \\frac{ 524245.235 }{ 600 } &= 873.742  \n\\\\[10pt]\nl &= \\frac{ \\mathrm{Ix4}_{s} }{ 600 }  = \\frac{ 1074218.750 }{ 600 } &= 1790.365  \n\\\\[10pt]\n\\mathrm{r1} &= v + l  = 873.742 + 1790.365 &= 2664.107 \\; \\;\\textrm{(Direccion 1-2 Columna B1)}\n\\end{aligned}\n\\]"
     },
     "metadata": {},
     "output_type": "display_data"
    }
   ],
   "source": [
    "%%render\n",
    "v = Ix4 / (600)\n",
    "l = Ix4_s / (600)\n",
    "r1 = v + l #Direccion 1-2 Columna B1"
   ]
  },
  {
   "cell_type": "code",
   "execution_count": 164,
   "metadata": {},
   "outputs": [
    {
     "data": {
      "text/plain": "<IPython.core.display.Latex object>",
      "text/latex": "\\[\n\\begin{aligned}\n\\mathrm{v1} &= \\frac{ \\mathrm{Ix1} }{ 500 }  = \\frac{ 383486.649 }{ 500 } &= 766.973  \n\\\\[10pt]\n\\mathrm{l1} &= \\frac{ \\mathrm{Ix1}_{s} }{ 500 }  = \\frac{ 90703.125 }{ 500 } &= 181.406  \n\\\\[10pt]\n\\mathrm{r2} &= \\mathrm{v1} + \\mathrm{l1}  = 766.973 + 181.406 &= 948.380 \\; \\;\\textrm{(Direccion A-C Columna B1)}\n\\\\[10pt]\n\\mathrm{v2} &= \\frac{ \\mathrm{Ix1} }{ 400 }  = \\frac{ 383486.649 }{ 400 } &= 958.717  \n\\\\[10pt]\n\\mathrm{l2} &= \\frac{ \\mathrm{Ix1}_{s} }{ 400 }  = \\frac{ 90703.125 }{ 400 } &= 226.758  \n\\\\[10pt]\n\\mathrm{r3} &= \\mathrm{v2} + \\mathrm{l2}  = 958.717 + 226.758 &= 1185.474 \\; \\;\\textrm{(Direccion A-C Columna B1)}\n\\end{aligned}\n\\]"
     },
     "metadata": {},
     "output_type": "display_data"
    }
   ],
   "source": [
    "%%render\n",
    "v1 = Ix1 / (500)\n",
    "l1 = Ix1_s / (500)\n",
    "r2 = v1 + l1 #Direccion A-C Columna B1\n",
    "\n",
    "v2 = Ix1 / (400)\n",
    "l2 = Ix1_s / (400)\n",
    "r3 = v2 + l2 #Direccion A-C Columna B1"
   ]
  },
  {
   "cell_type": "code",
   "execution_count": 165,
   "metadata": {},
   "outputs": [
    {
     "data": {
      "text/plain": "<IPython.core.display.Latex object>",
      "text/latex": "\\[\n\\begin{aligned}\na_{cb11d} &= \\frac{ \\mathrm{kc} }{ \\mathrm{r1} } \\cdot 2  = \\frac{ 1139.063 }{ 2664.107 } \\cdot 2 &= 0.855  \n\\\\[10pt]\n\\mathrm{l2l11dab1} &= \\frac{ 4.5 }{ 6 } &= 0.750  \n\\\\[10pt]\n\\mathrm{a1b1} &= \\frac{ \\mathrm{Ix4} }{ \\mathrm{Ix4}_{s} }  = \\frac{ 524245.235 }{ 1074218.750 } &= 0.488  \n\\\\[10pt]\n& \\textrm{}\\\\[10pt]\na_{cb12d} &= \\frac{ \\mathrm{kc} }{ \\mathrm{r2} + \\mathrm{r3} } \\cdot 2  = \\frac{ 1139.063 }{ 948.380 + 1185.474 } \\cdot 2 &= 1.068  \n\\\\[10pt]\n\\mathrm{l2l12dab1} &= \\frac{ 6 }{ 9 } &= 0.667  \n\\\\[10pt]\n\\mathrm{a2b1} &= \\frac{ \\mathrm{Ix1} }{ \\mathrm{Ix1}_{s} }  = \\frac{ 383486.649 }{ 90703.125 } &= 4.228  \n\\end{aligned}\n\\]"
     },
     "metadata": {},
     "output_type": "display_data"
    }
   ],
   "source": [
    "%%render\n",
    "a_cb11d =kc/(r1)*2\n",
    "l2l11dab1 =4.5/6\n",
    "a1b1 =Ix4/Ix4_s\n",
    "################################\n",
    "a_cb12d =kc/(r2+r3)*2\n",
    "l2l12dab1 =6/9\n",
    "a2b1 =Ix1/Ix1_s"
   ]
  },
  {
   "cell_type": "code",
   "execution_count": 166,
   "metadata": {},
   "outputs": [
    {
     "data": {
      "text/plain": "<IPython.core.display.Latex object>",
      "text/latex": "\\[\n\\begin{aligned}\n\\mathrm{v1} &= \\frac{ \\mathrm{Ix4} }{ 600 }  = \\frac{ 524245.235 }{ 600 } &= 873.742  \n\\\\[10pt]\n\\mathrm{l1} &= \\frac{ \\mathrm{Ix4}_{s} }{ 600 }  = \\frac{ 1074218.750 }{ 600 } &= 1790.365  \n\\\\[10pt]\n\\mathrm{r1} &= \\mathrm{v1} + \\mathrm{l1}  = 873.742 + 1790.365 &= 2664.107 \\; \\;\\textrm{(Direccion 1-3 Columna B2)}\n\\end{aligned}\n\\]"
     },
     "metadata": {},
     "output_type": "display_data"
    }
   ],
   "source": [
    "%%render\n",
    "v1 = Ix4 / (600)\n",
    "l1 = Ix4_s / (600)\n",
    "r1 = v1 + l1 #Direccion 1-3 Columna B2"
   ]
  },
  {
   "cell_type": "code",
   "execution_count": 167,
   "metadata": {},
   "outputs": [
    {
     "data": {
      "text/plain": "<IPython.core.display.Latex object>",
      "text/latex": "\\[\n\\begin{aligned}\n\\mathrm{v1} &= \\frac{ \\mathrm{Ix2} }{ 500 }  = \\frac{ 454866.395 }{ 500 } &= 909.733  \n\\\\[10pt]\n\\mathrm{l1} &= \\frac{ \\mathrm{Ix2}_{s} }{ 500 }  = \\frac{ 168750.000 }{ 500 } &= 337.500  \n\\\\[10pt]\n\\mathrm{r2} &= \\mathrm{v1} + \\mathrm{l1}  = 909.733 + 337.500 &= 1247.233 \\; \\;\\textrm{(Direccion A-C Columna B2)}\n\\\\[10pt]\n\\mathrm{v2} &= \\frac{ \\mathrm{Ix2} }{ 400 }  = \\frac{ 454866.395 }{ 400 } &= 1137.166  \n\\\\[10pt]\n\\mathrm{l2} &= \\frac{ \\mathrm{Ix2}_{s} }{ 400 }  = \\frac{ 168750.000 }{ 400 } &= 421.875  \n\\\\[10pt]\n\\mathrm{r3} &= \\mathrm{v2} + \\mathrm{l2}  = 1137.166 + 421.875 &= 1559.041 \\; \\;\\textrm{(Direccion A-C Columna B2)}\n\\end{aligned}\n\\]"
     },
     "metadata": {},
     "output_type": "display_data"
    }
   ],
   "source": [
    "%%render\n",
    "v1 = Ix2 / (500)\n",
    "l1 = Ix2_s / (500)\n",
    "r2 = v1 + l1 #Direccion A-C Columna B2\n",
    "\n",
    "v2 = Ix2 / (400)\n",
    "l2 = Ix2_s / (400)\n",
    "r3 = v2 + l2 #Direccion A-C Columna B2"
   ]
  },
  {
   "cell_type": "code",
   "execution_count": 168,
   "metadata": {},
   "outputs": [
    {
     "data": {
      "text/plain": "<IPython.core.display.Latex object>",
      "text/latex": "\\[\n\\begin{aligned}\na_{cb21d} &= \\frac{ \\mathrm{kc} }{ \\mathrm{r1} }  = \\frac{ 1139.063 }{ 2664.107 } &= 0.428  \n\\\\[10pt]\n\\mathrm{l2l11db2} &= \\frac{ 9 }{ 12 } &= 0.750  \n\\\\[10pt]\n\\mathrm{a1b2} &= \\frac{ \\mathrm{Ix4} }{ \\mathrm{Ix4}_{s} }  = \\frac{ 524245.235 }{ 1074218.750 } &= 0.488  \n\\\\[10pt]\n& \\textrm{}\\\\[10pt]\na_{cb22d} &= \\frac{ \\mathrm{kc} }{ \\mathrm{r2} + \\mathrm{r3} } \\cdot 2  = \\frac{ 1139.063 }{ 1247.233 + 1559.041 } \\cdot 2 &= 0.812  \n\\\\[10pt]\n\\mathrm{l2l12db2} &= \\frac{ 12 }{ 9 } &= 1.333  \n\\\\[10pt]\n\\mathrm{a2b2} &= \\frac{ \\mathrm{Ix2} }{ \\mathrm{Ix2}_{s} }  = \\frac{ 454866.395 }{ 168750.000 } &= 2.696  \n\\end{aligned}\n\\]"
     },
     "metadata": {},
     "output_type": "display_data"
    }
   ],
   "source": [
    "%%render\n",
    "a_cb21d =kc/(r1)\n",
    "l2l11db2 =9/12\n",
    "a1b2 =Ix4/Ix4_s\n",
    "##########################\n",
    "a_cb22d =kc/(r2+r3)*2\n",
    "l2l12db2 =12/9\n",
    "a2b2 =Ix2/Ix2_s"
   ]
  },
  {
   "cell_type": "markdown",
   "source": [
    "Como nos podemos dar cuenta el valor de $\\alpha_{min}=0$ para todos los casos. Entonces no hay corrección para todos los casos que se presentaron."
   ],
   "metadata": {
    "collapsed": false
   }
  },
  {
   "cell_type": "markdown",
   "source": [
    "## Ahora determinaremos el parametro $\\beta_t$\n",
    "Calcularemos primero el valor de **C** para las vigas de borde y t para las direcciones numericas y alfabeticas"
   ],
   "metadata": {
    "collapsed": false
   }
  },
  {
   "cell_type": "code",
   "execution_count": 169,
   "outputs": [
    {
     "data": {
      "text/plain": "<IPython.core.display.Latex object>",
      "text/latex": "\\[\n\\begin{aligned}\n\\mathrm{x1} &= 25 \\; \n\\\\[10pt]\n\\mathrm{y1} &= 35 \\; \n\\\\[10pt]\n\\mathrm{x2} &= 15 \\; \n\\\\[10pt]\n\\mathrm{y2} &= 60 \\; \n\\\\[10pt]\nc_{11} &= \\left( 1 - 0.63 \\cdot \\frac{ \\mathrm{x1} }{ \\mathrm{y1} } \\right) \\cdot \\frac{ \\left( \\mathrm{x1} \\right) ^{ 3 } }{ 3 } \\cdot \\mathrm{y1} + \\left( 1 - 0.63 \\cdot \\frac{ \\mathrm{x2} }{ \\mathrm{y2} } \\right) \\cdot \\frac{ \\left( \\mathrm{x2} \\right) ^{ 3 } }{ 3 } \\cdot \\mathrm{y2} \\\\&= \\left( 1 - 0.63 \\cdot \\frac{ 25 }{ 35 } \\right) \\cdot \\frac{ \\left( 25 \\right) ^{ 3 } }{ 3 } \\cdot 35 + \\left( 1 - 0.63 \\cdot \\frac{ 15 }{ 60 } \\right) \\cdot \\frac{ \\left( 15 \\right) ^{ 3 } }{ 3 } \\cdot 60 \\\\&= 157129.167 \\; \\;\\textrm{(2 Rectangulos (1ra Forma))}\\\\[10pt]\n\\end{aligned}\n\\]"
     },
     "metadata": {},
     "output_type": "display_data"
    }
   ],
   "source": [
    "%%render\n",
    "x1=25\n",
    "y1=35\n",
    "x2=15\n",
    "y2=60\n",
    "c_11 =(1-0.63*x1/y1)*x1**3/3*y1+(1-0.63*x2/y2)*x2**3/3*y2 #2 Rectangulos (1ra Forma)"
   ],
   "metadata": {
    "collapsed": false
   }
  },
  {
   "cell_type": "code",
   "execution_count": 170,
   "outputs": [
    {
     "data": {
      "text/plain": "<IPython.core.display.Latex object>",
      "text/latex": "\\[\n\\begin{aligned}\n\\mathrm{x1} &= 25 \\; \n\\\\[10pt]\n\\mathrm{y1} &= 50 \\; \n\\\\[10pt]\n\\mathrm{x2} &= 15 \\; \n\\\\[10pt]\n\\mathrm{y2} &= 35 \\; \n\\\\[10pt]\nc_{22} &= \\left( 1 - 0.63 \\cdot \\frac{ \\mathrm{x1} }{ \\mathrm{y1} } \\right) \\cdot \\frac{ \\left( \\mathrm{x1} \\right) ^{ 3 } }{ 3 } \\cdot \\mathrm{y1} + \\left( 1 - 0.63 \\cdot \\frac{ \\mathrm{x2} }{ \\mathrm{y2} } \\right) \\cdot \\frac{ \\left( \\mathrm{x2} \\right) ^{ 3 } }{ 3 } \\cdot \\mathrm{y2} \\\\&= \\left( 1 - 0.63 \\cdot \\frac{ 25 }{ 50 } \\right) \\cdot \\frac{ \\left( 25 \\right) ^{ 3 } }{ 3 } \\cdot 50 + \\left( 1 - 0.63 \\cdot \\frac{ 15 }{ 35 } \\right) \\cdot \\frac{ \\left( 15 \\right) ^{ 3 } }{ 3 } \\cdot 35 \\\\&= 207129.167 \\; \\;\\textrm{(2 Rectangulos (2a Forma))}\\\\[10pt]\n\\end{aligned}\n\\]"
     },
     "metadata": {},
     "output_type": "display_data"
    }
   ],
   "source": [
    "%%render\n",
    "x1=25\n",
    "y1=50\n",
    "x2=15\n",
    "y2=35\n",
    "c_22 =(1-0.63*x1/y1)*x1**3/3*y1+(1-0.63*x2/y2)*x2**3/3*y2 #2 Rectangulos (2a Forma)"
   ],
   "metadata": {
    "collapsed": false
   }
  },
  {
   "cell_type": "markdown",
   "source": [
    "El parametro $\\beta_t$ se define como:\n",
    "$$\\frac{C}{2I_s}$$\n",
    "Considerar el valor de C el mayo de los calculados previamente"
   ],
   "metadata": {
    "collapsed": false
   }
  },
  {
   "cell_type": "code",
   "execution_count": 171,
   "outputs": [
    {
     "data": {
      "text/plain": "<IPython.core.display.Latex object>",
      "text/latex": "\\[\n\\begin{aligned}\n\\mathrm{Is} &= 600 \\cdot \\frac{ \\left( 15 \\right) ^{ 3 } }{ 12 } &= 168750.000  \n\\\\[10pt]\n\\mathrm{bt1} &= \\frac{ c_{22} }{ 2 \\cdot \\mathrm{Is} }  = \\frac{ 207129.167 }{ 2 \\cdot 168750.000 } &= 0.614  \n\\end{aligned}\n\\]"
     },
     "metadata": {},
     "output_type": "display_data"
    }
   ],
   "source": [
    "%%render\n",
    "#Tramo 1-2/3-4\n",
    "Is =600*15**3/12\n",
    "bt1 =c_22/(2*Is)"
   ],
   "metadata": {
    "collapsed": false
   }
  },
  {
   "cell_type": "code",
   "execution_count": 172,
   "outputs": [
    {
     "data": {
      "text/plain": "<IPython.core.display.Latex object>",
      "text/latex": "\\[\n\\begin{aligned}\n\\mathrm{Is} &= 500 \\cdot \\frac{ \\left( 15 \\right) ^{ 3 } }{ 12 } &= 140625.000  \n\\\\[10pt]\n\\mathrm{bt2} &= \\frac{ c_{22} }{ 2 \\cdot \\mathrm{Is} }  = \\frac{ 207129.167 }{ 2 \\cdot 140625.000 } &= 0.736  \n\\end{aligned}\n\\]"
     },
     "metadata": {},
     "output_type": "display_data"
    }
   ],
   "source": [
    "%%render\n",
    "#Tramo A-D\n",
    "Is = 500 * 15 ** 3 / 12\n",
    "bt2 = c_22 / (2 * Is)"
   ],
   "metadata": {
    "collapsed": false
   }
  },
  {
   "cell_type": "code",
   "execution_count": 173,
   "outputs": [
    {
     "data": {
      "text/plain": "<IPython.core.display.Latex object>",
      "text/latex": "\\[\n\\begin{aligned}\n\\mathrm{Is} &= 450 \\cdot \\frac{ \\left( 15 \\right) ^{ 3 } }{ 12 } &= 126562.500 \\; \\;\\textrm{(Considerar la franja de analisis =2.5+2)}\n\\\\[10pt]\n\\mathrm{bt3} &= \\frac{ c_{22} }{ 2 \\cdot \\mathrm{Is} }  = \\frac{ 207129.167 }{ 2 \\cdot 126562.500 } &= 0.818  \n\\end{aligned}\n\\]"
     },
     "metadata": {},
     "output_type": "display_data"
    }
   ],
   "source": [
    "%%render\n",
    "#Tramo B-C\n",
    "Is = 450 * 15 ** 3 /12 #Considerar la franja de analisis =2.5+2\n",
    "bt3 = c_22 / (2 * Is)"
   ],
   "metadata": {
    "collapsed": false
   }
  },
  {
   "cell_type": "markdown",
   "source": [
    "## Porcentaje del momento total correspondiente a la franja de columnas\n"
   ],
   "metadata": {
    "collapsed": false
   }
  },
  {
   "cell_type": "code",
   "execution_count": 174,
   "outputs": [
    {
     "data": {
      "text/plain": "<IPython.core.display.Latex object>",
      "text/latex": "\\[\n\\begin{aligned}\na &= \\frac{ \\mathrm{Ix3} }{ \\mathrm{Ix3}_{s} }  = \\frac{ 383486.649 }{ 76640.625 } &= 5.004  \n\\\\[10pt]\n\\mathrm{l2}_{l1} &= \\frac{ 2.5 }{ 6 } &= 0.417  \n\\\\[10pt]\n\\mathrm{a1}_{l2_{l1}} &= a \\cdot \\mathrm{l2}_{l1}  = 5.004 \\cdot 0.417 &= 2.085  \n\\\\[10pt]\n\\mathrm{bt1}_{1} &= 0.736 \\; \n\\end{aligned}\n\\]"
     },
     "metadata": {},
     "output_type": "display_data"
    }
   ],
   "source": [
    "%%render\n",
    "#Ejes A-D - Ambos ejes son simetricos\n",
    "#Tramo 1-2/2-3/2-4\n",
    "a =Ix3/Ix3_s\n",
    "l2_l1 =2.5/6\n",
    "a1_l2_l1 =a*l2_l1\n",
    "bt1_1 =bt2"
   ],
   "metadata": {
    "collapsed": false
   }
  },
  {
   "cell_type": "code",
   "execution_count": 175,
   "outputs": [
    {
     "data": {
      "text/plain": "<IPython.core.display.Latex object>",
      "text/latex": "\\[\n\\begin{aligned}\na &= \\frac{ \\mathrm{Ix4} }{ \\mathrm{Ix4}_{s} }  = \\frac{ 524245.235 }{ 1074218.750 } &= 0.488  \n\\\\[10pt]\n\\mathrm{l2}_{l1} &= \\frac{ 2.5 + 2 }{ 6 } &= 0.750  \n\\\\[10pt]\n\\mathrm{a2}_{l2_{l1}} &= a \\cdot \\mathrm{l2}_{l1}  = 0.488 \\cdot 0.750 &= 0.366  \n\\\\[10pt]\n\\mathrm{bt2}_{2} &= 0.818 \\; \n\\end{aligned}\n\\]"
     },
     "metadata": {},
     "output_type": "display_data"
    }
   ],
   "source": [
    "%%render\n",
    "#Ejes B-C - Ambos ejes son simetricos\n",
    "#Tramo 1-2/2-3/2-4\n",
    "a =Ix4/Ix4_s\n",
    "l2_l1 =(2.5+2)/6\n",
    "a2_l2_l1 =a*l2_l1\n",
    "bt2_2 =bt3"
   ],
   "metadata": {
    "collapsed": false
   }
  },
  {
   "cell_type": "code",
   "execution_count": 176,
   "outputs": [
    {
     "data": {
      "text/plain": "<IPython.core.display.Latex object>",
      "text/latex": "\\[\n\\begin{aligned}\na &= \\frac{ \\mathrm{Ix1} }{ \\mathrm{Ix1}_{s} }  = \\frac{ 383486.649 }{ 90703.125 } &= 4.228  \n\\\\[10pt]\n\\mathrm{l2}_{l11} &= \\frac{ 3 }{ 5 } &= 0.600  \n\\\\[10pt]\n\\mathrm{a3}_{l2_{l1}} &= a \\cdot \\mathrm{l2}_{l1}  = 4.228 \\cdot 0.750 &= 3.171  \n\\\\[10pt]\n\\mathrm{bt3}_{3} &= 0.614 \\; \n\\\\[10pt]\na &= \\frac{ \\mathrm{Ix1} }{ \\mathrm{Ix1}_{s} }  = \\frac{ 383486.649 }{ 90703.125 } &= 4.228  \n\\\\[10pt]\n\\mathrm{l2}_{l12} &= \\frac{ 3 }{ 4 } &= 0.750  \n\\\\[10pt]\n\\mathrm{a4}_{l2_{l1}} &= a \\cdot \\mathrm{l2}_{l1}  = 4.228 \\cdot 0.750 &= 3.171  \n\\\\[10pt]\n\\mathrm{bt4}_{4} &= 0.614 \\; \n\\end{aligned}\n\\]"
     },
     "metadata": {},
     "output_type": "display_data"
    }
   ],
   "source": [
    "%%render\n",
    "#Ejes 1-4 - Ambos ejes son simetricos\n",
    "#Tramo A-B/C-D\n",
    "a =Ix1/Ix1_s\n",
    "l2_l11 =3/5\n",
    "a3_l2_l1 =a*l2_l1\n",
    "bt3_3 =bt1\n",
    "#Tramo B-C\n",
    "a =Ix1/Ix1_s\n",
    "l2_l12 =3/4\n",
    "a4_l2_l1 =a*l2_l1\n",
    "bt4_4 =bt1"
   ],
   "metadata": {
    "collapsed": false
   }
  },
  {
   "cell_type": "code",
   "execution_count": 177,
   "outputs": [
    {
     "data": {
      "text/plain": "<IPython.core.display.Latex object>",
      "text/latex": "\\[\n\\begin{aligned}\na &= \\frac{ \\mathrm{Ix2} }{ \\mathrm{Ix2}_{s} }  = \\frac{ 454866.395 }{ 168750.000 } &= 2.696  \n\\\\[10pt]\n\\mathrm{l2}_{l11} &= \\frac{ 6 }{ 5 } &= 1.200  \n\\\\[10pt]\n\\mathrm{a4}_{l2_{l1}} &= a \\cdot \\mathrm{l2}_{l11}  = 2.696 \\cdot 1.200 &= 3.235  \n\\\\[10pt]\n\\mathrm{bt4}_{4} &= 0.614 \\; \n\\\\[10pt]\na &= \\frac{ \\mathrm{Ix2} }{ \\mathrm{Ix2}_{s} }  = \\frac{ 454866.395 }{ 168750.000 } &= 2.696  \n\\\\[10pt]\n\\mathrm{l2}_{l12} &= \\frac{ 6 }{ 4 } &= 1.500  \n\\\\[10pt]\n\\mathrm{a5}_{l2_{l1}} &= a \\cdot \\mathrm{l2}_{l12}  = 2.696 \\cdot 1.500 &= 4.043  \n\\\\[10pt]\n\\mathrm{bt5}_{5} &= 0.614 \\; \n\\end{aligned}\n\\]"
     },
     "metadata": {},
     "output_type": "display_data"
    }
   ],
   "source": [
    "%%render\n",
    "#Ejes 2-3 - Ambos ejes son simetricos\n",
    "#Tramo A-B/C-D\n",
    "a =Ix2/Ix2_s\n",
    "l2_l11 =6/5\n",
    "a4_l2_l1 =a*l2_l11\n",
    "bt4_4 =bt1\n",
    "#Tramo B-C\n",
    "a =Ix2/Ix2_s\n",
    "l2_l12 =6/4\n",
    "a5_l2_l1 =a*l2_l12\n",
    "bt5_5 =bt1"
   ],
   "metadata": {
    "collapsed": false
   }
  },
  {
   "cell_type": "markdown",
   "source": [
    "## Momentos en vigas y losas de la franja de columnas"
   ],
   "metadata": {
    "collapsed": false
   }
  },
  {
   "cell_type": "markdown",
   "source": [
    "## Determinacion de la fuerza cortante"
   ],
   "metadata": {
    "collapsed": false
   }
  },
  {
   "cell_type": "markdown",
   "source": [
    "## Porcentaje de los momentos para cada tramo"
   ],
   "metadata": {
    "collapsed": false
   }
  },
  {
   "cell_type": "code",
   "execution_count": 178,
   "outputs": [
    {
     "data": {
      "text/plain": "60.0"
     },
     "execution_count": 178,
     "metadata": {},
     "output_type": "execute_result"
    }
   ],
   "source": [
    "#Funcion para interpolar\n",
    "x=1.5\n",
    "x1=0.5\n",
    "x2=1\n",
    "y1=90\n",
    "y2=75 #Mas a la derecha\n",
    "m =(y2-y1)/(x2-x1)\n",
    "f1 =m*(x-x1)+y1\n",
    "f1"
   ],
   "metadata": {
    "collapsed": false
   }
  },
  {
   "cell_type": "code",
   "execution_count": 179,
   "outputs": [
    {
     "data": {
      "text/plain": "90.1808"
     },
     "execution_count": 179,
     "metadata": {},
     "output_type": "execute_result"
    }
   ],
   "source": [
    "#Funcion para interpolar\n",
    "x=.6137\n",
    "x1=0\n",
    "x2=2.5\n",
    "y1=100\n",
    "y2=f1 #Mas a la derecha\n",
    "m =(y2-y1)/(x2-x1)\n",
    "f2 =m*(x-x1)+y1\n",
    "f2"
   ],
   "metadata": {
    "collapsed": false
   }
  },
  {
   "cell_type": "code",
   "execution_count": 180,
   "outputs": [],
   "source": [
    "#Tramo A-D\n",
    "#Tramo 1-2/2-3/3-4\n",
    "pexnAD=97.50/100\n",
    "pinpAD=91.5/100\n",
    "pinnAD=91.5/100"
   ],
   "metadata": {
    "collapsed": false
   }
  },
  {
   "cell_type": "code",
   "execution_count": 181,
   "outputs": [],
   "source": [
    "#Tramo B-C\n",
    "#Tramo 1-2/2-3/3-4\n",
    "pexnBC=94.27/100\n",
    "pinpBC=82.5/100\n",
    "pinnBC=82.5/100"
   ],
   "metadata": {
    "collapsed": false
   }
  },
  {
   "cell_type": "code",
   "execution_count": 182,
   "outputs": [],
   "source": [
    "#Tramo 1-4\n",
    "#Tramo A-B\n",
    "pexn114=96.47/100\n",
    "pinp114=85.65/100\n",
    "pinn114=85.65/100\n",
    "#Tramo B-C\n",
    "pexn214=81/100\n",
    "pinp214=81/100\n",
    "pinn214=81/100\n",
    "#Tramo C-D\n",
    "pexn314=85.65/100\n",
    "pinp314=85.65/100\n",
    "pinn314=96.47/100"
   ],
   "metadata": {
    "collapsed": false
   }
  },
  {
   "cell_type": "code",
   "execution_count": 183,
   "outputs": [],
   "source": [
    "#Tramo 2-3\n",
    "#Tramo A-B\n",
    "pexn123=92.4/100\n",
    "pinp123=69/100\n",
    "pinn123=69/100\n",
    "#Tramo B-C\n",
    "pexn223=60/100\n",
    "pinp223=60/100\n",
    "pinn223=60/100\n",
    "#Tramo C-D"
   ],
   "metadata": {
    "collapsed": false
   }
  },
  {
   "cell_type": "markdown",
   "source": [
    "Como es de notar todos los factores $\\alpha\\frac{l_1}{l_2}>2$ en consecuencia 85% va a la viga y el resto a la losa. A continuacion se mostrara la distribucion de los momentos en la franja de analisis y seguidamente en la franja de columnas y centrales."
   ],
   "metadata": {
    "collapsed": false
   }
  },
  {
   "cell_type": "markdown",
   "source": [
    "## Eje Numerico"
   ],
   "metadata": {
    "collapsed": false
   }
  },
  {
   "cell_type": "markdown",
   "source": [
    "## Eje 1-4"
   ],
   "metadata": {
    "collapsed": false
   }
  },
  {
   "cell_type": "code",
   "execution_count": 184,
   "outputs": [],
   "source": [
    "#Tramo AB\n",
    "#Tramo AB-\n",
    "mtotalabn=mn1abi\n",
    "mfcolabn=mtotalabn*pexn114\n",
    "mfcolvigabn=mfcolabn*85/100\n",
    "mfcollosabn=mfcolabn*15/100\n",
    "mfcenabn=mtotalabn-mfcolabn\n",
    "#Tramo BA-\n",
    "mtotalban=mn1abd\n",
    "mfcolban=mtotalban*pinn114\n",
    "mfcolvigban=mfcolban*85/100\n",
    "mfcollosban=mfcolban*15/100\n",
    "mfcenban=mtotalban-mfcolban\n",
    "#Tramo AB+\n",
    "mtotalabp=mp1ab\n",
    "mfcolabp=mtotalabp*pinp114\n",
    "mfcolvigabp=mfcolabp*85/100\n",
    "mfcollosabp=mfcolabp*15/100\n",
    "mfcenabp=mtotalabp-mfcolabp"
   ],
   "metadata": {
    "collapsed": false
   }
  },
  {
   "cell_type": "code",
   "execution_count": 185,
   "outputs": [
    {
     "data": {
      "text/plain": "(5.174093487631605, 0.9130753213467538, 1.0198584052403898)"
     },
     "execution_count": 185,
     "metadata": {},
     "output_type": "execute_result"
    }
   ],
   "source": [
    "mfcolvigabn,mfcollosabn,mfcenabn\n",
    "mfcolvigban,mfcollosban,mfcenban\n",
    "mfcolvigabp,mfcollosabp,mfcenabp"
   ],
   "metadata": {
    "collapsed": false
   }
  },
  {
   "cell_type": "code",
   "execution_count": 186,
   "outputs": [],
   "source": [
    "#Tramo BC\n",
    "#Tramo BC-\n",
    "mtotalbcn=mn1bci\n",
    "mfcolbcn=mtotalbcn*pexn214\n",
    "mfcolvigbcn=mfcolbcn*85/100\n",
    "mfcollosbcn=mfcolbcn*15/100\n",
    "mfcenbcn   =mtotalbcn-mfcolbcn\n",
    "#Tramo CB-\n",
    "mtotalcbn=mn1bcd\n",
    "mfcolcbn=mtotalcbn*pinn214\n",
    "mfcolvigcbn=mfcolcbn*85/100\n",
    "mfcolloscbn=mfcolcbn*15/100\n",
    "mfcencbn   =mtotalcbn-mfcolcbn\n",
    "#Tramo BC+\n",
    "mtotalbcp=mp1bc\n",
    "mfcolbcp=mtotalbcp*pinp214\n",
    "mfcolvigbcp=mfcolbcp*85/100\n",
    "mfcollosbcp=mfcolbcp*15/100\n",
    "mfcencbcp  =mtotalbcp-mfcolbcp"
   ],
   "metadata": {
    "collapsed": false
   }
  },
  {
   "cell_type": "code",
   "execution_count": 187,
   "outputs": [
    {
     "data": {
      "text/plain": "(1.8290224008738278, 0.3227686589777343, 0.5047411128046875)"
     },
     "execution_count": 187,
     "metadata": {},
     "output_type": "execute_result"
    }
   ],
   "source": [
    "mfcolvigbcn,mfcollosbcn,mfcenbcn\n",
    "mfcolvigcbn,mfcolloscbn,mfcencbn\n",
    "mfcolvigbcp,mfcollosbcp,mfcencbcp"
   ],
   "metadata": {
    "collapsed": false
   }
  },
  {
   "cell_type": "code",
   "execution_count": 188,
   "outputs": [],
   "source": [
    "#Tramo CD\n",
    "#Tramo CD-\n",
    "mtotalcdn=mn1cdi\n",
    "mfcolcdn=mtotalcdn*pexn314\n",
    "mfcolvigcdn=mfcolcdn*85/100\n",
    "mfcolloscdn=mfcolcdn*15/100\n",
    "mfcencdn   =mtotalcdn-mfcolcdn\n",
    "#Tramo DC-\n",
    "mtotaldcn=mn1cdd\n",
    "mfcoldcn=mtotaldcn*pinn314\n",
    "mfcolvigdcn=mfcoldcn*85/100\n",
    "mfcollosdcn=mfcoldcn*15/100\n",
    "mfcendcn   =mtotaldcn-mfcoldcn\n",
    "#Tramo CD+\n",
    "mtotalcdp=mp1cd\n",
    "mfcolcdp=mtotalcdp*pinp314\n",
    "mfcolvigcdp=mfcolcdp*85/100\n",
    "mfcolloscdp=mfcolcdp*15/100\n",
    "mfcencdp   =mtotalcdp-mfcolcdp"
   ],
   "metadata": {
    "collapsed": false
   }
  },
  {
   "cell_type": "code",
   "execution_count": 189,
   "outputs": [
    {
     "data": {
      "text/plain": "(5.174093487631605, 0.9130753213467538, 1.0198584052403898)"
     },
     "execution_count": 189,
     "metadata": {},
     "output_type": "execute_result"
    }
   ],
   "source": [
    "mfcolvigcdn,mfcolloscdn,mfcencdn\n",
    "mfcolvigdcn,mfcollosdcn,mfcendcn\n",
    "mfcolvigcdp,mfcolloscdp,mfcencdp"
   ],
   "metadata": {
    "collapsed": false
   }
  },
  {
   "cell_type": "markdown",
   "source": [
    "## Eje 2-3"
   ],
   "metadata": {
    "collapsed": false
   }
  },
  {
   "cell_type": "code",
   "execution_count": 190,
   "outputs": [],
   "source": [
    "#Tramo AB\n",
    "#Tramo AB-\n",
    "mtotalabn=mn1abi\n",
    "mfcolabn=mtotalabn*pexn114\n",
    "mfcolvigabn=mfcolabn*85/100\n",
    "mfcollosabn=mfcolabn*15/100\n",
    "mfcenabn=mtotalabn-mfcolabn\n",
    "#Tramo BA-\n",
    "mtotalban=mn1abd\n",
    "mfcolban=mtotalban*pinn114\n",
    "mfcolvigban=mfcolban*85/100\n",
    "mfcollosban=mfcolban*15/100\n",
    "mfcenban=mtotalban-mfcolban\n",
    "#Tramo AB+\n",
    "mtotalabp=mp1ab\n",
    "mfcolabp=mtotalabp*pinp114\n",
    "mfcolvigabp=mfcolabp*85/100\n",
    "mfcollosabp=mfcolabp*15/100\n",
    "mfcenabp=mtotalabp-mfcolabp"
   ],
   "metadata": {
    "collapsed": false
   }
  },
  {
   "cell_type": "code",
   "execution_count": 190,
   "outputs": [],
   "source": [],
   "metadata": {
    "collapsed": false
   }
  }
 ],
 "metadata": {
  "kernelspec": {
   "display_name": "Python 3 (ipykernel)",
   "language": "python",
   "name": "python3"
  },
  "language_info": {
   "codemirror_mode": {
    "name": "ipython",
    "version": 3
   },
   "file_extension": ".py",
   "mimetype": "text/x-python",
   "name": "python",
   "nbconvert_exporter": "python",
   "pygments_lexer": "ipython3",
   "version": "3.11.0"
  }
 },
 "nbformat": 4,
 "nbformat_minor": 1
}
