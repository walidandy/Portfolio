{
 "cells": [
  {
   "cell_type": "code",
   "execution_count": 1,
   "metadata": {
    "collapsed": true,
    "pycharm": {
     "is_executing": true
    },
    "ExecuteTime": {
     "end_time": "2023-12-20T22:02:44.948735200Z",
     "start_time": "2023-12-20T22:02:44.696734600Z"
    }
   },
   "outputs": [],
   "source": [
    "import os\n",
    "import sys\n",
    "import clr\n",
    "\n",
    "from enum import Enum"
   ]
  },
  {
   "cell_type": "code",
   "execution_count": 2,
   "outputs": [],
   "source": [
    "clr.AddReference(\"System.Runtime.InteropServices\")\n",
    "from System.Runtime.InteropServices import Marshal"
   ],
   "metadata": {
    "collapsed": false,
    "ExecuteTime": {
     "end_time": "2023-12-20T22:02:45.199734Z",
     "start_time": "2023-12-20T22:02:44.948735200Z"
    }
   }
  },
  {
   "cell_type": "code",
   "execution_count": 3,
   "outputs": [],
   "source": [
    "clr.AddReference(R'C:\\Program Files\\Computers and Structures\\ETABS 21\\ETABSv1.dll')\n",
    "from ETABSv1 import *"
   ],
   "metadata": {
    "collapsed": false,
    "ExecuteTime": {
     "end_time": "2023-12-20T22:02:45.261369Z",
     "start_time": "2023-12-20T22:02:45.200734300Z"
    }
   }
  },
  {
   "cell_type": "code",
   "execution_count": 4,
   "outputs": [],
   "source": [
    "helper = cHelper(Helper())"
   ],
   "metadata": {
    "collapsed": false,
    "ExecuteTime": {
     "end_time": "2023-12-20T22:02:45.285367900Z",
     "start_time": "2023-12-20T22:02:45.272366800Z"
    }
   }
  },
  {
   "cell_type": "code",
   "execution_count": 5,
   "outputs": [],
   "source": [
    "myETABSObject = cOAPI(helper.GetObject(\"CSI.ETABS.API.ETABSObject\"))\n",
    "ret=helper.GetObject('CSI.ETABS.API.ETABSObject')"
   ],
   "metadata": {
    "collapsed": false,
    "ExecuteTime": {
     "end_time": "2023-12-20T22:02:45.715372200Z",
     "start_time": "2023-12-20T22:02:45.277367Z"
    }
   }
  },
  {
   "cell_type": "code",
   "execution_count": 6,
   "outputs": [],
   "source": [
    "SapModel=cSapModel(myETABSObject.SapModel)"
   ],
   "metadata": {
    "collapsed": false,
    "ExecuteTime": {
     "end_time": "2023-12-20T22:02:45.726368Z",
     "start_time": "2023-12-20T22:02:45.717374300Z"
    }
   }
  },
  {
   "cell_type": "code",
   "execution_count": 7,
   "outputs": [],
   "source": [
    "ret=SapModel.SetPresentUnits(eUnits(14))"
   ],
   "metadata": {
    "collapsed": false,
    "ExecuteTime": {
     "end_time": "2023-12-20T22:02:45.758368600Z",
     "start_time": "2023-12-20T22:02:45.730369Z"
    }
   }
  },
  {
   "cell_type": "code",
   "execution_count": 8,
   "outputs": [],
   "source": [
    "PropMaterial=cPropMaterial(SapModel.PropMaterial)\n",
    "ret=PropMaterial.SetMaterial('Concrete',eMatType(2))\n",
    "ret=PropMaterial.SetMPIsotropic('Concrete',15000*210**0.5,0.2,0.0000055)"
   ],
   "metadata": {
    "collapsed": false,
    "ExecuteTime": {
     "end_time": "2023-12-20T22:02:45.804366700Z",
     "start_time": "2023-12-20T22:02:45.759367900Z"
    }
   }
  },
  {
   "cell_type": "code",
   "execution_count": 9,
   "outputs": [],
   "source": [
    "ret=SapModel.SetPresentUnits(eUnits(8))"
   ],
   "metadata": {
    "collapsed": false,
    "ExecuteTime": {
     "end_time": "2023-12-20T22:02:46.554217500Z",
     "start_time": "2023-12-20T22:02:46.532217600Z"
    }
   }
  },
  {
   "cell_type": "code",
   "execution_count": 10,
   "outputs": [],
   "source": [
    "PropFrame=cPropFrame(SapModel.PropFrame)\n",
    "ret=PropFrame.SetRectangle('B1','Concrete',0.15,0.15)"
   ],
   "metadata": {
    "collapsed": false,
    "ExecuteTime": {
     "end_time": "2023-12-20T22:02:48.074091500Z",
     "start_time": "2023-12-20T22:02:47.942088800Z"
    }
   }
  },
  {
   "cell_type": "code",
   "execution_count": 31,
   "outputs": [],
   "source": [
    "FrameObj=cFrameObj(SapModel.FrameObj)\n",
    "F1=''\n",
    "F2=''\n",
    "F3=''\n",
    "F4=''\n",
    "F5=''\n",
    "vld=0 # Volado 1m\n",
    "tramo=2.6 # Espaciamiento entre vigas\n",
    "[ret,F1]=FrameObj.AddByCoord(0,0,0,vld,0,0,F1,'B1')\n",
    "[ret,F2]=FrameObj.AddByCoord(vld,0,0,vld+tramo,0,0,F2,'B1')\n",
    "[ret,F3]=FrameObj.AddByCoord(vld+tramo,0,0,vld+2*tramo,0,0,F3,'B1')\n",
    "[ret,F4]=FrameObj.AddByCoord(vld+2*tramo,0,0,vld+3*tramo,0,0,F4,'B1')\n",
    "[ret,F5]=FrameObj.AddByCoord(vld+3*tramo,0,0,vld+3*tramo+vld,0,0,F5,'B1')"
   ],
   "metadata": {
    "collapsed": false,
    "ExecuteTime": {
     "end_time": "2023-12-20T22:16:16.670770100Z",
     "start_time": "2023-12-20T22:16:16.646771100Z"
    }
   }
  },
  {
   "cell_type": "code",
   "execution_count": 42,
   "outputs": [],
   "source": [
    "Analyze=cAnalyze(SapModel.Analyze)\n",
    "ret=Analyze.RunAnalysis()"
   ],
   "metadata": {
    "collapsed": false,
    "ExecuteTime": {
     "end_time": "2023-12-20T22:36:28.680342Z",
     "start_time": "2023-12-20T22:36:20.877659100Z"
    }
   }
  },
  {
   "cell_type": "code",
   "execution_count": 43,
   "outputs": [],
   "source": [
    "Results=cAnalysisResults(SapModel.Results)\n",
    "Setup=cAnalysisResultsSetup(Results.Setup)\n",
    "ret = Setup.DeselectAllCasesAndCombosForOutput()\n",
    "ret = Setup.SetCaseSelectedForOutput('Dead')"
   ],
   "metadata": {
    "collapsed": false,
    "ExecuteTime": {
     "end_time": "2023-12-20T22:36:39.242406200Z",
     "start_time": "2023-12-20T22:36:39.230401400Z"
    }
   }
  },
  {
   "cell_type": "code",
   "execution_count": 45,
   "outputs": [
    {
     "name": "stdout",
     "output_type": "stream",
     "text": [
      "-1.085\n",
      "-0.215\n",
      "0.654\n",
      "1.524\n",
      "2.394\n",
      "2.829\n",
      "2.829\n",
      "2.195\n",
      "0.927\n",
      "-0.341\n",
      "-1.609\n",
      "-2.877\n"
     ]
    }
   ],
   "source": [
    "ret=SapModel.SetPresentUnits(eUnits(12))\n",
    "ProgramResult = [0,0,0,0,0,0,0,0,0,0,0,0]\n",
    "NumberResults = 0\n",
    "Obj = []\n",
    "ObjSta = []\n",
    "Elm = []\n",
    "ElmSta = []\n",
    "LoadCase = []\n",
    "StepType = []\n",
    "StepNum = []\n",
    "P  = []\n",
    "V2 = []\n",
    "V3 = []\n",
    "T  = []\n",
    "M2 = []\n",
    "M3 = []\n",
    "[ret, NumberResults, Obj,ObjSta, Elm,ElmSta, LoadCase, StepType, StepNum, P ,V2,V3,T ,M2,M3] = Results.FrameForce('3',eItemTypeElm(0),NumberResults,Obj,ObjSta , Elm, ElmSta,LoadCase, StepType, StepNum, P ,V2,V3,T ,M2,M3)\n",
    "for i in range(0,12):\n",
    "    ProgramResult[i]=M3[i]\n",
    "    print(round(ProgramResult[i],3))"
   ],
   "metadata": {
    "collapsed": false,
    "ExecuteTime": {
     "end_time": "2023-12-20T22:36:55.671360Z",
     "start_time": "2023-12-20T22:36:55.647362100Z"
    }
   }
  },
  {
   "cell_type": "markdown",
   "source": [
    "*Considerar 10 Output Stations para poder generar la data, automaticamente se asigna el orden asi que es bueno. Realizo no un trabajo muy sustancial que digamos*"
   ],
   "metadata": {
    "collapsed": false
   }
  },
  {
   "cell_type": "code",
   "execution_count": null,
   "outputs": [],
   "source": [
    "Momento Maximo\n",
    "-0.0\n",
    "1.063\n",
    "2.125\n",
    "3.188\n",
    "3.678\n",
    "3.678\n",
    "3.099\n",
    "2.024\n",
    "0.949\n",
    "-0.127\n",
    "-1.202\n",
    "-2.277"
   ],
   "metadata": {
    "collapsed": false
   }
  },
  {
   "cell_type": "code",
   "execution_count": 4,
   "outputs": [],
   "source": [
    "from sympy import *"
   ],
   "metadata": {
    "collapsed": false,
    "ExecuteTime": {
     "end_time": "2023-12-22T15:45:19.411479600Z",
     "start_time": "2023-12-22T15:45:18.885482200Z"
    }
   }
  },
  {
   "cell_type": "code",
   "execution_count": 5,
   "outputs": [],
   "source": [
    "B=symbols('B')"
   ],
   "metadata": {
    "collapsed": false,
    "ExecuteTime": {
     "end_time": "2023-12-22T15:45:19.412480600Z",
     "start_time": "2023-12-22T15:45:19.410481300Z"
    }
   }
  },
  {
   "cell_type": "code",
   "execution_count": 6,
   "outputs": [
    {
     "name": "stdout",
     "output_type": "stream",
     "text": [
      "3.84*B**2 + 1.28*B*(B - 0.4) + 0.32*B + 39.872\n"
     ]
    }
   ],
   "source": [
    "P=40+3.84*B**2+2*(0.64*B*(B-0.4)+0.08*(2*B-.8))\n",
    "print (P)"
   ],
   "metadata": {
    "collapsed": false,
    "ExecuteTime": {
     "end_time": "2023-12-22T15:45:19.973996100Z",
     "start_time": "2023-12-22T15:45:19.925994200Z"
    }
   }
  },
  {
   "cell_type": "code",
   "execution_count": 7,
   "outputs": [
    {
     "data": {
      "text/plain": "8.72*B*(-0.8*(0.2*B - 2.4/(3.84*B**2 + 1.28*B*(B - 0.4) + 0.32*B + 39.9))/(2.0*B - 24.0/(3.84*B**2 + 1.28*B*(B - 0.4) + 0.32*B + 39.9)) + 0.8) + 16.7",
      "text/latex": "$\\displaystyle 8.72 B \\left(- \\frac{0.8 \\cdot \\left(0.2 B - \\frac{2.4}{3.84 B^{2} + 1.28 B \\left(B - 0.4\\right) + 0.32 B + 39.9}\\right)}{2.0 B - \\frac{24.0}{3.84 B^{2} + 1.28 B \\left(B - 0.4\\right) + 0.32 B + 39.9}} + 0.8\\right) + 16.7$"
     },
     "execution_count": 7,
     "metadata": {},
     "output_type": "execute_result"
    }
   ],
   "source": [
    "iq=1\n",
    "iy=1\n",
    "phi=33\n",
    "gamma=1.6\n",
    "Df=1.2\n",
    "ex=6/P\n",
    "ey=12/P\n",
    "B_ef=B-2*ex\n",
    "L_ef=2*B-2*ey\n",
    "sy=1-0.2*B_ef/L_ef\n",
    "Nq=exp(pi*tan(phi*pi/180))*tan((45+phi/2)*pi/180)**2\n",
    "Ny=(Nq-1)*tan(1.4*phi*pi/180)\n",
    "qd=(iq*gamma*Df*Nq+0.5*sy*iy*gamma*B*Ny)/3\n",
    "qd.evalf(3)"
   ],
   "metadata": {
    "collapsed": false,
    "ExecuteTime": {
     "end_time": "2023-12-22T15:45:20.632010300Z",
     "start_time": "2023-12-22T15:45:20.501993100Z"
    }
   }
  },
  {
   "cell_type": "code",
   "execution_count": null,
   "outputs": [],
   "source": [
    "po=P/(2*B**2)\n",
    "x=B/2\n",
    "y=B\n",
    "p=po*(1+3*ex*x/(B/2)**2+3*ey*y/(B**2))\n",
    "solve(Eq(po*(1+3*ex*x/(B/2)**2+3*ey*y/(B**2)),(iq*gamma*Df*Nq+0.5*sy*iy*gamma*B*Ny)/3),B)"
   ],
   "metadata": {
    "collapsed": false,
    "is_executing": true,
    "ExecuteTime": {
     "start_time": "2023-12-22T15:45:21.303132100Z"
    }
   }
  },
  {
   "cell_type": "code",
   "execution_count": null,
   "outputs": [],
   "source": [],
   "metadata": {
    "collapsed": false
   }
  }
 ],
 "metadata": {
  "kernelspec": {
   "display_name": "Python 3",
   "language": "python",
   "name": "python3"
  },
  "language_info": {
   "codemirror_mode": {
    "name": "ipython",
    "version": 2
   },
   "file_extension": ".py",
   "mimetype": "text/x-python",
   "name": "python",
   "nbconvert_exporter": "python",
   "pygments_lexer": "ipython2",
   "version": "2.7.6"
  }
 },
 "nbformat": 4,
 "nbformat_minor": 0
}
