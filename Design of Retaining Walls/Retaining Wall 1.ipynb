{
 "nbformat": 4,
 "nbformat_minor": 0,
 "metadata": {
  "colab": {
   "provenance": [],
   "authorship_tag": "ABX9TyNYFVzgu5i+QrNNXhroheFQ",
   "include_colab_link": true
  },
  "kernelspec": {
   "name": "python3",
   "display_name": "Python 3"
  },
  "language_info": {
   "name": "python"
  },
  "widgets": {
   "application/vnd.jupyter.widget-state+json": {
    "7b3bb4cfc38f4e6483bed7a63538601d": {
     "model_module": "@jupyter-widgets/controls",
     "model_name": "FloatTextModel",
     "model_module_version": "1.5.0",
     "state": {
      "_dom_classes": [],
      "_model_module": "@jupyter-widgets/controls",
      "_model_module_version": "1.5.0",
      "_model_name": "FloatTextModel",
      "_view_count": null,
      "_view_module": "@jupyter-widgets/controls",
      "_view_module_version": "1.5.0",
      "_view_name": "FloatTextView",
      "continuous_update": false,
      "description": "corona",
      "description_tooltip": null,
      "disabled": false,
      "layout": "IPY_MODEL_fd4b8b4f695f4052b3ef430f09aa6811",
      "step": null,
      "style": "IPY_MODEL_35f74a7a74a0494791c96cd1af2c562b",
      "value": 0.25
     }
    },
    "fd4b8b4f695f4052b3ef430f09aa6811": {
     "model_module": "@jupyter-widgets/base",
     "model_name": "LayoutModel",
     "model_module_version": "1.2.0",
     "state": {
      "_model_module": "@jupyter-widgets/base",
      "_model_module_version": "1.2.0",
      "_model_name": "LayoutModel",
      "_view_count": null,
      "_view_module": "@jupyter-widgets/base",
      "_view_module_version": "1.2.0",
      "_view_name": "LayoutView",
      "align_content": null,
      "align_items": null,
      "align_self": null,
      "border": null,
      "bottom": null,
      "display": null,
      "flex": null,
      "flex_flow": null,
      "grid_area": null,
      "grid_auto_columns": null,
      "grid_auto_flow": null,
      "grid_auto_rows": null,
      "grid_column": null,
      "grid_gap": null,
      "grid_row": null,
      "grid_template_areas": null,
      "grid_template_columns": null,
      "grid_template_rows": null,
      "height": null,
      "justify_content": null,
      "justify_items": null,
      "left": null,
      "margin": null,
      "max_height": null,
      "max_width": null,
      "min_height": null,
      "min_width": null,
      "object_fit": null,
      "object_position": null,
      "order": null,
      "overflow": null,
      "overflow_x": null,
      "overflow_y": null,
      "padding": null,
      "right": null,
      "top": null,
      "visibility": null,
      "width": null
     }
    },
    "35f74a7a74a0494791c96cd1af2c562b": {
     "model_module": "@jupyter-widgets/controls",
     "model_name": "DescriptionStyleModel",
     "model_module_version": "1.5.0",
     "state": {
      "_model_module": "@jupyter-widgets/controls",
      "_model_module_version": "1.5.0",
      "_model_name": "DescriptionStyleModel",
      "_view_count": null,
      "_view_module": "@jupyter-widgets/base",
      "_view_module_version": "1.2.0",
      "_view_name": "StyleView",
      "description_width": ""
     }
    },
    "03a857c42fd140288a7677773bdfe092": {
     "model_module": "@jupyter-widgets/controls",
     "model_name": "FloatTextModel",
     "model_module_version": "1.5.0",
     "state": {
      "_dom_classes": [],
      "_model_module": "@jupyter-widgets/controls",
      "_model_module_version": "1.5.0",
      "_model_name": "FloatTextModel",
      "_view_count": null,
      "_view_module": "@jupyter-widgets/controls",
      "_view_module_version": "1.5.0",
      "_view_name": "FloatTextView",
      "continuous_update": false,
      "description": "pie",
      "description_tooltip": null,
      "disabled": false,
      "layout": "IPY_MODEL_24eec7af94c74256b55442fae382dd4d",
      "step": null,
      "style": "IPY_MODEL_8ee5ce2ff3ab4a91b39c002b9607e371",
      "value": 1
     }
    },
    "24eec7af94c74256b55442fae382dd4d": {
     "model_module": "@jupyter-widgets/base",
     "model_name": "LayoutModel",
     "model_module_version": "1.2.0",
     "state": {
      "_model_module": "@jupyter-widgets/base",
      "_model_module_version": "1.2.0",
      "_model_name": "LayoutModel",
      "_view_count": null,
      "_view_module": "@jupyter-widgets/base",
      "_view_module_version": "1.2.0",
      "_view_name": "LayoutView",
      "align_content": null,
      "align_items": null,
      "align_self": null,
      "border": null,
      "bottom": null,
      "display": null,
      "flex": null,
      "flex_flow": null,
      "grid_area": null,
      "grid_auto_columns": null,
      "grid_auto_flow": null,
      "grid_auto_rows": null,
      "grid_column": null,
      "grid_gap": null,
      "grid_row": null,
      "grid_template_areas": null,
      "grid_template_columns": null,
      "grid_template_rows": null,
      "height": null,
      "justify_content": null,
      "justify_items": null,
      "left": null,
      "margin": null,
      "max_height": null,
      "max_width": null,
      "min_height": null,
      "min_width": null,
      "object_fit": null,
      "object_position": null,
      "order": null,
      "overflow": null,
      "overflow_x": null,
      "overflow_y": null,
      "padding": null,
      "right": null,
      "top": null,
      "visibility": null,
      "width": null
     }
    },
    "8ee5ce2ff3ab4a91b39c002b9607e371": {
     "model_module": "@jupyter-widgets/controls",
     "model_name": "DescriptionStyleModel",
     "model_module_version": "1.5.0",
     "state": {
      "_model_module": "@jupyter-widgets/controls",
      "_model_module_version": "1.5.0",
      "_model_name": "DescriptionStyleModel",
      "_view_count": null,
      "_view_module": "@jupyter-widgets/base",
      "_view_module_version": "1.2.0",
      "_view_name": "StyleView",
      "description_width": ""
     }
    },
    "bc3b47f019ea4096ad6e08d05af94749": {
     "model_module": "@jupyter-widgets/controls",
     "model_name": "FloatTextModel",
     "model_module_version": "1.5.0",
     "state": {
      "_dom_classes": [],
      "_model_module": "@jupyter-widgets/controls",
      "_model_module_version": "1.5.0",
      "_model_name": "FloatTextModel",
      "_view_count": null,
      "_view_module": "@jupyter-widgets/controls",
      "_view_module_version": "1.5.0",
      "_view_name": "FloatTextView",
      "continuous_update": false,
      "description": "talon",
      "description_tooltip": null,
      "disabled": false,
      "layout": "IPY_MODEL_7c8731009a574ca9b014c26cf20e6daa",
      "step": null,
      "style": "IPY_MODEL_aca962ea4f2d4f42a38615c1569815b9",
      "value": 2.8
     }
    },
    "7c8731009a574ca9b014c26cf20e6daa": {
     "model_module": "@jupyter-widgets/base",
     "model_name": "LayoutModel",
     "model_module_version": "1.2.0",
     "state": {
      "_model_module": "@jupyter-widgets/base",
      "_model_module_version": "1.2.0",
      "_model_name": "LayoutModel",
      "_view_count": null,
      "_view_module": "@jupyter-widgets/base",
      "_view_module_version": "1.2.0",
      "_view_name": "LayoutView",
      "align_content": null,
      "align_items": null,
      "align_self": null,
      "border": null,
      "bottom": null,
      "display": null,
      "flex": null,
      "flex_flow": null,
      "grid_area": null,
      "grid_auto_columns": null,
      "grid_auto_flow": null,
      "grid_auto_rows": null,
      "grid_column": null,
      "grid_gap": null,
      "grid_row": null,
      "grid_template_areas": null,
      "grid_template_columns": null,
      "grid_template_rows": null,
      "height": null,
      "justify_content": null,
      "justify_items": null,
      "left": null,
      "margin": null,
      "max_height": null,
      "max_width": null,
      "min_height": null,
      "min_width": null,
      "object_fit": null,
      "object_position": null,
      "order": null,
      "overflow": null,
      "overflow_x": null,
      "overflow_y": null,
      "padding": null,
      "right": null,
      "top": null,
      "visibility": null,
      "width": null
     }
    },
    "aca962ea4f2d4f42a38615c1569815b9": {
     "model_module": "@jupyter-widgets/controls",
     "model_name": "DescriptionStyleModel",
     "model_module_version": "1.5.0",
     "state": {
      "_model_module": "@jupyter-widgets/controls",
      "_model_module_version": "1.5.0",
      "_model_name": "DescriptionStyleModel",
      "_view_count": null,
      "_view_module": "@jupyter-widgets/base",
      "_view_module_version": "1.2.0",
      "_view_name": "StyleView",
      "description_width": ""
     }
    },
    "c040b34d5f1646d09853e2441397f57b": {
     "model_module": "@jupyter-widgets/controls",
     "model_name": "FloatTextModel",
     "model_module_version": "1.5.0",
     "state": {
      "_dom_classes": [],
      "_model_module": "@jupyter-widgets/controls",
      "_model_module_version": "1.5.0",
      "_model_name": "FloatTextModel",
      "_view_count": null,
      "_view_module": "@jupyter-widgets/controls",
      "_view_module_version": "1.5.0",
      "_view_name": "FloatTextView",
      "continuous_update": false,
      "description": "h_z",
      "description_tooltip": null,
      "disabled": false,
      "layout": "IPY_MODEL_9412cab328ae4686bc698bbbe5953b46",
      "step": null,
      "style": "IPY_MODEL_8f5b39d2b5c648f6942f46cad894a04f",
      "value": 0.6
     }
    },
    "9412cab328ae4686bc698bbbe5953b46": {
     "model_module": "@jupyter-widgets/base",
     "model_name": "LayoutModel",
     "model_module_version": "1.2.0",
     "state": {
      "_model_module": "@jupyter-widgets/base",
      "_model_module_version": "1.2.0",
      "_model_name": "LayoutModel",
      "_view_count": null,
      "_view_module": "@jupyter-widgets/base",
      "_view_module_version": "1.2.0",
      "_view_name": "LayoutView",
      "align_content": null,
      "align_items": null,
      "align_self": null,
      "border": null,
      "bottom": null,
      "display": null,
      "flex": null,
      "flex_flow": null,
      "grid_area": null,
      "grid_auto_columns": null,
      "grid_auto_flow": null,
      "grid_auto_rows": null,
      "grid_column": null,
      "grid_gap": null,
      "grid_row": null,
      "grid_template_areas": null,
      "grid_template_columns": null,
      "grid_template_rows": null,
      "height": null,
      "justify_content": null,
      "justify_items": null,
      "left": null,
      "margin": null,
      "max_height": null,
      "max_width": null,
      "min_height": null,
      "min_width": null,
      "object_fit": null,
      "object_position": null,
      "order": null,
      "overflow": null,
      "overflow_x": null,
      "overflow_y": null,
      "padding": null,
      "right": null,
      "top": null,
      "visibility": null,
      "width": null
     }
    },
    "8f5b39d2b5c648f6942f46cad894a04f": {
     "model_module": "@jupyter-widgets/controls",
     "model_name": "DescriptionStyleModel",
     "model_module_version": "1.5.0",
     "state": {
      "_model_module": "@jupyter-widgets/controls",
      "_model_module_version": "1.5.0",
      "_model_name": "DescriptionStyleModel",
      "_view_count": null,
      "_view_module": "@jupyter-widgets/base",
      "_view_module_version": "1.2.0",
      "_view_name": "StyleView",
      "description_width": ""
     }
    },
    "02f1913df12646eaa2a04233481ddaa3": {
     "model_module": "@jupyter-widgets/controls",
     "model_name": "FloatTextModel",
     "model_module_version": "1.5.0",
     "state": {
      "_dom_classes": [],
      "_model_module": "@jupyter-widgets/controls",
      "_model_module_version": "1.5.0",
      "_model_name": "FloatTextModel",
      "_view_count": null,
      "_view_module": "@jupyter-widgets/controls",
      "_view_module_version": "1.5.0",
      "_view_name": "FloatTextView",
      "continuous_update": false,
      "description": "l_z",
      "description_tooltip": null,
      "disabled": false,
      "layout": "IPY_MODEL_8ba511ada55b4f2e9300ba79a3398ee2",
      "step": null,
      "style": "IPY_MODEL_bb00d38d477b42b8a2fb7640773fbc28",
      "value": 4.4
     }
    },
    "8ba511ada55b4f2e9300ba79a3398ee2": {
     "model_module": "@jupyter-widgets/base",
     "model_name": "LayoutModel",
     "model_module_version": "1.2.0",
     "state": {
      "_model_module": "@jupyter-widgets/base",
      "_model_module_version": "1.2.0",
      "_model_name": "LayoutModel",
      "_view_count": null,
      "_view_module": "@jupyter-widgets/base",
      "_view_module_version": "1.2.0",
      "_view_name": "LayoutView",
      "align_content": null,
      "align_items": null,
      "align_self": null,
      "border": null,
      "bottom": null,
      "display": null,
      "flex": null,
      "flex_flow": null,
      "grid_area": null,
      "grid_auto_columns": null,
      "grid_auto_flow": null,
      "grid_auto_rows": null,
      "grid_column": null,
      "grid_gap": null,
      "grid_row": null,
      "grid_template_areas": null,
      "grid_template_columns": null,
      "grid_template_rows": null,
      "height": null,
      "justify_content": null,
      "justify_items": null,
      "left": null,
      "margin": null,
      "max_height": null,
      "max_width": null,
      "min_height": null,
      "min_width": null,
      "object_fit": null,
      "object_position": null,
      "order": null,
      "overflow": null,
      "overflow_x": null,
      "overflow_y": null,
      "padding": null,
      "right": null,
      "top": null,
      "visibility": null,
      "width": null
     }
    },
    "bb00d38d477b42b8a2fb7640773fbc28": {
     "model_module": "@jupyter-widgets/controls",
     "model_name": "DescriptionStyleModel",
     "model_module_version": "1.5.0",
     "state": {
      "_model_module": "@jupyter-widgets/controls",
      "_model_module_version": "1.5.0",
      "_model_name": "DescriptionStyleModel",
      "_view_count": null,
      "_view_module": "@jupyter-widgets/base",
      "_view_module_version": "1.2.0",
      "_view_name": "StyleView",
      "description_width": ""
     }
    },
    "6bec22e514c240b09d96541a40ef8f89": {
     "model_module": "@jupyter-widgets/controls",
     "model_name": "FloatTextModel",
     "model_module_version": "1.5.0",
     "state": {
      "_dom_classes": [],
      "_model_module": "@jupyter-widgets/controls",
      "_model_module_version": "1.5.0",
      "_model_name": "FloatTextModel",
      "_view_count": null,
      "_view_module": "@jupyter-widgets/controls",
      "_view_module_version": "1.5.0",
      "_view_name": "FloatTextView",
      "continuous_update": false,
      "description": "h_mc",
      "description_tooltip": null,
      "disabled": false,
      "layout": "IPY_MODEL_fddc8538a05e4ffbaf3105fea9c5889a",
      "step": null,
      "style": "IPY_MODEL_244f06062f004421912219dac93abfa8",
      "value": 6.5
     }
    },
    "fddc8538a05e4ffbaf3105fea9c5889a": {
     "model_module": "@jupyter-widgets/base",
     "model_name": "LayoutModel",
     "model_module_version": "1.2.0",
     "state": {
      "_model_module": "@jupyter-widgets/base",
      "_model_module_version": "1.2.0",
      "_model_name": "LayoutModel",
      "_view_count": null,
      "_view_module": "@jupyter-widgets/base",
      "_view_module_version": "1.2.0",
      "_view_name": "LayoutView",
      "align_content": null,
      "align_items": null,
      "align_self": null,
      "border": null,
      "bottom": null,
      "display": null,
      "flex": null,
      "flex_flow": null,
      "grid_area": null,
      "grid_auto_columns": null,
      "grid_auto_flow": null,
      "grid_auto_rows": null,
      "grid_column": null,
      "grid_gap": null,
      "grid_row": null,
      "grid_template_areas": null,
      "grid_template_columns": null,
      "grid_template_rows": null,
      "height": null,
      "justify_content": null,
      "justify_items": null,
      "left": null,
      "margin": null,
      "max_height": null,
      "max_width": null,
      "min_height": null,
      "min_width": null,
      "object_fit": null,
      "object_position": null,
      "order": null,
      "overflow": null,
      "overflow_x": null,
      "overflow_y": null,
      "padding": null,
      "right": null,
      "top": null,
      "visibility": null,
      "width": null
     }
    },
    "244f06062f004421912219dac93abfa8": {
     "model_module": "@jupyter-widgets/controls",
     "model_name": "DescriptionStyleModel",
     "model_module_version": "1.5.0",
     "state": {
      "_model_module": "@jupyter-widgets/controls",
      "_model_module_version": "1.5.0",
      "_model_name": "DescriptionStyleModel",
      "_view_count": null,
      "_view_module": "@jupyter-widgets/base",
      "_view_module_version": "1.2.0",
      "_view_name": "StyleView",
      "description_width": ""
     }
    },
    "e175b26afcd9443abcc899750c07a8b8": {
     "model_module": "@jupyter-widgets/controls",
     "model_name": "FloatTextModel",
     "model_module_version": "1.5.0",
     "state": {
      "_dom_classes": [],
      "_model_module": "@jupyter-widgets/controls",
      "_model_module_version": "1.5.0",
      "_model_name": "FloatTextModel",
      "_view_count": null,
      "_view_module": "@jupyter-widgets/controls",
      "_view_module_version": "1.5.0",
      "_view_name": "FloatTextView",
      "continuous_update": false,
      "description": "nfz",
      "description_tooltip": null,
      "disabled": false,
      "layout": "IPY_MODEL_c914a9dcebef403ea471137847683735",
      "step": null,
      "style": "IPY_MODEL_23f08625a1724007bd95df609bfb3689",
      "value": 0.9
     }
    },
    "c914a9dcebef403ea471137847683735": {
     "model_module": "@jupyter-widgets/base",
     "model_name": "LayoutModel",
     "model_module_version": "1.2.0",
     "state": {
      "_model_module": "@jupyter-widgets/base",
      "_model_module_version": "1.2.0",
      "_model_name": "LayoutModel",
      "_view_count": null,
      "_view_module": "@jupyter-widgets/base",
      "_view_module_version": "1.2.0",
      "_view_name": "LayoutView",
      "align_content": null,
      "align_items": null,
      "align_self": null,
      "border": null,
      "bottom": null,
      "display": null,
      "flex": null,
      "flex_flow": null,
      "grid_area": null,
      "grid_auto_columns": null,
      "grid_auto_flow": null,
      "grid_auto_rows": null,
      "grid_column": null,
      "grid_gap": null,
      "grid_row": null,
      "grid_template_areas": null,
      "grid_template_columns": null,
      "grid_template_rows": null,
      "height": null,
      "justify_content": null,
      "justify_items": null,
      "left": null,
      "margin": null,
      "max_height": null,
      "max_width": null,
      "min_height": null,
      "min_width": null,
      "object_fit": null,
      "object_position": null,
      "order": null,
      "overflow": null,
      "overflow_x": null,
      "overflow_y": null,
      "padding": null,
      "right": null,
      "top": null,
      "visibility": null,
      "width": null
     }
    },
    "23f08625a1724007bd95df609bfb3689": {
     "model_module": "@jupyter-widgets/controls",
     "model_name": "DescriptionStyleModel",
     "model_module_version": "1.5.0",
     "state": {
      "_model_module": "@jupyter-widgets/controls",
      "_model_module_version": "1.5.0",
      "_model_name": "DescriptionStyleModel",
      "_view_count": null,
      "_view_module": "@jupyter-widgets/base",
      "_view_module_version": "1.2.0",
      "_view_name": "StyleView",
      "description_width": ""
     }
    },
    "29595d2db9e54813b5fcb1f1f87f16a7": {
     "model_module": "@jupyter-widgets/controls",
     "model_name": "FloatTextModel",
     "model_module_version": "1.5.0",
     "state": {
      "_dom_classes": [],
      "_model_module": "@jupyter-widgets/controls",
      "_model_module_version": "1.5.0",
      "_model_name": "FloatTextModel",
      "_view_count": null,
      "_view_module": "@jupyter-widgets/controls",
      "_view_module_version": "1.5.0",
      "_view_name": "FloatTextView",
      "continuous_update": false,
      "description": "sc",
      "description_tooltip": null,
      "disabled": false,
      "layout": "IPY_MODEL_43c703a1d6e3402a967e19193a7e8ee7",
      "step": null,
      "style": "IPY_MODEL_2b72160e89f44fb8959c699a77dd1eb3",
      "value": 1.5
     }
    },
    "43c703a1d6e3402a967e19193a7e8ee7": {
     "model_module": "@jupyter-widgets/base",
     "model_name": "LayoutModel",
     "model_module_version": "1.2.0",
     "state": {
      "_model_module": "@jupyter-widgets/base",
      "_model_module_version": "1.2.0",
      "_model_name": "LayoutModel",
      "_view_count": null,
      "_view_module": "@jupyter-widgets/base",
      "_view_module_version": "1.2.0",
      "_view_name": "LayoutView",
      "align_content": null,
      "align_items": null,
      "align_self": null,
      "border": null,
      "bottom": null,
      "display": null,
      "flex": null,
      "flex_flow": null,
      "grid_area": null,
      "grid_auto_columns": null,
      "grid_auto_flow": null,
      "grid_auto_rows": null,
      "grid_column": null,
      "grid_gap": null,
      "grid_row": null,
      "grid_template_areas": null,
      "grid_template_columns": null,
      "grid_template_rows": null,
      "height": null,
      "justify_content": null,
      "justify_items": null,
      "left": null,
      "margin": null,
      "max_height": null,
      "max_width": null,
      "min_height": null,
      "min_width": null,
      "object_fit": null,
      "object_position": null,
      "order": null,
      "overflow": null,
      "overflow_x": null,
      "overflow_y": null,
      "padding": null,
      "right": null,
      "top": null,
      "visibility": null,
      "width": null
     }
    },
    "2b72160e89f44fb8959c699a77dd1eb3": {
     "model_module": "@jupyter-widgets/controls",
     "model_name": "DescriptionStyleModel",
     "model_module_version": "1.5.0",
     "state": {
      "_model_module": "@jupyter-widgets/controls",
      "_model_module_version": "1.5.0",
      "_model_name": "DescriptionStyleModel",
      "_view_count": null,
      "_view_module": "@jupyter-widgets/base",
      "_view_module_version": "1.2.0",
      "_view_name": "StyleView",
      "description_width": ""
     }
    }
   }
  }
 },
 "cells": [
  {
   "cell_type": "code",
   "execution_count": 12,
   "outputs": [],
   "source": [
    "from sympy import *\n",
    "import ipywidgets as widgets"
   ],
   "metadata": {
    "collapsed": false
   }
  },
  {
   "cell_type": "markdown",
   "source": [
    "# Predimensionamiento (Datos Generales)"
   ],
   "metadata": {
    "id": "crX4q5k5Tfd7"
   }
  },
  {
   "cell_type": "code",
   "source": [
    "esf_adm=3.15 #kgf/cm2\n",
    "dens_suelo=1.75 #tnf/m3\n",
    "dens_concreto=2.4 #tnf/m3\n",
    "ang_friccion=30\n",
    "mu=tan(2/3*ang_friccion*pi/180)\n",
    "sc1=1 #tnf/m2\n",
    "sc2=0 #tnf/m2"
   ],
   "metadata": {
    "id": "_E9-EWjSSrE-"
   },
   "execution_count": 13,
   "outputs": []
  },
  {
   "cell_type": "code",
   "source": [
    "c=widgets.FloatText(description='corona',value='1')\n",
    "p=widgets.FloatText(description='pie',value='1')\n",
    "t=widgets.FloatText(description='talon',value='1')\n",
    "pz=widgets.FloatText(description='h_z',value='1')\n",
    "lz=widgets.FloatText(description='l_z',value='1')\n",
    "hm=widgets.FloatText(description='h_mc',value='1')\n",
    "nfz=widgets.FloatText(description='nfz',value='1')\n",
    "sc=widgets.FloatText(description='sc',value='1')\n",
    "display(c,p,t,pz,lz,hm,nfz,sc)"
   ],
   "metadata": {
    "id": "-yeliKJ4Vt2g",
    "colab": {
     "base_uri": "https://localhost:8080/",
     "height": 267,
     "referenced_widgets": [
      "7b3bb4cfc38f4e6483bed7a63538601d",
      "fd4b8b4f695f4052b3ef430f09aa6811",
      "35f74a7a74a0494791c96cd1af2c562b",
      "03a857c42fd140288a7677773bdfe092",
      "24eec7af94c74256b55442fae382dd4d",
      "8ee5ce2ff3ab4a91b39c002b9607e371",
      "bc3b47f019ea4096ad6e08d05af94749",
      "7c8731009a574ca9b014c26cf20e6daa",
      "aca962ea4f2d4f42a38615c1569815b9",
      "c040b34d5f1646d09853e2441397f57b",
      "9412cab328ae4686bc698bbbe5953b46",
      "8f5b39d2b5c648f6942f46cad894a04f",
      "02f1913df12646eaa2a04233481ddaa3",
      "8ba511ada55b4f2e9300ba79a3398ee2",
      "bb00d38d477b42b8a2fb7640773fbc28",
      "6bec22e514c240b09d96541a40ef8f89",
      "fddc8538a05e4ffbaf3105fea9c5889a",
      "244f06062f004421912219dac93abfa8",
      "e175b26afcd9443abcc899750c07a8b8",
      "c914a9dcebef403ea471137847683735",
      "23f08625a1724007bd95df609bfb3689",
      "29595d2db9e54813b5fcb1f1f87f16a7",
      "43c703a1d6e3402a967e19193a7e8ee7",
      "2b72160e89f44fb8959c699a77dd1eb3"
     ]
    },
    "outputId": "59797e68-b3b1-431f-c624-5dc96a94e771"
   },
   "execution_count": 14,
   "outputs": [
    {
     "data": {
      "text/plain": "FloatText(value=1.0, description='corona')",
      "application/vnd.jupyter.widget-view+json": {
       "version_major": 2,
       "version_minor": 0,
       "model_id": "5d97b68240a343ecbec2e5aef20a92af"
      }
     },
     "metadata": {},
     "output_type": "display_data"
    },
    {
     "data": {
      "text/plain": "FloatText(value=1.0, description='pie')",
      "application/vnd.jupyter.widget-view+json": {
       "version_major": 2,
       "version_minor": 0,
       "model_id": "884a91d6f09e4979a79f7969d5c4e043"
      }
     },
     "metadata": {},
     "output_type": "display_data"
    },
    {
     "data": {
      "text/plain": "FloatText(value=1.0, description='talon')",
      "application/vnd.jupyter.widget-view+json": {
       "version_major": 2,
       "version_minor": 0,
       "model_id": "974a00dec5c74f0aa07efe9ef6c72b19"
      }
     },
     "metadata": {},
     "output_type": "display_data"
    },
    {
     "data": {
      "text/plain": "FloatText(value=1.0, description='h_z')",
      "application/vnd.jupyter.widget-view+json": {
       "version_major": 2,
       "version_minor": 0,
       "model_id": "7f84335552b4420985f3db9868cabd73"
      }
     },
     "metadata": {},
     "output_type": "display_data"
    },
    {
     "data": {
      "text/plain": "FloatText(value=1.0, description='l_z')",
      "application/vnd.jupyter.widget-view+json": {
       "version_major": 2,
       "version_minor": 0,
       "model_id": "08306f82f91f41dba29108517e187494"
      }
     },
     "metadata": {},
     "output_type": "display_data"
    },
    {
     "data": {
      "text/plain": "FloatText(value=1.0, description='h_mc')",
      "application/vnd.jupyter.widget-view+json": {
       "version_major": 2,
       "version_minor": 0,
       "model_id": "449d61538082438aa4b824795e3f3f9f"
      }
     },
     "metadata": {},
     "output_type": "display_data"
    },
    {
     "data": {
      "text/plain": "FloatText(value=1.0, description='nfz')",
      "application/vnd.jupyter.widget-view+json": {
       "version_major": 2,
       "version_minor": 0,
       "model_id": "a8238883d6fc48ada4c4710335ed4ae0"
      }
     },
     "metadata": {},
     "output_type": "display_data"
    },
    {
     "data": {
      "text/plain": "FloatText(value=1.0, description='sc')",
      "application/vnd.jupyter.widget-view+json": {
       "version_major": 2,
       "version_minor": 0,
       "model_id": "2dc5ef9fda2542498212ee42a5de9c9f"
      }
     },
     "metadata": {},
     "output_type": "display_data"
    }
   ]
  },
  {
   "cell_type": "markdown",
   "source": [
    "# 2.Empujes"
   ],
   "metadata": {
    "id": "jn4RG-HqTsLt"
   }
  },
  {
   "cell_type": "markdown",
   "source": [
    "## 2.1.Empuje Activo"
   ],
   "metadata": {
    "id": "-BO_twjWT0BQ"
   }
  },
  {
   "cell_type": "code",
   "source": [
    "ka=tan((45-ang_friccion/2)*pi/180)**2\n",
    "pa=ka*dens_suelo*hm.value\n",
    "Ea=pa*hm.value/2\n",
    "print('El empuje activo es: ',round(Ea,2))"
   ],
   "metadata": {
    "colab": {
     "base_uri": "https://localhost:8080/"
    },
    "id": "c37ciXTYT7TZ",
    "outputId": "492d5122-2481-4f6f-aabe-63d96b04afb4"
   },
   "execution_count": 31,
   "outputs": [
    {
     "name": "stdout",
     "output_type": "stream",
     "text": [
      "El empuje activo es:  7.29\n"
     ]
    }
   ]
  },
  {
   "cell_type": "markdown",
   "source": [
    "## 2.2.Empuje Sobrecarga"
   ],
   "metadata": {
    "id": "uxSnQzrCU1Ou"
   }
  },
  {
   "cell_type": "code",
   "source": [
    "Ea_sc1=ka*sc1*hm.value\n",
    "Ea_sc2=ka*sc2*hm.value\n",
    "Ea_sc=Ea_sc1+Ea_sc2\n",
    "print('El empuje activo de la sobrecarga es: ',round(Ea_sc,2))"
   ],
   "metadata": {
    "colab": {
     "base_uri": "https://localhost:8080/"
    },
    "id": "a26JA26tU5y-",
    "outputId": "e64795b1-5209-4a33-b223-a61d39600780"
   },
   "execution_count": 32,
   "outputs": [
    {
     "name": "stdout",
     "output_type": "stream",
     "text": [
      "El empuje activo de la sobrecarga es:  7.50\n"
     ]
    }
   ]
  },
  {
   "cell_type": "markdown",
   "source": [
    "# 2.3.Empuje Pasivo"
   ],
   "metadata": {
    "id": "B2UWA2XyVPcK"
   }
  },
  {
   "cell_type": "code",
   "source": [
    "kp=tan((45+ang_friccion/2)*pi/180)**2\n",
    "pp=kp*dens_suelo*pz.value\n",
    "Ep=pp*pz.value/2\n",
    "print('El empuje pasivo es: ',round(Ep,2))"
   ],
   "metadata": {
    "colab": {
     "base_uri": "https://localhost:8080/"
    },
    "id": "I016QMaTZJy7",
    "outputId": "533bbaa4-8112-4449-b739-5644d1a755c0"
   },
   "execution_count": 33,
   "outputs": [
    {
     "name": "stdout",
     "output_type": "stream",
     "text": [
      "El empuje pasivo es:  1.68\n"
     ]
    }
   ]
  },
  {
   "cell_type": "markdown",
   "source": [
    "# 3.Estabilidad"
   ],
   "metadata": {
    "id": "vwKZGR4wVn8m"
   }
  },
  {
   "cell_type": "markdown",
   "source": [
    "## 3.1.Volteo"
   ],
   "metadata": {
    "id": "Wl0bp3gBVxOa"
   }
  },
  {
   "cell_type": "code",
   "source": [
    "#Momento de Equilibrio\n",
    "#Concreto\n",
    "z1=(pz.value*lz.value*1)*dens_concreto\n",
    "br1=lz.value/2\n",
    "z2=(c.value*hm.value*1)*dens_concreto\n",
    "br2=c.value/2+p.value\n",
    "z3=((lz.value-(p.value+t.value+c.value))*hm.value/2*1)*dens_concreto\n",
    "br3=1/3*(lz.value-(p.value+t.value+c.value))+c.value+p.value\n",
    "#Suelo\n",
    "z4=(t.value*hm.value*1)*dens_suelo\n",
    "br_z4=lz.value-t.value/2\n",
    "z5=((lz.value-(p.value+t.value+c.value))*hm.value/2*1)*dens_suelo\n",
    "br_z5=2/3*(lz.value-(p.value+t.value+c.value))+c.value+p.value\n",
    "z6=sc.value*((lz.value-p.value-c.value)*1)\n",
    "br_z6=(lz.value-c.value-p.value)/2\n",
    "Me=z1*br1+z2*br2+z3*br3+z4*br_z4+z5*br_z5+z6*br_z6\n",
    "print('Momento de Equilibrio=',round(Me,2),'tnf-m')\n",
    "#Momento de Volteo\n",
    "Mv=Ea*(hm.value/3+pz.value)+Ea_sc*(hm.value/2+pz.value)\n",
    "print('Momento de Volteo=',round(Mv,2),'tnf-m')\n",
    "#Factor de Seguridad\n",
    "FS_v=Me/Mv\n",
    "print('FS de Volteo=',round(FS_v,2),'tnf-m')"
   ],
   "metadata": {
    "colab": {
     "base_uri": "https://localhost:8080/"
    },
    "id": "i01CoqxwxUen",
    "outputId": "f8720125-8fa8-4ae8-cce2-4a1535e18ac0"
   },
   "execution_count": 34,
   "outputs": [
    {
     "name": "stdout",
     "output_type": "stream",
     "text": [
      "Momento de Equilibrio= 43.02 tnf-m\n",
      "Momento de Volteo= 42.74 tnf-m\n",
      "FS de Volteo= 1.01 tnf-m\n"
     ]
    }
   ]
  },
  {
   "cell_type": "markdown",
   "source": [
    "## 3.2.Deslizamiento"
   ],
   "metadata": {
    "id": "tZKe5oLnMuZG"
   }
  },
  {
   "cell_type": "code",
   "source": [
    "#Deslizamiento Activo\n",
    "Da=Ea+Ea_sc\n",
    "#Deslizamiento Resistente\n",
    "N=z1+z2+z3+z4+z5+z6\n",
    "Dr=mu*N+Ep\n",
    "if Da>Dr:\n",
    "  print('Necesita Dentellon')\n",
    "  print('Da=',round(Da,2),'>','Dr=',round(Dr,2))\n",
    "else:\n",
    "  print('No Necesita Dentellon')\n",
    "  print('Da=',round(Da,2),'<','Dr=',round(Dr,2))\n",
    "FS_d=Dr/Da\n",
    "print('FS de Volteo=',round(FS_d,2),'tnf-m')\n",
    "x=symbols('x')\n",
    "Hs=solveset(Eq((kp*x**2*dens_suelo)/2,(1.5*Da-mu*N)),x)\n",
    "hs1,hs2=Hs\n",
    "Hd=hs1-pz.value\n",
    "print('Altura Dentellon=',round(Hd,2),'m')"
   ],
   "metadata": {
    "id": "hpqLbnaEx3l3",
    "colab": {
     "base_uri": "https://localhost:8080/"
    },
    "outputId": "4cdb2c86-1d58-4df0-e07e-b723a2abd7ae"
   },
   "execution_count": 35,
   "outputs": [
    {
     "name": "stdout",
     "output_type": "stream",
     "text": [
      "Necesita Dentellon\n",
      "Da= 14.79 > Dr= 10.09\n",
      "FS de Volteo= 0.68 tnf-m\n",
      "Altura Dentellon= 1.49 m\n"
     ]
    }
   ]
  },
  {
   "cell_type": "markdown",
   "source": [
    "## 3.3.Esfuerzos Admisibles"
   ],
   "metadata": {
    "id": "9c-si7yU6X0D"
   }
  },
  {
   "cell_type": "code",
   "source": [
    "P=z1+z2+z3+z4+z5+z6\n",
    "x2=(Me-Mv)/P\n",
    "M=P*(lz.value/2-x2)\n",
    "print('P=',round(P,2))\n",
    "print('x2=',round(x2,2))\n",
    "print('M=',round(M,2))\n",
    "A=lz.value*1\n",
    "y=lz.value/2\n",
    "I=1*(lz.value)**3/12\n",
    "sigma_p=P/A+M*y/I\n",
    "sigma_n=P/A-M*y/I\n",
    "print('sigma_p=',round(sigma_p,2))\n",
    "print('sigma_n=',round(sigma_n,2))\n",
    "sigma_m=2/3*(P/(lz.value/2-x2))\n",
    "if sigma_m<esf_adm*10*1.3:\n",
    "  print('sigma_m=',sigma_m.evalf(3),'>','esf_adm=',round(esf_adm*10*1.3,2))\n",
    "  print('ok')\n",
    "else:\n",
    "  print('sigma_m=',sigma_m.evalf(3),'<','esf_adm=',round(esf_adm*10*1.3,2))\n",
    "  print('no ok')"
   ],
   "metadata": {
    "colab": {
     "base_uri": "https://localhost:8080/"
    },
    "id": "THM17l1o6aDC",
    "outputId": "09f0421f-3c17-4ca7-af75-e4f7e7217cc7"
   },
   "execution_count": 36,
   "outputs": [
    {
     "name": "stdout",
     "output_type": "stream",
     "text": [
      "P= 23.11\n",
      "x2= 0.01\n",
      "M= 34.38\n",
      "sigma_p= 30.63\n",
      "sigma_n= -15.22\n",
      "sigma_m= 10.4 > esf_adm= 40.95\n",
      "ok\n"
     ]
    }
   ]
  },
  {
   "cell_type": "markdown",
   "source": [
    "# 4.Esfuerzos internos"
   ],
   "metadata": {
    "id": "UO9_nNVKSA4e"
   }
  },
  {
   "cell_type": "markdown",
   "source": [
    "Revisar los calculos..."
   ],
   "metadata": {
    "id": "51ZyFuUfZ6UW"
   }
  }
 ]
}
