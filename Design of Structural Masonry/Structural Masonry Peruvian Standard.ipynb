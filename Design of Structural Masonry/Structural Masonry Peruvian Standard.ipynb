{
 "cells": [
  {
   "cell_type": "markdown",
   "metadata": {},
   "source": [
    "<span style=\"font:16pt Comic Sans Ms\">\n",
    "\n",
    "Alb Confinada: Apar. Soga\n",
    "- Concreto\n",
    "    - f'c=210 kgf/cm2\n",
    "    - fy=4200 kgf/cm2\n",
    "- Alb\n",
    "    - Confinada\n",
    "        - f'm=60  kgf/cm2\n",
    "        - v'm=7.5  kgf/cm2\n",
    "    - Armada\n",
    "        - f'm=80 kgf/cm2\n",
    "        - v'm=8 kgf/cm2\n",
    "\n",
    "Para Alb Arm usar unidades de 14*29*39 (2 alveolos)\n"
   ]
  },
  {
   "cell_type": "markdown",
   "metadata": {},
   "source": [
    "<span style=\"font:16pt Comic Sans Ms\">\n",
    "\n",
    "Analisis Estructural\n",
    "- Axial\n",
    "- Flexion\n",
    "- Cortante\n",
    "- Torsion"
   ]
  },
  {
   "cell_type": "markdown",
   "metadata": {},
   "source": [
    "**AXIAL**"
   ]
  },
  {
   "cell_type": "code",
   "execution_count": 266,
   "metadata": {},
   "outputs": [],
   "source": [
    "from sympy import *\n",
    "import handcalcs.render"
   ]
  },
  {
   "cell_type": "markdown",
   "metadata": {},
   "source": [
    "Segundo Piso"
   ]
  },
  {
   "cell_type": "code",
   "execution_count": 267,
   "metadata": {},
   "outputs": [
    {
     "data": {
      "text/latex": [
       "\\[\n",
       "\\begin{aligned}\n",
       "\\mathrm{cm2} &= 4.20 \\; \n",
       " &\\mathrm{cv2} &= 2.80 \\; \n",
       " &\\mathrm{pg2} &= 4.90 \\; \n",
       "\\\\[10pt]\n",
       "\\end{aligned}\n",
       "\\]"
      ],
      "text/plain": [
       "<IPython.core.display.Latex object>"
      ]
     },
     "metadata": {},
     "output_type": "display_data"
    }
   ],
   "source": [
    "%%render params 2\n",
    "cm2=1.2*3.5\n",
    "cv2=0.8*3.5\n",
    "pg2=cm2+0.25*cv2"
   ]
  },
  {
   "cell_type": "markdown",
   "metadata": {},
   "source": [
    "Primer Piso"
   ]
  },
  {
   "cell_type": "code",
   "execution_count": 268,
   "metadata": {},
   "outputs": [
    {
     "data": {
      "text/latex": [
       "\\[\n",
       "\\begin{aligned}\n",
       "\\mathrm{cm1} &= 7.70 \\; \n",
       " &\\mathrm{cv1} &= 4.20 \\; \n",
       " &\\mathrm{pg1} &= 8.75 \\; \n",
       "\\\\[10pt]\n",
       "\\end{aligned}\n",
       "\\]"
      ],
      "text/plain": [
       "<IPython.core.display.Latex object>"
      ]
     },
     "metadata": {},
     "output_type": "display_data"
    }
   ],
   "source": [
    "%%render params 2\n",
    "cm1=2.2*3.5\n",
    "cv1=1.2*3.5\n",
    "pg1=cm1+0.25*cv1"
   ]
  },
  {
   "cell_type": "markdown",
   "metadata": {},
   "source": [
    "Nota: Considerar las cargas puntuales que se muestran en el grafico"
   ]
  },
  {
   "cell_type": "markdown",
   "metadata": {},
   "source": [
    "**CORTE**"
   ]
  },
  {
   "cell_type": "markdown",
   "metadata": {},
   "source": [
    "Segundo Piso"
   ]
  },
  {
   "cell_type": "code",
   "execution_count": 269,
   "metadata": {},
   "outputs": [],
   "source": [
    "ve2=8"
   ]
  },
  {
   "cell_type": "markdown",
   "metadata": {},
   "source": [
    "Primer Piso"
   ]
  },
  {
   "cell_type": "code",
   "execution_count": 270,
   "metadata": {},
   "outputs": [],
   "source": [
    "ve1=11"
   ]
  },
  {
   "cell_type": "markdown",
   "metadata": {},
   "source": [
    "Nota: Se han considerado las fuerzas inerciales, provenientes del analisis sismico estatico"
   ]
  },
  {
   "cell_type": "markdown",
   "metadata": {},
   "source": [
    "**FLEXION**\n",
    "Tambien denominados momentos de volteo"
   ]
  },
  {
   "cell_type": "markdown",
   "metadata": {},
   "source": [
    "Segundo Piso"
   ]
  },
  {
   "cell_type": "code",
   "execution_count": 271,
   "metadata": {},
   "outputs": [],
   "source": [
    "Me2=ve2*2.6"
   ]
  },
  {
   "cell_type": "markdown",
   "metadata": {},
   "source": [
    "Primer Piso"
   ]
  },
  {
   "cell_type": "code",
   "execution_count": 272,
   "metadata": {},
   "outputs": [],
   "source": [
    "Me1=(ve1+ve2)*2.6"
   ]
  },
  {
   "cell_type": "markdown",
   "metadata": {},
   "source": [
    "# Diseño"
   ]
  },
  {
   "cell_type": "markdown",
   "metadata": {},
   "source": [
    "## Control de Fisuracion"
   ]
  },
  {
   "cell_type": "code",
   "execution_count": 273,
   "metadata": {},
   "outputs": [
    {
     "data": {
      "text/latex": [
       "\\[\n",
       "\\begin{aligned}\n",
       "\\mathrm{a2} &= \\mathrm{ve2} \\cdot \\left( \\frac{ 3.5 }{ \\mathrm{Me2} } \\right)  = 8 \\cdot \\left( \\frac{ 3.5 }{ 20.800 } \\right) &= 1.346 \\; \\;\\textrm{(Alpha)}\n",
       "\\\\[10pt]\n",
       "\\mathrm{a1} &= \\mathrm{ve1} \\cdot \\left( \\frac{ 3.5 }{ \\mathrm{Me1} } \\right)  = 11 \\cdot \\left( \\frac{ 3.5 }{ 49.400 } \\right) &= 0.779 \\; \\;\\textrm{(Alpha)}\n",
       "\\end{aligned}\n",
       "\\]"
      ],
      "text/plain": [
       "<IPython.core.display.Latex object>"
      ]
     },
     "metadata": {},
     "output_type": "display_data"
    }
   ],
   "source": [
    "%%render\n",
    "#Piso 2\n",
    "a2 =ve2*(3.5/Me2) #Alpha\n",
    "#Piso 1\n",
    "a1 =ve1*(3.5/Me1) #Alpha"
   ]
  },
  {
   "cell_type": "code",
   "execution_count": 274,
   "metadata": {},
   "outputs": [
    {
     "data": {
      "text/latex": [
       "\\[\n",
       "\\begin{aligned}\n",
       "\\mathrm{a2} &= 1 \\; \n",
       "\\\\[10pt]\n",
       "\\mathrm{vm} &= 75 \\; \\;\\textrm{(kgf/cm2-x10-tnf/m2)}\n",
       "\\\\[10pt]\n",
       "\\mathrm{Vm2} &= 0.5 \\cdot \\mathrm{vm} \\cdot \\mathrm{a2} \\cdot 0.14 \\cdot 3.5 + 0.23 \\cdot \\mathrm{pg2}  = 0.5 \\cdot 75 \\cdot 1 \\cdot 0.14 \\cdot 3.5 + 0.23 \\cdot 4.900 &= 19.502  \n",
       "\\end{aligned}\n",
       "\\]"
      ],
      "text/plain": [
       "<IPython.core.display.Latex object>"
      ]
     },
     "metadata": {},
     "output_type": "display_data"
    }
   ],
   "source": [
    "%%render\n",
    "#Piso 2\n",
    "a2=1\n",
    "vm =75 #kgf/cm2-x10-tnf/m2\n",
    "Vm2 =0.5*vm*a2*0.14*3.5+0.23*pg2"
   ]
  },
  {
   "cell_type": "code",
   "execution_count": 275,
   "metadata": {},
   "outputs": [
    {
     "data": {
      "text/plain": [
       "(8, 10.73)"
      ]
     },
     "execution_count": 275,
     "metadata": {},
     "output_type": "execute_result"
    }
   ],
   "source": [
    "ve2,(0.55*Vm2).__round__(2)"
   ]
  },
  {
   "cell_type": "code",
   "execution_count": 276,
   "metadata": {},
   "outputs": [
    {
     "data": {
      "text/latex": [
       "\\[\n",
       "\\begin{aligned}\n",
       "\\mathrm{vm} &= 75 \\; \\;\\textrm{(kgf/cm2-x10-tnf/m2)}\n",
       "\\\\[10pt]\n",
       "\\mathrm{Vm1} &= 0.5 \\cdot \\mathrm{vm} \\cdot \\mathrm{a1} \\cdot 0.24 \\cdot 3.5 + 0.23 \\cdot \\mathrm{pg1}  = 0.5 \\cdot 75 \\cdot 0.779 \\cdot 0.24 \\cdot 3.5 + 0.23 \\cdot 8.750 &= 26.562  \n",
       "\\end{aligned}\n",
       "\\]"
      ],
      "text/plain": [
       "<IPython.core.display.Latex object>"
      ]
     },
     "metadata": {},
     "output_type": "display_data"
    }
   ],
   "source": [
    "%%render\n",
    "#Piso 1\n",
    "vm =75 #kgf/cm2-x10-tnf/m2\n",
    "Vm1 =0.5*vm*a1*0.24*3.5+0.23*pg1"
   ]
  },
  {
   "cell_type": "code",
   "execution_count": 277,
   "metadata": {},
   "outputs": [
    {
     "data": {
      "text/plain": [
       "(11, 14.61)"
      ]
     },
     "execution_count": 277,
     "metadata": {},
     "output_type": "execute_result"
    }
   ],
   "source": [
    "ve1,(0.55*Vm1).__round__(2)"
   ]
  },
  {
   "cell_type": "markdown",
   "metadata": {},
   "source": [
    "## Espesor de Muro (Verificacion)"
   ]
  },
  {
   "cell_type": "code",
   "execution_count": 278,
   "metadata": {},
   "outputs": [
    {
     "data": {
      "text/latex": [
       "\\[\n",
       "\\begin{aligned}\n",
       "t &= \\frac{ 2.6 }{ 20 } &= 0.130  \n",
       "\\\\[10pt]\n",
       "\\mathrm{pm} &= \\mathrm{cm1} + \\mathrm{cm2}  = 7.700 + 4.200 &= 11.900  \n",
       "\\\\[10pt]\n",
       "e_{a} &= \\frac{ \\mathrm{pm} }{ 3.5 \\cdot 0.24 }  = \\frac{ 11.900 }{ 3.5 \\cdot 0.24 } &= 14.167  \n",
       "\\\\[10pt]\n",
       "\\mathrm{fm} &= 600 \\; \\;\\textrm{(tnf/m2)}\n",
       "\\\\[10pt]\n",
       "\\mathrm{r1} &= 0.15 \\cdot \\mathrm{fm}  = 0.15 \\cdot 600 &= 90.000  \n",
       "\\\\[10pt]\n",
       "\\mathrm{r2} &= 0.2 \\cdot \\mathrm{fm} \\cdot \\left( 1 - \\left( \\frac{ 2.6 }{ 35 \\cdot 0.24 } \\right) ^{ 2 } \\right)  = 0.2 \\cdot 600 \\cdot \\left( 1 - \\left( \\frac{ 2.6 }{ 35 \\cdot 0.24 } \\right) ^{ 2 } \\right) &= 108.503  \n",
       "\\end{aligned}\n",
       "\\]"
      ],
      "text/plain": [
       "<IPython.core.display.Latex object>"
      ]
     },
     "metadata": {},
     "output_type": "display_data"
    }
   ],
   "source": [
    "%%render\n",
    "t =2.6/20\n",
    "#Primer Piso\n",
    "#Esfuerzo Axial maximo\n",
    "pm =cm1+cm2\n",
    "e_a =pm/(3.5*0.24)\n",
    "\n",
    "fm =600 #tnf/m2\n",
    "r1 =0.15*fm\n",
    "r2 =0.2*fm*(1-(2.6/(35*0.24))**2)"
   ]
  },
  {
   "cell_type": "code",
   "execution_count": 279,
   "metadata": {},
   "outputs": [
    {
     "data": {
      "text/plain": [
       "(14.17, 90.0, 108.5)"
      ]
     },
     "execution_count": 279,
     "metadata": {},
     "output_type": "execute_result"
    }
   ],
   "source": [
    "e_a.__round__(2),r1.__round__(2),r2.__round__(2)"
   ]
  },
  {
   "cell_type": "markdown",
   "metadata": {},
   "source": [
    "## Acero Horizontal"
   ]
  },
  {
   "cell_type": "code",
   "execution_count": 280,
   "metadata": {},
   "outputs": [
    {
     "data": {
      "text/latex": [
       "\\[\n",
       "\\begin{aligned}\n",
       "\\mathrm{c1} &= 0.05 \\cdot \\mathrm{fm}  = 0.05 \\cdot 600 &= 30.000  \n",
       "\\end{aligned}\n",
       "\\]"
      ],
      "text/plain": [
       "<IPython.core.display.Latex object>"
      ]
     },
     "metadata": {},
     "output_type": "display_data"
    }
   ],
   "source": [
    "%%render\n",
    "c1 =0.05*fm"
   ]
  },
  {
   "cell_type": "code",
   "execution_count": 281,
   "metadata": {},
   "outputs": [
    {
     "data": {
      "text/plain": [
       "(14.17, 30.0)"
      ]
     },
     "execution_count": 281,
     "metadata": {},
     "output_type": "execute_result"
    }
   ],
   "source": [
    "e_a.__round__(2),c1"
   ]
  },
  {
   "cell_type": "markdown",
   "metadata": {},
   "source": [
    "## Muro Agrietado Primer Piso y no Agrietado Segundo Piso"
   ]
  },
  {
   "cell_type": "code",
   "execution_count": 282,
   "metadata": {},
   "outputs": [
    {
     "data": {
      "text/latex": [
       "\\[\n",
       "\\begin{aligned}\n",
       "v_{u1} &= \\mathrm{ve1} \\cdot \\left( \\frac{ \\mathrm{Vm1} }{ \\mathrm{ve1} } \\right)  = 11 \\cdot \\left( \\frac{ 26.562 }{ 11 } \\right) &= 26.562  \n",
       "\\\\[10pt]\n",
       "m_{u1} &= \\mathrm{Me1} \\cdot \\left( \\frac{ \\mathrm{Vm1} }{ \\mathrm{ve1} } \\right)  = 49.400 \\cdot \\left( \\frac{ 26.562 }{ 11 } \\right) &= 119.288  \n",
       "\\end{aligned}\n",
       "\\]"
      ],
      "text/plain": [
       "<IPython.core.display.Latex object>"
      ]
     },
     "metadata": {},
     "output_type": "display_data"
    }
   ],
   "source": [
    "%%render\n",
    "#Primer Piso\n",
    "v_u1 =ve1*(Vm1/ve1)\n",
    "m_u1 =Me1*(Vm1/ve1)"
   ]
  },
  {
   "cell_type": "code",
   "execution_count": 283,
   "metadata": {},
   "outputs": [
    {
     "data": {
      "text/plain": [
       "(26.56, 26.56)"
      ]
     },
     "execution_count": 283,
     "metadata": {},
     "output_type": "execute_result"
    }
   ],
   "source": [
    "Vm1.__round__(2),v_u.__round__(2)"
   ]
  },
  {
   "cell_type": "code",
   "execution_count": 284,
   "metadata": {},
   "outputs": [
    {
     "data": {
      "text/latex": [
       "\\[\n",
       "\\begin{aligned}\n",
       "v_{u2} &= \\mathrm{ve2} \\cdot \\left( \\frac{ \\mathrm{Vm1} }{ \\mathrm{ve1} } \\right)  = 8 \\cdot \\left( \\frac{ 26.562 }{ 11 } \\right) &= 19.318  \n",
       "\\\\[10pt]\n",
       "m_{u2} &= \\mathrm{Me2} \\cdot \\left( \\frac{ \\mathrm{Vm1} }{ \\mathrm{ve1} } \\right)  = 20.800 \\cdot \\left( \\frac{ 26.562 }{ 11 } \\right) &= 50.227  \n",
       "\\end{aligned}\n",
       "\\]"
      ],
      "text/plain": [
       "<IPython.core.display.Latex object>"
      ]
     },
     "metadata": {},
     "output_type": "display_data"
    }
   ],
   "source": [
    "%%render\n",
    "#Segundo Piso\n",
    "v_u2 =ve2*(Vm1/ve1)\n",
    "m_u2 =Me2*(Vm1/ve1)"
   ]
  },
  {
   "cell_type": "code",
   "execution_count": 285,
   "metadata": {},
   "outputs": [
    {
     "data": {
      "text/plain": [
       "(19.5, 19.32)"
      ]
     },
     "execution_count": 285,
     "metadata": {},
     "output_type": "execute_result"
    }
   ],
   "source": [
    "Vm2.__round__(2),v_u2.__round__(2)"
   ]
  },
  {
   "cell_type": "markdown",
   "metadata": {},
   "source": [
    "## Columnas de Confinamiento"
   ]
  },
  {
   "cell_type": "markdown",
   "metadata": {},
   "source": [
    "Predimensionamos columnas de 24*25"
   ]
  },
  {
   "cell_type": "code",
   "execution_count": 286,
   "metadata": {},
   "outputs": [
    {
     "data": {
      "text/latex": [
       "\\[\n",
       "\\begin{aligned}\n",
       "\\mathrm{Pm} &= 18.900 \\; \n",
       "\\\\[10pt]\n",
       "s &= \\frac{ \\mathrm{Pm} }{ 0.35 \\cdot 2100 }  = \\frac{ 18.900 }{ 0.35 \\cdot 2100 } &= 0.026  \n",
       "\\end{aligned}\n",
       "\\]"
      ],
      "text/plain": [
       "<IPython.core.display.Latex object>"
      ]
     },
     "metadata": {},
     "output_type": "display_data"
    }
   ],
   "source": [
    "%%render\n",
    "Pm =(cm1+cm2+cv1+cv2)\n",
    "s =Pm/(0.35*2100)"
   ]
  },
  {
   "cell_type": "code",
   "execution_count": 287,
   "metadata": {},
   "outputs": [
    {
     "data": {
      "text/plain": [
       "0.06"
      ]
     },
     "execution_count": 287,
     "metadata": {},
     "output_type": "execute_result"
    }
   ],
   "source": [
    "0.24*0.25"
   ]
  },
  {
   "cell_type": "code",
   "execution_count": 288,
   "metadata": {},
   "outputs": [
    {
     "data": {
      "text/latex": [
       "\\[\n",
       "\\begin{aligned}\n",
       "\\mathrm{vc} &= \\frac{ \\mathrm{Vm1} }{ 2 }  = \\frac{ 26.562 }{ 2 } &= 13.281 \\; \\;\\textrm{(Fuerza Cortante)}\n",
       "\\\\[10pt]\n",
       "M &= m_{u1} - \\frac{ 1 }{ 2 } \\cdot \\mathrm{Vm1} \\cdot 2.6  = 119.288 - \\frac{ 1 }{ 2 } \\cdot 26.562 \\cdot 2.6 &= 84.757  \n",
       "\\\\[10pt]\n",
       "F &= \\frac{ M }{ 3.25 }  = \\frac{ 84.757 }{ 3.25 } &= 26.079  \n",
       "\\\\[10pt]\n",
       "\\mathrm{nc} &= 2 \\; \\;\\textrm{(Muros de un Paño nc=2)}\n",
       "\\\\[10pt]\n",
       "\\mathrm{Pc} &= \\frac{ \\mathrm{pg1} }{ \\mathrm{nc} }  = \\frac{ 8.750 }{ 2 } &= 4.375 \\; \\;\\textrm{(Expresion empirica ?)}\n",
       "\\\\[10pt]\n",
       "T &= F - \\mathrm{Pc}  = 26.079 - 4.375 &= 21.704 \\; \\;\\textrm{(Traccion)}\n",
       "\\\\[10pt]\n",
       "C &= \\mathrm{Pc} + F  = 4.375 + 26.079 &= 30.454 \\; \\;\\textrm{(Compresion)}\n",
       "\\end{aligned}\n",
       "\\]"
      ],
      "text/plain": [
       "<IPython.core.display.Latex object>"
      ]
     },
     "metadata": {},
     "output_type": "display_data"
    }
   ],
   "source": [
    "%%render\n",
    "#Primer Piso\n",
    "vc =Vm1/2 #Fuerza Cortante\n",
    "M =m_u1-1/2*Vm1*2.6\n",
    "F =M/3.25\n",
    "#Columna Izquierda\n",
    "nc=2 #Muros de un Paño nc=2\n",
    "Pc =pg1/nc #Expresion empirica ?\n",
    "T =F-Pc #Traccion\n",
    "C =Pc+F #Compresion\n",
    "#Columna Derecha"
   ]
  },
  {
   "cell_type": "markdown",
   "metadata": {
    "collapsed": false
   },
   "source": [
    "---"
   ]
  },
  {
   "cell_type": "code",
   "execution_count": 288,
   "metadata": {},
   "outputs": [],
   "source": [
    "%%render\n",
    "Pg=8.75\n",
    "Vu=26.58 #Cortante de diseño\n",
    "Mu=119.06 #Momento de diseño\n",
    "L=3.5\n",
    "Nc=2 #Para un tramo\n",
    "Vm=\n",
    "M=Mu-1/2*Vm #Momento de volteo 1er piso"
   ]
  },
  {
   "cell_type": "markdown",
   "metadata": {
    "collapsed": false
   },
   "source": [
    "# Procedimiento\n",
    "* Espesor Efectivo\n",
    "* Densidad minima de muros\n",
    "* Verificacion de esfuerzo axial x cargas de gravedad $\\sigma_m=\\frac{P_m}{Lt}<0.2fm(1-(\\frac{h}{35t})^2)$ y $\\sigma_m=\\frac{P_m}{Lt}<0.15fm$\n",
    "# Diseño\n",
    "* Control de fisuracion $V_e<0.55Vm$ donde $Vm=0.5\\alpha Ltv_m+0.23Pg$ Pg: del piso en cuestion Ve acumulado\n",
    "* Verificacion al corte del edificio $\\sum{V_{mi}}>V_{Ei}$\n",
    "    * Si $\\sum{V_{mi}}>3V_{Ei}$ entonces el edificio se comporta elasticamente y necesitara refuerzo minimo\n",
    "----------------------------------------------------------------\n",
    "* Refuerzo horizontal\n",
    "    * mayor a 3 pisos\n",
    "    * $V_u>V_m$\n",
    "    * $\\sigma_m>0.05fm$\n",
    "* Columnas de confinamiento\n",
    "    * Compresion\n",
    "    * Corte friccion\n",
    "    * Acero long.\n",
    "    * Estribos\n",
    "* Agrietamiento pisos superiores : $V_m>V_u$ >>No agrietado lo contrario agrietado"
   ]
  },
  {
   "cell_type": "code",
   "execution_count": null,
   "metadata": {
    "collapsed": false
   },
   "outputs": [],
   "source": []
  }
 ],
 "metadata": {
  "kernelspec": {
   "display_name": "Python 3 (ipykernel)",
   "language": "python",
   "name": "python3"
  },
  "language_info": {
   "codemirror_mode": {
    "name": "ipython",
    "version": 3
   },
   "file_extension": ".py",
   "mimetype": "text/x-python",
   "name": "python",
   "nbconvert_exporter": "python",
   "pygments_lexer": "ipython3",
   "version": "3.11.0"
  }
 },
 "nbformat": 4,
 "nbformat_minor": 1
}
