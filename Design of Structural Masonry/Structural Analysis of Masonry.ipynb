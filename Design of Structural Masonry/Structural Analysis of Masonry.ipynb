{
 "cells": [
  {
   "cell_type": "code",
   "execution_count": 4,
   "outputs": [],
   "source": [
    "from sympy import *\n",
    "import handcalcs.render\n",
    "Pg,Vm1,Mu,L,Nc,h,t,Fd,Pt,u,fy,fc,phi1,As2,delta,phi2,d,e,tn,Av,s3,s4,c,sf=symbols('Pg Vm1 Mu L Nc h t Fd Pt u fy fc phi1 As2 delta phi2 d e tn Av s3 s4 c sf')"
   ],
   "metadata": {
    "collapsed": false
   }
  },
  {
   "cell_type": "code",
   "execution_count": 7,
   "metadata": {
    "collapsed": true
   },
   "outputs": [
    {
     "data": {
      "text/plain": "<IPython.core.display.Latex object>",
      "text/latex": "\\[\n\\begin{aligned}\n\\mathrm{Pg} &= 22.140 \\; \n\\\\[10pt]\n\\mathrm{Vm1} &= 71.930 \\; \n\\\\[10pt]\n\\Mu &= 110.400 \\; \n\\\\[10pt]\nL &= 3.600 \\; \n\\\\[10pt]\n\\mathrm{Nc} &= 2 \\; \n\\\\[10pt]\nh &= 2.600 \\; \n\\\\[10pt]\nt &= 24 \\; \n\\\\[10pt]\nM &= \\Mu - \\frac{ 1 }{ 2 } \\cdot \\left( \\mathrm{Vm1} \\cdot h \\right)  = 110.400 - \\frac{ 1 }{ 2 } \\cdot \\left( 71.930 \\cdot 2.600 \\right) &= 16.891  \n\\\\[10pt]\nF &= \\frac{ M }{ L }  = \\frac{ 16.891 }{ 3.600 } &= 4.692  \n\\\\[10pt]\n\\mathrm{Fd} &= 0 \\; \n\\\\[10pt]\n\\mathrm{Pc} &= \\frac{ \\mathrm{Pg} }{ \\mathrm{Nc} } + \\mathrm{Fd}  = \\frac{ 22.140 }{ 2 } + 0 &= 11.070  \n\\\\[10pt]\n\\mathrm{Pt} &= 0 \\; \n\\\\[10pt]\nT &= F - \\mathrm{Pc} - \\mathrm{Pt}  = 4.692 - 11.070 - 0 &= -6.378  \n\\\\[10pt]\nC &= \\mathrm{Pc} + F  = 11.070 + 4.692 &= 15.762  \n\\\\[10pt]\n\\mathrm{Lm} &= 3.600 \\; \n\\\\[10pt]\n\\mathrm{Vc} &= 1.5 \\cdot \\mathrm{Vm1} \\cdot \\frac{ \\mathrm{Lm} }{ L \\cdot \\left( \\mathrm{Nc} + 1 \\right) }  = 1.5 \\cdot 71.930 \\cdot \\frac{ 3.600 }{ 3.600 \\cdot \\left( 2 + 1 \\right) } &= 35.965  \n\\\\[10pt]\nu &= 1 \\; \n\\\\[10pt]\n\\mathrm{fy} &= 42000 \\; \n\\\\[10pt]\n\\mathrm{fc} &= 1750 \\; \n\\\\[10pt]\n\\mathrm{phi1} &= 0.850 \\; \n\\\\[10pt]\n\\mathrm{As1} &= \\frac{ T + \\frac{ \\mathrm{Vc} }{ u } }{ \\mathrm{fy} \\cdot \\mathrm{phi1} } \\cdot 1 \\times 10 ^ {4}  = \\frac{ -6.378 + \\frac{ 35.965 }{ 1 } }{ 42000 \\cdot 0.850 } \\cdot 1 \\times 10 ^ {4} &= 8.288  \n\\\\[10pt]\n\\mathrm{As2} &= 0.000 \\; \n\\\\[10pt]\n\\delta &= 1 \\; \n\\\\[10pt]\n\\mathrm{phi2} &= 0.700 \\; \n\\\\[10pt]\n\\mathrm{An1} &= \\left( \\mathrm{As2} + \\frac{ \\frac{ C }{ \\mathrm{phi2} } - \\mathrm{As2} \\cdot \\mathrm{fy} }{ 0.85 \\cdot \\delta \\cdot \\mathrm{fc} } \\right) \\cdot 1 \\times 10 ^ {4}  = \\left( 0.000 + \\frac{ \\frac{ 15.762 }{ 0.700 } - 0.000 \\cdot 42000 }{ 0.85 \\cdot 1 \\cdot 1750 } \\right) \\cdot 1 \\times 10 ^ {4} &= 42.434  \n\\\\[10pt]\n\\mathrm{Acf} &= \\left( \\frac{ \\mathrm{Vc} }{ 0.2 \\cdot \\mathrm{fc} \\cdot \\mathrm{phi1} } \\right) \\cdot 1 \\times 10 ^ {4}  = \\left( \\frac{ 35.965 }{ 0.2 \\cdot 1750 \\cdot 0.850 } \\right) \\cdot 1 \\times 10 ^ {4} &= 1208.908  \n\\\\[10pt]\n\\mathrm{Ac1} &= \\operatorname{max} { \\left( \\mathrm{An1} ,\\  \\mathrm{Acf} ,\\  15 \\cdot t \\right) }  = \\operatorname{max} { \\left( 42.434 ,\\  1208.908 ,\\  15 \\cdot 24 \\right) } &= 1208.908  \n\\\\[10pt]\nd &= 25 \\; \n\\\\[10pt]\ne &= 13 \\; \n\\\\[10pt]\n\\mathrm{Ac2} &= \\frac{ d \\cdot e }{ 1 \\times 10 ^ {4} }  = \\frac{ 25 \\cdot 13 }{ 1 \\times 10 ^ {4} } &= 0.033  \n\\\\[10pt]\n\\mathrm{An2} &= \\left( d - 4 \\right) \\cdot \\frac{ e - 4 }{ 1 \\times 10 ^ {4} }  = \\left( 25 - 4 \\right) \\cdot \\frac{ 13 - 4 }{ 1 \\times 10 ^ {4} } &= 0.019  \n\\\\[10pt]\n\\mathrm{Asmin} &= \\left( 0.1 \\cdot \\mathrm{fc} \\cdot \\frac{ \\mathrm{Ac2} }{ \\mathrm{fy} } \\right) \\cdot 1 \\times 10 ^ {4}  = \\left( 0.1 \\cdot 1750 \\cdot \\frac{ 0.033 }{ 42000 } \\right) \\cdot 1 \\times 10 ^ {4} &= 1.354  \n\\\\[10pt]\n\\mathrm{tn} &= 0.090 \\; \n\\\\[10pt]\n\\mathrm{Av} &= 0 \\; \n\\\\[10pt]\n\\mathrm{s1} &= \\left( \\left( \\frac{ \\mathrm{Av} \\cdot \\mathrm{fy} }{ 0.3 \\cdot \\mathrm{tn} \\cdot \\mathrm{fc} \\cdot \\left( \\frac{ \\mathrm{Ac2} }{ \\mathrm{An2} } - 1 \\right) } \\right) \\cdot 1 \\times 10 ^ {2} \\right) \\\\&= \\left( \\left( \\frac{ 0 \\cdot 42000 }{ 0.3 \\cdot 0.090 \\cdot 1750 \\cdot \\left( \\frac{ 0.033 }{ 0.019 } - 1 \\right) } \\right) \\cdot 1 \\times 10 ^ {2} \\right) \\\\&= 7.824  \\\\[10pt]\n\\\\[10pt]\n\\mathrm{s2} &= \\left( \\left( \\frac{ \\mathrm{Av} \\cdot \\mathrm{fy} }{ 0.12 \\cdot \\mathrm{tn} \\cdot \\mathrm{fc} } \\right) \\cdot 1 \\times 10 ^ {2} \\right)  = \\left( \\left( \\frac{ 0 \\cdot 42000 }{ 0.12 \\cdot 0.090 \\cdot 1750 } \\right) \\cdot 1 \\times 10 ^ {2} \\right) &= 14.075  \n\\\\[10pt]\n\\mathrm{s3} &= 5 \\; \n\\\\[10pt]\n\\mathrm{s4} &= 10 \\; \n\\\\[10pt]\nc &= 0.450 \\; \n\\\\[10pt]\n\\mathrm{sf} &= 5 \\; \n\\end{aligned}\n\\]"
     },
     "metadata": {},
     "output_type": "display_data"
    }
   ],
   "source": [
    "%%render\n",
    "#Requisitos generales\n",
    "\n",
    "Pg =22.14\n",
    "Vm1=71.93\n",
    "Mu=110.4\n",
    "L=3.6\n",
    "Nc=2\n",
    "h=2.6\n",
    "t=24\n",
    "M =Mu-1/2*(Vm1*h)\n",
    "F =M/L\n",
    "Fd=0\n",
    "Pc =Pg/Nc + Fd\n",
    "\n",
    "#COLUMNA 1\n",
    "Pt=0\n",
    "T =F-Pc-Pt\n",
    "C =Pc+F\n",
    "Lm=L\n",
    "Vc =1.5*Vm1*Lm/(L*(Nc+1))\n",
    "u=1\n",
    "fy=42000\n",
    "fc=1750\n",
    "phi1=0.85\n",
    "As1 =(T+Vc/u)/(fy*phi1)*1e4\n",
    "As2=4/1e4\n",
    "delta=1\n",
    "phi2=0.7\n",
    "An1 =(As2+(C/phi2-As2*fy)/(0.85*delta*fc))*1e4\n",
    "Acf =(Vc/(0.2*fc*phi1))*1e4\n",
    "Ac1 =max(An1,Acf,15*t)\n",
    "d=25\n",
    "e=13\n",
    "Ac2 =(d*e)/1e4\n",
    "An2 =(d-4)*(e-4)/1e4\n",
    "Asmin =(0.1*fc*Ac2/fy)*1e4\n",
    "tn=0.09\n",
    "Av=(pi*(1/4*2.54)**2/4*2)/1e4\n",
    "s1 =(((Av*fy)/(0.3*tn*fc*(Ac2/An2-1)))*1e2).__round__(4)\n",
    "s2 =(((Av*fy)/(0.12*tn*fc))*1e2).__round__(4)\n",
    "s3=5\n",
    "s4=10\n",
    "c=0.45\n",
    "sf=min(s1,s2,s3,s4)"
   ]
  },
  {
   "cell_type": "code",
   "execution_count": null,
   "outputs": [],
   "source": [],
   "metadata": {
    "collapsed": false
   }
  }
 ],
 "metadata": {
  "kernelspec": {
   "display_name": "Python 3",
   "language": "python",
   "name": "python3"
  },
  "language_info": {
   "codemirror_mode": {
    "name": "ipython",
    "version": 2
   },
   "file_extension": ".py",
   "mimetype": "text/x-python",
   "name": "python",
   "nbconvert_exporter": "python",
   "pygments_lexer": "ipython2",
   "version": "2.7.6"
  }
 },
 "nbformat": 4,
 "nbformat_minor": 0
}
