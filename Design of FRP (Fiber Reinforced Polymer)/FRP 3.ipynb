{
 "cells": [
  {
   "cell_type": "code",
   "execution_count": null,
   "id": "initial_id",
   "metadata": {
    "ExecuteTime": {
     "end_time": "2024-02-05T13:57:37.585480900Z",
     "start_time": "2024-02-05T13:57:37.573845700Z"
    },
    "collapsed": true
   },
   "outputs": [],
   "source": [
    "# Datos\n",
    "# Caso 1\n",
    "# Carbono 1\n",
    "# Carbono 2\n",
    "# Vidrio\n",
    "\n",
    "# Caso 2\n",
    "# Carbono 1\n",
    "# Carbono 2\n",
    "# Vidrio"
   ]
  },
  {
   "cell_type": "markdown",
   "id": "543ac5f8c22e517d",
   "metadata": {
    "collapsed": false
   },
   "source": [
    "**Falla por cono de Concreto**"
   ]
  },
  {
   "cell_type": "code",
   "execution_count": null,
   "id": "f0d754c8b272210f",
   "metadata": {
    "ExecuteTime": {
     "end_time": "2024-02-05T14:03:06.205803800Z",
     "start_time": "2024-02-05T14:03:06.188797200Z"
    },
    "collapsed": false
   },
   "outputs": [],
   "source": [
    "# Falla por cono de concreto\n",
    "def Ncc(hef,fc):\n",
    "    return 9.68*hef**1.5*fc**0.5"
   ]
  },
  {
   "cell_type": "code",
   "execution_count": null,
   "id": "35e3ee5f736060e4",
   "metadata": {
    "ExecuteTime": {
     "end_time": "2024-02-05T14:03:12.271806100Z",
     "start_time": "2024-02-05T14:03:12.248806800Z"
    },
    "collapsed": false
   },
   "outputs": [
    {
     "data": {
      "text/plain": [
       "572.68"
      ]
     },
     "execution_count": 26,
     "metadata": {},
     "output_type": "execute_result"
    }
   ],
   "source": [
    "round(Ncc(500,28)/1000,2)"
   ]
  },
  {
   "cell_type": "code",
   "execution_count": null,
   "id": "bd7de953d3641b8",
   "metadata": {
    "ExecuteTime": {
     "end_time": "2024-02-05T14:03:53.872733700Z",
     "start_time": "2024-02-05T14:03:53.863731400Z"
    },
    "collapsed": false
   },
   "outputs": [],
   "source": [
    "def ana_ncc(hef,n,saf):\n",
    "    return 3*hef*((n-1)*saf+3*hef)"
   ]
  },
  {
   "cell_type": "code",
   "execution_count": null,
   "id": "ad5fde50d22cae2b",
   "metadata": {
    "ExecuteTime": {
     "end_time": "2024-02-05T14:04:07.281434700Z",
     "start_time": "2024-02-05T14:04:07.240318200Z"
    },
    "collapsed": false
   },
   "outputs": [
    {
     "data": {
      "text/plain": [
       "2700000"
      ]
     },
     "execution_count": 34,
     "metadata": {},
     "output_type": "execute_result"
    }
   ],
   "source": [
    "ana_ncc(500,2,300)"
   ]
  },
  {
   "cell_type": "code",
   "execution_count": null,
   "id": "8e5ce545878c823a",
   "metadata": {
    "ExecuteTime": {
     "end_time": "2024-02-05T14:04:48.547894500Z",
     "start_time": "2024-02-05T14:04:48.536892800Z"
    },
    "collapsed": false
   },
   "outputs": [],
   "source": [
    "def anao_ncc(hef):\n",
    "    return (3*hef)**2"
   ]
  },
  {
   "cell_type": "code",
   "execution_count": null,
   "id": "28d83c7568e32769",
   "metadata": {
    "ExecuteTime": {
     "end_time": "2024-02-05T14:04:55.770934500Z",
     "start_time": "2024-02-05T14:04:55.746933700Z"
    },
    "collapsed": false
   },
   "outputs": [
    {
     "data": {
      "text/plain": [
       "2250000"
      ]
     },
     "execution_count": 33,
     "metadata": {},
     "output_type": "execute_result"
    }
   ],
   "source": [
    "anao_ncc(500)"
   ]
  },
  {
   "cell_type": "code",
   "execution_count": null,
   "id": "910cdc8c4f441fd4",
   "metadata": {
    "ExecuteTime": {
     "end_time": "2024-02-05T14:06:24.302614300Z",
     "start_time": "2024-02-05T14:06:24.293616100Z"
    },
    "collapsed": false
   },
   "outputs": [],
   "source": [
    "def Ncc_g(Ncci,ana,anao):\n",
    "    return Ncci*ana/anao"
   ]
  },
  {
   "cell_type": "code",
   "execution_count": null,
   "id": "6c197a481eab1c23",
   "metadata": {
    "ExecuteTime": {
     "end_time": "2024-02-05T14:06:29.233376800Z",
     "start_time": "2024-02-05T14:06:29.225378700Z"
    },
    "collapsed": false
   },
   "outputs": [
    {
     "data": {
      "text/plain": [
       "687.22"
      ]
     },
     "execution_count": 37,
     "metadata": {},
     "output_type": "execute_result"
    }
   ],
   "source": [
    "round(Ncc_g(572.68,2700000,2250000),2)"
   ]
  },
  {
   "cell_type": "markdown",
   "id": "86eb8c66124538a1",
   "metadata": {
    "collapsed": false
   },
   "source": [
    "**Falla Mixta (Adherencia y Cono de Concreto)**"
   ]
  },
  {
   "cell_type": "code",
   "execution_count": null,
   "id": "fa8b0399ecfee9dd",
   "metadata": {
    "ExecuteTime": {
     "end_time": "2024-02-05T14:14:06.569472200Z",
     "start_time": "2024-02-05T14:14:06.552464700Z"
    },
    "collapsed": false
   },
   "outputs": [],
   "source": [
    "def Ncb(fc,do,hef):\n",
    "    if fc>= 21:\n",
    "        return 9.07*3.14*do*hef\n",
    "    else:\n",
    "        return 4.62*3.14*do*hef\n",
    "    \n",
    "# Donde do es el diametro de perforacion, y el otro diametro que se empleara corresponde al diametro del anclaje. Recuerda, estamos desarrollando anclajes por ello estos datos"
   ]
  },
  {
   "cell_type": "code",
   "execution_count": null,
   "id": "37ebe83dd59b239d",
   "metadata": {
    "ExecuteTime": {
     "end_time": "2024-02-05T14:14:16.683802500Z",
     "start_time": "2024-02-05T14:14:16.644798100Z"
    },
    "collapsed": false
   },
   "outputs": [
    {
     "data": {
      "text/plain": [
       "443.68"
      ]
     },
     "execution_count": 27,
     "metadata": {},
     "output_type": "execute_result"
    }
   ],
   "source": [
    "round(Ncb(28,31.4,500)/1000,2)"
   ]
  },
  {
   "cell_type": "code",
   "execution_count": null,
   "id": "47d34ff891c5191e",
   "metadata": {
    "ExecuteTime": {
     "end_time": "2024-02-05T14:12:33.248894800Z",
     "start_time": "2024-02-05T14:12:33.239895100Z"
    },
    "collapsed": false
   },
   "outputs": [],
   "source": [
    "def ana_ncb(do,n,saf):\n",
    "    return 12*do*((n-1)*saf+12*do)"
   ]
  },
  {
   "cell_type": "code",
   "execution_count": null,
   "id": "77fb939d63c97db7",
   "metadata": {
    "ExecuteTime": {
     "end_time": "2024-02-05T14:13:53.271233300Z",
     "start_time": "2024-02-05T14:13:53.259222500Z"
    },
    "collapsed": false
   },
   "outputs": [
    {
     "data": {
      "text/plain": [
       "184343.04"
      ]
     },
     "execution_count": 39,
     "metadata": {},
     "output_type": "execute_result"
    }
   ],
   "source": [
    "round(ana_ncb(25.4,2,300),2)"
   ]
  },
  {
   "cell_type": "code",
   "execution_count": null,
   "id": "6afb5ab7d1ddefc0",
   "metadata": {
    "ExecuteTime": {
     "end_time": "2024-02-05T14:13:24.822762700Z",
     "start_time": "2024-02-05T14:13:24.806755Z"
    },
    "collapsed": false
   },
   "outputs": [],
   "source": [
    "def anao_ncb(do):\n",
    "    return (12*do)**2"
   ]
  },
  {
   "cell_type": "code",
   "execution_count": null,
   "id": "794a59a8b94f15be",
   "metadata": {
    "ExecuteTime": {
     "end_time": "2024-02-05T14:13:48.020869300Z",
     "start_time": "2024-02-05T14:13:48.009869400Z"
    },
    "collapsed": false
   },
   "outputs": [
    {
     "data": {
      "text/plain": [
       "92903.04"
      ]
     },
     "execution_count": 42,
     "metadata": {},
     "output_type": "execute_result"
    }
   ],
   "source": [
    "round(anao_ncb(25.4),2)"
   ]
  },
  {
   "cell_type": "code",
   "execution_count": null,
   "id": "1a55343dd4afec81",
   "metadata": {
    "ExecuteTime": {
     "end_time": "2024-02-05T14:14:58.489367800Z",
     "start_time": "2024-02-05T14:14:58.476366800Z"
    },
    "collapsed": false
   },
   "outputs": [],
   "source": [
    "def Ncb_g(Ncbi,ana,anao):\n",
    "    return Ncbi*ana/anao"
   ]
  },
  {
   "cell_type": "code",
   "execution_count": null,
   "id": "125f51c320e4f06c",
   "metadata": {
    "ExecuteTime": {
     "end_time": "2024-02-05T14:15:20.679079400Z",
     "start_time": "2024-02-05T14:15:20.670079300Z"
    },
    "collapsed": false
   },
   "outputs": [
    {
     "data": {
      "text/plain": [
       "880.37"
      ]
     },
     "execution_count": 43,
     "metadata": {},
     "output_type": "execute_result"
    }
   ],
   "source": [
    "round(Ncb_g(443.68,184343,92903),2)"
   ]
  },
  {
   "cell_type": "markdown",
   "id": "420ec84297bc1a50",
   "metadata": {
    "collapsed": false
   },
   "source": [
    "**Falla por el anclaje**"
   ]
  },
  {
   "cell_type": "code",
   "execution_count": null,
   "id": "9e1c446b47cd740",
   "metadata": {
    "ExecuteTime": {
     "end_time": "2024-02-05T14:16:10.688630500Z",
     "start_time": "2024-02-05T14:16:10.673614700Z"
    },
    "collapsed": false
   },
   "outputs": [],
   "source": [
    "def Nar(Afa,n,ffu):\n",
    "    return 0.59*Afa*n*ffu\n",
    "# ffu corresponde "
   ]
  },
  {
   "cell_type": "code",
   "execution_count": null,
   "id": "5e16976886407683",
   "metadata": {
    "ExecuteTime": {
     "end_time": "2024-02-05T14:16:39.572697300Z",
     "start_time": "2024-02-05T14:16:39.543701400Z"
    },
    "collapsed": false
   },
   "outputs": [
    {
     "data": {
      "text/plain": [
       "559.78"
      ]
     },
     "execution_count": 45,
     "metadata": {},
     "output_type": "execute_result"
    }
   ],
   "source": [
    "round(Nar(506.45,2,936.7)/1000,2)"
   ]
  },
  {
   "cell_type": "code",
   "execution_count": null,
   "id": "ad1bfdfdb6866bf9",
   "metadata": {
    "ExecuteTime": {
     "end_time": "2024-02-05T14:17:08.726253600Z",
     "start_time": "2024-02-05T14:17:08.715253400Z"
    },
    "collapsed": false
   },
   "outputs": [],
   "source": [
    "def Area(d):\n",
    "    return 3.14*d**2/4"
   ]
  },
  {
   "cell_type": "code",
   "execution_count": null,
   "id": "c3b69ebd2c0b951b",
   "metadata": {
    "ExecuteTime": {
     "end_time": "2024-02-05T14:17:26.071976Z",
     "start_time": "2024-02-05T14:17:26.053464600Z"
    },
    "collapsed": false
   },
   "outputs": [
    {
     "data": {
      "text/plain": [
       "506.45"
      ]
     },
     "execution_count": 21,
     "metadata": {},
     "output_type": "execute_result"
    }
   ],
   "source": [
    "round(Area(25.4),2)"
   ]
  },
  {
   "cell_type": "markdown",
   "id": "8606aa3d6e731c0",
   "metadata": {
    "collapsed": false
   },
   "source": [
    "**Diseño de los anclajes**"
   ]
  },
  {
   "cell_type": "code",
   "execution_count": null,
   "id": "db11feec5cc3292e",
   "metadata": {
    "ExecuteTime": {
     "end_time": "2024-02-05T14:18:56.332103900Z",
     "start_time": "2024-02-05T14:18:56.246446700Z"
    },
    "collapsed": false
   },
   "outputs": [
    {
     "data": {
      "text/plain": [
       "444"
      ]
     },
     "execution_count": 22,
     "metadata": {},
     "output_type": "execute_result"
    }
   ],
   "source": [
    "Nu=min(444,609,560)\n",
    "Nu"
   ]
  },
  {
   "cell_type": "code",
   "execution_count": null,
   "id": "2f137b023d316329",
   "metadata": {
    "ExecuteTime": {
     "end_time": "2024-02-05T14:19:27.218565800Z",
     "start_time": "2024-02-05T14:19:27.186563200Z"
    },
    "collapsed": false
   },
   "outputs": [
    {
     "data": {
      "text/plain": [
       "428.23"
      ]
     },
     "execution_count": 49,
     "metadata": {},
     "output_type": "execute_result"
    }
   ],
   "source": [
    "round(559.78*0.85*0.9,2) # psi = 0.85 , phi=0.9"
   ]
  },
  {
   "cell_type": "code",
   "execution_count": null,
   "id": "c2622f14480ecfed",
   "metadata": {
    "ExecuteTime": {
     "end_time": "2024-02-05T14:20:45.032801600Z",
     "start_time": "2024-02-05T14:20:45.002790800Z"
    },
    "collapsed": false
   },
   "outputs": [],
   "source": [
    "# Demanda de acuerdo al diseño por flexion del elementos estructural\n",
    "def Tu(Af,ffrp):\n",
    "    return 0.85*Af*ffrp"
   ]
  },
  {
   "cell_type": "code",
   "execution_count": null,
   "id": "6d83d2f4fb5dfda1",
   "metadata": {
    "ExecuteTime": {
     "end_time": "2024-02-05T14:21:08.755547800Z",
     "start_time": "2024-02-05T14:21:08.734526600Z"
    },
    "collapsed": false
   },
   "outputs": [
    {
     "data": {
      "text/plain": [
       "208.14"
      ]
     },
     "execution_count": 48,
     "metadata": {},
     "output_type": "execute_result"
    }
   ],
   "source": [
    "round(Tu(360,680.18)/1000,2)"
   ]
  },
  {
   "cell_type": "code",
   "execution_count": null,
   "id": "48c43a05be488085",
   "metadata": {
    "collapsed": false
   },
   "outputs": [
    {
     "data": {
      "text/plain": [
       "680.1800000000001"
      ]
     },
     "execution_count": 47,
     "metadata": {},
     "output_type": "execute_result"
    }
   ],
   "source": [
    "0.0071*95.8*10**3"
   ]
  },
  {
   "cell_type": "code",
   "execution_count": null,
   "id": "9ff3abc6",
   "metadata": {},
   "outputs": [
    {
     "data": {
      "text/plain": [
       "227.20499999999998"
      ]
     },
     "execution_count": 52,
     "metadata": {},
     "output_type": "execute_result"
    }
   ],
   "source": [
    ".0054*165*.85*300"
   ]
  },
  {
   "cell_type": "code",
   "execution_count": null,
   "id": "a06080fd",
   "metadata": {},
   "outputs": [
    {
     "data": {
      "text/plain": [
       "431.25"
      ]
     },
     "execution_count": 53,
     "metadata": {},
     "output_type": "execute_result"
    }
   ],
   "source": [
    ".75*575"
   ]
  },
  {
   "cell_type": "code",
   "execution_count": null,
   "id": "7c3ee092",
   "metadata": {},
   "outputs": [
    {
     "data": {
      "text/plain": [
       "257.71974375"
      ]
     },
     "execution_count": 55,
     "metadata": {},
     "output_type": "execute_result"
    }
   ],
   "source": [
    ".59*506.45*2*431.25/1000"
   ]
  },
  {
   "cell_type": "code",
   "execution_count": null,
   "id": "966da31b",
   "metadata": {},
   "outputs": [
    {
     "data": {
      "text/plain": [
       "2945.0"
      ]
     },
     "execution_count": 56,
     "metadata": {},
     "output_type": "execute_result"
    }
   ],
   "source": [
    ".95*3100"
   ]
  },
  {
   "cell_type": "code",
   "execution_count": null,
   "id": "0a0d053b",
   "metadata": {},
   "outputs": [
    {
     "data": {
      "text/plain": [
       "1759.964395"
      ]
     },
     "execution_count": 57,
     "metadata": {},
     "output_type": "execute_result"
    }
   ],
   "source": [
    ".59*506.45*2*2945/1000"
   ]
  },
  {
   "cell_type": "code",
   "execution_count": null,
   "id": "22a15d6f",
   "metadata": {},
   "outputs": [
    {
     "data": {
      "text/plain": [
       "525.7233000000001"
      ]
     },
     "execution_count": 58,
     "metadata": {},
     "output_type": "execute_result"
    }
   ],
   "source": [
    "687.22*0.85*0.9"
   ]
  },
  {
   "cell_type": "code",
   "execution_count": null,
   "id": "ccc2b044",
   "metadata": {},
   "outputs": [
    {
     "data": {
      "text/plain": [
       "257.71974375"
      ]
     },
     "execution_count": 59,
     "metadata": {},
     "output_type": "execute_result"
    }
   ],
   "source": [
    ".59*506.45*2*431.25/1000"
   ]
  },
  {
   "cell_type": "code",
   "execution_count": null,
   "id": "0cb2e1af",
   "metadata": {},
   "outputs": [
    {
     "data": {
      "text/plain": [
       "187.46325000000002"
      ]
     },
     "execution_count": 61,
     "metadata": {},
     "output_type": "execute_result"
    }
   ],
   "source": [
    ".85*650*0.013*26.1"
   ]
  },
  {
   "cell_type": "code",
   "execution_count": null,
   "id": "529e2c5a",
   "metadata": {},
   "outputs": [
    {
     "data": {
      "text/plain": [
       "196.605"
      ]
     },
     "execution_count": 62,
     "metadata": {},
     "output_type": "execute_result"
    }
   ],
   "source": [
    "257*.85*0.9"
   ]
  },
  {
   "cell_type": "code",
   "execution_count": null,
   "id": "3d50033c",
   "metadata": {},
   "outputs": [
    {
     "data": {
      "text/plain": [
       "428.2317"
      ]
     },
     "execution_count": 63,
     "metadata": {},
     "output_type": "execute_result"
    }
   ],
   "source": [
    "559.78*0.85*0.9"
   ]
  },
  {
   "cell_type": "code",
   "execution_count": null,
   "id": "9e3ca24b",
   "metadata": {},
   "outputs": [
    {
     "data": {
      "text/plain": [
       "257.97024"
      ]
     },
     "execution_count": 64,
     "metadata": {},
     "output_type": "execute_result"
    }
   ],
   "source": [
    ".85*95.8*0.0044*720"
   ]
  },
  {
   "cell_type": "code",
   "execution_count": null,
   "id": "2b6e9e8d",
   "metadata": {},
   "outputs": [
    {
     "data": {
      "text/plain": [
       "458.56395"
      ]
     },
     "execution_count": 66,
     "metadata": {},
     "output_type": "execute_result"
    }
   ],
   "source": [
    ".85*3900*26.1*0.0053"
   ]
  },
  {
   "cell_type": "code",
   "execution_count": null,
   "id": "df2d28f0",
   "metadata": {},
   "outputs": [
    {
     "data": {
      "text/plain": [
       "599.4248366013072"
      ]
     },
     "execution_count": 67,
     "metadata": {},
     "output_type": "execute_result"
    }
   ],
   "source": [
    "458.56/(.85*.9)"
   ]
  },
  {
   "cell_type": "code",
   "execution_count": null,
   "id": "8f4db02b",
   "metadata": {},
   "outputs": [
    {
     "data": {
      "text/plain": [
       "488.947455"
      ]
     },
     "execution_count": 76,
     "metadata": {},
     "output_type": "execute_result"
    }
   ],
   "source": [
    ".59*3.14*40**2/4*2*431.25/1000*.85*.9"
   ]
  },
  {
   "cell_type": "code",
   "execution_count": null,
   "id": "6563089a",
   "metadata": {},
   "outputs": [
    {
     "data": {
      "text/plain": [
       "409.77396305768383"
      ]
     },
     "execution_count": 87,
     "metadata": {},
     "output_type": "execute_result"
    }
   ],
   "source": [
    "9.68*400**1.5*28**.5/1000"
   ]
  },
  {
   "cell_type": "code",
   "execution_count": null,
   "id": "af5855eb",
   "metadata": {},
   "outputs": [
    {
     "data": {
      "text/plain": [
       "810000"
      ]
     },
     "execution_count": 79,
     "metadata": {},
     "output_type": "execute_result"
    }
   ],
   "source": [
    "(3*300)**2"
   ]
  },
  {
   "cell_type": "code",
   "execution_count": null,
   "id": "488697b0",
   "metadata": {},
   "outputs": [
    {
     "data": {
      "text/plain": [
       "357.706288"
      ]
     },
     "execution_count": 86,
     "metadata": {},
     "output_type": "execute_result"
    }
   ],
   "source": [
    "9.07*3.14*31.4*400/1000"
   ]
  },
  {
   "cell_type": "code",
   "execution_count": null,
   "id": "15a017e1",
   "metadata": {},
   "outputs": [
    {
     "data": {
      "text/plain": [
       "92903.03999999998"
      ]
     },
     "execution_count": 81,
     "metadata": {},
     "output_type": "execute_result"
    }
   ],
   "source": [
    "(12*25.4)**2"
   ]
  },
  {
   "cell_type": "code",
   "execution_count": null,
   "id": "15bc836d",
   "metadata": {},
   "outputs": [
    {
     "data": {
      "text/plain": [
       "279.89111184999996"
      ]
     },
     "execution_count": 82,
     "metadata": {},
     "output_type": "execute_result"
    }
   ],
   "source": [
    "936.7*0.59*506.45*1/1000"
   ]
  },
  {
   "cell_type": "code",
   "execution_count": null,
   "id": "6640bedf",
   "metadata": {},
   "outputs": [
    {
     "data": {
      "text/plain": [
       "266.16"
      ]
     },
     "execution_count": 83,
     "metadata": {},
     "output_type": "execute_result"
    }
   ],
   "source": [
    "266.16*810000/(3*300)**2"
   ]
  },
  {
   "cell_type": "code",
   "execution_count": null,
   "id": "b6807c65",
   "metadata": {},
   "outputs": [
    {
     "data": {
      "text/plain": [
       "214.11584999999997"
      ]
     },
     "execution_count": 88,
     "metadata": {},
     "output_type": "execute_result"
    }
   ],
   "source": [
    "279.89*.9*.85"
   ]
  },
  {
   "cell_type": "code",
   "execution_count": null,
   "id": "3b10bd43",
   "metadata": {},
   "outputs": [
    {
     "data": {
      "text/plain": [
       "279.89111184999996"
      ]
     },
     "execution_count": 89,
     "metadata": {},
     "output_type": "execute_result"
    }
   ],
   "source": [
    ".59*506.45*1*936.7/1000"
   ]
  },
  {
   "cell_type": "code",
   "execution_count": null,
   "id": "b6935227",
   "metadata": {},
   "outputs": [
    {
     "data": {
      "text/plain": [
       "879.9821975"
      ]
     },
     "execution_count": 90,
     "metadata": {},
     "output_type": "execute_result"
    }
   ],
   "source": [
    ".59*506.45*1*2945/1000"
   ]
  },
  {
   "cell_type": "code",
   "execution_count": null,
   "id": "644e2f7a",
   "metadata": {},
   "outputs": [
    {
     "data": {
      "text/plain": [
       "128.859871875"
      ]
     },
     "execution_count": 92,
     "metadata": {},
     "output_type": "execute_result"
    }
   ],
   "source": [
    ".59*1*506.45*431.25/1000"
   ]
  },
  {
   "cell_type": "code",
   "execution_count": null,
   "id": "5ade2aca",
   "metadata": {},
   "outputs": [
    {
     "data": {
      "text/plain": [
       "203.61240000000004"
      ]
     },
     "execution_count": 93,
     "metadata": {},
     "output_type": "execute_result"
    }
   ],
   "source": [
    "266.16*.9*.85"
   ]
  },
  {
   "cell_type": "code",
   "execution_count": null,
   "id": "b200fcb0",
   "metadata": {},
   "outputs": [
    {
     "data": {
      "text/plain": [
       "335.3948884524032"
      ]
     },
     "execution_count": 97,
     "metadata": {},
     "output_type": "execute_result"
    }
   ],
   "source": [
    "9.68*350**1.5*28**.5/1000"
   ]
  },
  {
   "cell_type": "code",
   "execution_count": null,
   "id": "4c3d8584",
   "metadata": {},
   "outputs": [
    {
     "data": {
      "text/plain": [
       "312.993002"
      ]
     },
     "execution_count": 98,
     "metadata": {},
     "output_type": "execute_result"
    }
   ],
   "source": [
    "9.07*3.14*31.4*350/1000"
   ]
  },
  {
   "cell_type": "code",
   "execution_count": null,
   "id": "266cff07",
   "metadata": {},
   "outputs": [
    {
     "data": {
      "text/plain": [
       "238.68"
      ]
     },
     "execution_count": 99,
     "metadata": {},
     "output_type": "execute_result"
    }
   ],
   "source": [
    "312*.85*.9"
   ]
  },
  {
   "cell_type": "code",
   "execution_count": null,
   "id": "c7c35847",
   "metadata": {},
   "outputs": [
    {
     "data": {
      "text/plain": [
       "98.57790000000001"
      ]
     },
     "execution_count": 100,
     "metadata": {},
     "output_type": "execute_result"
    }
   ],
   "source": [
    "128.86*.85*.9"
   ]
  },
  {
   "cell_type": "code",
   "execution_count": null,
   "id": "7a8cab86",
   "metadata": {},
   "outputs": [
    {
     "data": {
      "text/plain": [
       "374.0542372872683"
      ]
     },
     "execution_count": 104,
     "metadata": {},
     "output_type": "execute_result"
    },
    {
     "ename": "",
     "evalue": "",
     "output_type": "error",
     "traceback": [
      "\u001b[1;31mThe Kernel crashed while executing code in the the current cell or a previous cell. Please review the code in the cell(s) to identify a possible cause of the failure. Click <a href='https://aka.ms/vscodeJupyterKernelCrash'>here</a> for more info. View Jupyter <a href='command:jupyter.viewOutput'>log</a> for further details."
     ]
    }
   ],
   "source": [
    "9.68*450**1.5*28**.5/1000*.9*.85"
   ]
  },
  {
   "cell_type": "code",
   "execution_count": null,
   "id": "be1da2cb",
   "metadata": {},
   "outputs": [],
   "source": []
  },
  {
   "cell_type": "markdown",
   "id": "611baf43",
   "metadata": {},
   "source": [
    "$$\\tau\n",
    "$$"
   ]
  },
  {
   "cell_type": "markdown",
   "id": "4c55302a",
   "metadata": {},
   "source": []
  }
 ],
 "metadata": {
  "kernelspec": {
   "display_name": "Python 3",
   "language": "python",
   "name": "python3"
  },
  "language_info": {
   "codemirror_mode": {
    "name": "ipython",
    "version": 3
   },
   "file_extension": ".py",
   "mimetype": "text/x-python",
   "name": "python",
   "nbconvert_exporter": "python",
   "pygments_lexer": "ipython3",
   "version": "3.12.1"
  }
 },
 "nbformat": 4,
 "nbformat_minor": 5
}
