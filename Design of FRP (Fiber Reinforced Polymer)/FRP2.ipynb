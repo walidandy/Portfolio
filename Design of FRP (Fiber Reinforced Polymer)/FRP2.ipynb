{
  "nbformat": 4,
  "nbformat_minor": 0,
  "metadata": {
    "colab": {
      "provenance": []
    },
    "kernelspec": {
      "name": "python3",
      "display_name": "Python 3"
    },
    "language_info": {
      "name": "python"
    }
  },
  "cells": [
    {
      "cell_type": "markdown",
      "source": [
        "base= 30 cm\n",
        "\n",
        "peralte efectivo = 50 - 8 = 42 cm\n",
        "\n",
        "fc= 210 kgf / cm^2\n",
        "\n",
        "n ( relacion modular ) = 9.2\n",
        "\n",
        "dfrp = h + tf/2 = 50 + .12/2 = 50.6"
      ],
      "metadata": {
        "id": "Ze9FpZHxDsn0"
      }
    },
    {
      "cell_type": "code",
      "execution_count": null,
      "metadata": {
        "id": "M1UJkohf64Jn"
      },
      "outputs": [],
      "source": [
        "# Expresiones previas al diseño\n",
        "\n",
        "phi_f=0.9 # Coeficiente de reduccion\n",
        "\n",
        "def Area_acero(cant_aceros,diam):\n",
        "  return cant_aceros*3.14*(diam*2.54)**2/4 #cm2\n",
        "\n",
        "def Area_concreto(base,peralte_efectivo):\n",
        "  return base*peralte_efectivo # cm2\n",
        "\n",
        "def cuantia(Area_acero,Area_concreto):\n",
        "  return Area_acero/Area_concreto # Adimensional\n",
        "\n",
        "def w(cuantia,fy,fc): # Adimensional\n",
        "  return cuantia*fy/fc # fy (kgf/cm2) , fc (kgf/cm2) , cuantia)\n",
        "\n",
        "def Mn(base,peralte_efectivo,w,fc):\n",
        "  return phi_f*(base*peralte_efectivo**2*fc*(1-.59*w)) # kgf*cm\n",
        "\n",
        "def cuantia_balanceada(fc,fy): # fc (kgf/cm2)\n",
        "  if fc/10<28:\n",
        "    return (.85*.85*fc)/fy*(6117/(fy+6117))\n",
        "  else:\n",
        "    return (0.85-(0.05*(fc/10-28))/7)*.85*fc/fy*(6117/(fy+6117))"
      ]
    },
    {
      "cell_type": "code",
      "source": [
        "round(Area_acero(3,5/8),2)"
      ],
      "metadata": {
        "colab": {
          "base_uri": "https://localhost:8080/"
        },
        "id": "3Th9ir9R76XV",
        "outputId": "e0f769b1-9bd4-43b5-d5df-ac6dd7310fba"
      },
      "execution_count": null,
      "outputs": [
        {
          "output_type": "execute_result",
          "data": {
            "text/plain": [
              "5.93"
            ]
          },
          "metadata": {},
          "execution_count": 95
        }
      ]
    },
    {
      "cell_type": "code",
      "source": [
        "round(Area_concreto(30,42),2)"
      ],
      "metadata": {
        "colab": {
          "base_uri": "https://localhost:8080/"
        },
        "id": "wB8FIxeX9Dj4",
        "outputId": "a4b30b89-7dc1-4ff6-a7ba-08dea16166f7"
      },
      "execution_count": null,
      "outputs": [
        {
          "output_type": "execute_result",
          "data": {
            "text/plain": [
              "1260"
            ]
          },
          "metadata": {},
          "execution_count": 49
        }
      ]
    },
    {
      "cell_type": "code",
      "source": [
        "round(cuantia(1.27,1260),4)"
      ],
      "metadata": {
        "colab": {
          "base_uri": "https://localhost:8080/"
        },
        "id": "nTZmFF6L83e6",
        "outputId": "70dc8a77-ab15-475f-9699-637231f76938"
      },
      "execution_count": null,
      "outputs": [
        {
          "output_type": "execute_result",
          "data": {
            "text/plain": [
              "0.001"
            ]
          },
          "metadata": {},
          "execution_count": 88
        }
      ]
    },
    {
      "cell_type": "code",
      "source": [
        "round(w(0.0047,4200,210),4) # Adimensional"
      ],
      "metadata": {
        "colab": {
          "base_uri": "https://localhost:8080/"
        },
        "id": "reKFlFjv9XxP",
        "outputId": "e3b620db-086f-42ca-c11f-2a1571bbd5b8"
      },
      "execution_count": null,
      "outputs": [
        {
          "output_type": "execute_result",
          "data": {
            "text/plain": [
              "0.094"
            ]
          },
          "metadata": {},
          "execution_count": 56
        }
      ]
    },
    {
      "cell_type": "code",
      "source": [
        "round(Mn(30,42,0.094,210)*10**-5,2) # tnf-m"
      ],
      "metadata": {
        "colab": {
          "base_uri": "https://localhost:8080/"
        },
        "id": "e24hh85H9c_P",
        "outputId": "e7436fcd-c853-4029-a58f-aea36c12556f"
      },
      "execution_count": null,
      "outputs": [
        {
          "output_type": "execute_result",
          "data": {
            "text/plain": [
              "94.47"
            ]
          },
          "metadata": {},
          "execution_count": 64
        }
      ]
    },
    {
      "cell_type": "code",
      "source": [
        "round(cuantia_balanceada(210,4200),3)"
      ],
      "metadata": {
        "colab": {
          "base_uri": "https://localhost:8080/"
        },
        "id": "yXl6_0Cp9fdB",
        "outputId": "f1a68e93-61f4-4b5a-eb9d-61b4945a775b"
      },
      "execution_count": null,
      "outputs": [
        {
          "output_type": "execute_result",
          "data": {
            "text/plain": [
              "0.021"
            ]
          },
          "metadata": {},
          "execution_count": 72
        }
      ]
    },
    {
      "cell_type": "code",
      "source": [
        "# Expresiones para el diseño con FRP\n",
        "# Propiedades mecanicas\n",
        "def Area_frp(numero_capas,espesor_frp,ancho_frp): # cm2\n",
        "  return numero_capas*espesor_frp*ancho_frp\n",
        "\n",
        "def cuantia_frp(Area_frp,Area_concreto): # Adimensional\n",
        "  return Area_frp/Area_concreto\n",
        "\n",
        "def k(cuantia_superior,relacion_modular): # Adimensional\n",
        "  return -cuantia_superior*relacion_modular+((cuantia_superior*relacion_modular)**2 +2*cuantia_superior*relacion_modular)**.5\n",
        "\n",
        "def Inercia_agrietada(base,k,peralte_efectivo,relacion_modular,area_acero_a_reforzar):\n",
        "  return base*(k*peralte_efectivo)**3/3+relacion_modular*area_acero_a_reforzar*(peralte_efectivo-k*peralte_efectivo)**2\n",
        "# Deformaciones\n",
        "\n",
        "def ebi(Momento,d_frp,peralte_efectivo,k,Icr,Ec): # Momento (tnf-m, all in cm)\n",
        "  return Momento*(d_frp-k*peralte_efectivo)/(Icr*Ec)\n",
        "\n",
        "def efd(fc,n,Efrp,tf,efu):\n",
        "  return .41*(fc/(n*Efrp*tf))**.5\n",
        "\n",
        "def efe(ec,d_frp,c,ebi):\n",
        "  return ec*(d_frp-c)/c-ebi\n",
        "\n",
        "# Concreto y acero\n",
        "def ec(efe,ebi,c,d_frp):\n",
        "  return (efe+ebi)*c/(d_frp-c)\n",
        "\n",
        "def es(efe,ebi,peralte_efectivo,d_frp,c):\n",
        "  return (efe+ebi)*(peralte_efectivo-c)/(d_frp-c)\n",
        "\n",
        "# Esfuerzos\n",
        "def ffe(efe,E_frp):\n",
        "  return efe*E_frp\n",
        "\n",
        "def ecef(fc,Ec):\n",
        "  return 1.7*fc/Ec\n",
        "\n",
        "# Parametros\n",
        "def beta(ecef,ec):\n",
        "  return (4*ecef-ec)/(6*ecef-2*ec)\n",
        "\n",
        "def alpha(ecef,ec,beta):\n",
        "  return (3*ecef*ec-ec**2)/(3*beta*ecef**2)\n",
        "\n",
        "# fuerzas para el Equilibrio\n",
        "def cc(alpha,fc,beta,c,b):\n",
        "  return alpha*fc*beta*c*b\n",
        "\n",
        "def ts(acero_frp,fs):\n",
        "  return acero_frp*fs\n",
        "\n",
        "def tf(A_frp,ffe):\n",
        "  return A_frp*ffe\n",
        "\n",
        "def Mns(As_frp,fs,hef,beta,c):\n",
        "  return As_frp*fs*(hef-beta*c/2)\n",
        "\n",
        "def Mnf(A_frp,ffe,d_frp,beta,c):\n",
        "  return A_frp*ffe*(d_frp-beta*c/2)"
      ],
      "metadata": {
        "id": "TBeeZTyPGShA"
      },
      "execution_count": null,
      "outputs": []
    },
    {
      "cell_type": "code",
      "source": [
        "round(Area_frp(1,0.12,30),2)"
      ],
      "metadata": {
        "colab": {
          "base_uri": "https://localhost:8080/"
        },
        "id": "LMxtU-oYHMfI",
        "outputId": "bc1e1860-777e-4888-9068-dab79d5fcf8e"
      },
      "execution_count": null,
      "outputs": [
        {
          "output_type": "execute_result",
          "data": {
            "text/plain": [
              "3.6"
            ]
          },
          "metadata": {},
          "execution_count": 78
        }
      ]
    },
    {
      "cell_type": "code",
      "source": [
        "round(cuantia_frp(3.6,30*42),3)"
      ],
      "metadata": {
        "colab": {
          "base_uri": "https://localhost:8080/"
        },
        "id": "3FO9gPqoHnNA",
        "outputId": "3bf78c38-9bbb-440c-d14b-040754ad752f"
      },
      "execution_count": null,
      "outputs": [
        {
          "output_type": "execute_result",
          "data": {
            "text/plain": [
              "0.003"
            ]
          },
          "metadata": {},
          "execution_count": 83
        }
      ]
    },
    {
      "cell_type": "code",
      "source": [
        "round(k(0.001,2*10**6/(15100*210**.5)),2)"
      ],
      "metadata": {
        "colab": {
          "base_uri": "https://localhost:8080/"
        },
        "id": "KeMzwhaGH873",
        "outputId": "a457e1cb-589b-403a-970c-83cd0a7823cf"
      },
      "execution_count": null,
      "outputs": [
        {
          "output_type": "execute_result",
          "data": {
            "text/plain": [
              "0.13"
            ]
          },
          "metadata": {},
          "execution_count": 90
        }
      ]
    },
    {
      "cell_type": "code",
      "source": [
        "round(Area_acero(3,5/8),2) # cm2"
      ],
      "metadata": {
        "colab": {
          "base_uri": "https://localhost:8080/"
        },
        "id": "TMYdWcWkLN3Q",
        "outputId": "19e01ae6-2c02-4373-af6b-d6e698f4bf1f"
      },
      "execution_count": null,
      "outputs": [
        {
          "output_type": "execute_result",
          "data": {
            "text/plain": [
              "5.93"
            ]
          },
          "metadata": {},
          "execution_count": 100
        }
      ]
    },
    {
      "cell_type": "code",
      "source": [
        "round(Inercia_agrietada(30,0.13,42,9.2,5.93),2) # cm4"
      ],
      "metadata": {
        "colab": {
          "base_uri": "https://localhost:8080/"
        },
        "id": "cHqNmw4fJtnd",
        "outputId": "8c05ceb1-db61-49d6-f27d-96c8840528ba"
      },
      "execution_count": null,
      "outputs": [
        {
          "output_type": "execute_result",
          "data": {
            "text/plain": [
              "74469.34"
            ]
          },
          "metadata": {},
          "execution_count": 104
        }
      ]
    },
    {
      "cell_type": "code",
      "source": [
        "round(ebi(3.5,50.6,42,0.13,74469.34,15100*210**.5)*10**5,4)"
      ],
      "metadata": {
        "colab": {
          "base_uri": "https://localhost:8080/"
        },
        "id": "KppxXGJdLTQX",
        "outputId": "6b9d01fe-04cd-42b8-a7b7-697f0103446a"
      },
      "execution_count": null,
      "outputs": [
        {
          "output_type": "execute_result",
          "data": {
            "text/plain": [
              "0.001"
            ]
          },
          "metadata": {},
          "execution_count": 109
        }
      ]
    },
    {
      "cell_type": "code",
      "source": [
        "efd=round(efd(280,7.92,1650000,.12,0.015),4)\n",
        "efd"
      ],
      "metadata": {
        "colab": {
          "base_uri": "https://localhost:8080/"
        },
        "id": "7MOo7CoPXahE",
        "outputId": "a737f0eb-a35a-460a-d1c9-514f238732bb"
      },
      "execution_count": null,
      "outputs": [
        {
          "output_type": "execute_result",
          "data": {
            "text/plain": [
              "0.0055"
            ]
          },
          "metadata": {},
          "execution_count": 10
        }
      ]
    },
    {
      "cell_type": "code",
      "source": [
        "round(.9*.95*0.017,3) # Limite para el valor anterior"
      ],
      "metadata": {
        "colab": {
          "base_uri": "https://localhost:8080/"
        },
        "id": "GtlPxQybZm8v",
        "outputId": "35857339-d069-4aeb-dae6-a0f768ac8b5b"
      },
      "execution_count": null,
      "outputs": [
        {
          "output_type": "execute_result",
          "data": {
            "text/plain": [
              "0.015"
            ]
          },
          "metadata": {},
          "execution_count": 122
        }
      ]
    },
    {
      "cell_type": "code",
      "source": [
        "round(efe(0.003,50.6,10,0.001),3)"
      ],
      "metadata": {
        "colab": {
          "base_uri": "https://localhost:8080/"
        },
        "id": "Wkx4K37A23mO",
        "outputId": "03845d85-fb4f-420a-c88c-75ab7b97fad1"
      },
      "execution_count": null,
      "outputs": [
        {
          "output_type": "execute_result",
          "data": {
            "text/plain": [
              "0.011"
            ]
          },
          "metadata": {},
          "execution_count": 17
        }
      ]
    },
    {
      "cell_type": "code",
      "source": [
        "if round(efe(0.003,50.6,10,0.001),3) > efd:\n",
        "  print('ec<ecu')\n",
        "else:\n",
        "  print('ec=ecu')"
      ],
      "metadata": {
        "colab": {
          "base_uri": "https://localhost:8080/"
        },
        "id": "njU8OxhlZ0Ls",
        "outputId": "779d26d0-e853-4b51-8920-d58f4861fdd4"
      },
      "execution_count": null,
      "outputs": [
        {
          "output_type": "stream",
          "name": "stdout",
          "text": [
            "ec<ecu\n"
          ]
        }
      ]
    },
    {
      "cell_type": "code",
      "source": [
        "round(ec(0.0055,0.001,10,50.6),4)"
      ],
      "metadata": {
        "colab": {
          "base_uri": "https://localhost:8080/"
        },
        "id": "S3flUsBS09ly",
        "outputId": "0a0713ba-8724-4270-ff37-b6b9054954b6"
      },
      "execution_count": null,
      "outputs": [
        {
          "output_type": "execute_result",
          "data": {
            "text/plain": [
              "0.0016"
            ]
          },
          "metadata": {},
          "execution_count": 41
        }
      ]
    },
    {
      "cell_type": "code",
      "source": [
        "round(es(0.0055,0.001,42,50.6,10),3)"
      ],
      "metadata": {
        "colab": {
          "base_uri": "https://localhost:8080/"
        },
        "id": "FTXyYC5_2Jv3",
        "outputId": "4341d539-8587-4158-a91e-a6426215f021"
      },
      "execution_count": null,
      "outputs": [
        {
          "output_type": "execute_result",
          "data": {
            "text/plain": [
              "0.005"
            ]
          },
          "metadata": {},
          "execution_count": 35
        }
      ]
    },
    {
      "cell_type": "code",
      "source": [
        "round(ffe(0.0055,1650000),2)"
      ],
      "metadata": {
        "colab": {
          "base_uri": "https://localhost:8080/"
        },
        "id": "SuN1P6N63EQ1",
        "outputId": "15e8f1c3-fccb-43fe-b135-97097d40cac2"
      },
      "execution_count": null,
      "outputs": [
        {
          "output_type": "execute_result",
          "data": {
            "text/plain": [
              "9075.0"
            ]
          },
          "metadata": {},
          "execution_count": 60
        }
      ]
    },
    {
      "cell_type": "code",
      "source": [
        "if round(ffe(0.0055,1650000),2)>31000*.95:\n",
        "  print ('frp falla')\n",
        "else:\n",
        "  print ('frp no falla aun')"
      ],
      "metadata": {
        "colab": {
          "base_uri": "https://localhost:8080/"
        },
        "id": "2Kw23PyA3oKU",
        "outputId": "f016b8c1-7f52-4274-9903-80418559f172"
      },
      "execution_count": null,
      "outputs": [
        {
          "output_type": "stream",
          "name": "stdout",
          "text": [
            "frp no falla aun\n"
          ]
        }
      ]
    },
    {
      "cell_type": "code",
      "source": [
        "ffe(0.0055,1650000),31000*.95"
      ],
      "metadata": {
        "colab": {
          "base_uri": "https://localhost:8080/"
        },
        "id": "GHhY4CU_4TDn",
        "outputId": "320de2e2-72e9-4332-85d7-0140a9e253c6"
      },
      "execution_count": null,
      "outputs": [
        {
          "output_type": "execute_result",
          "data": {
            "text/plain": [
              "(9075.0, 29450.0)"
            ]
          },
          "metadata": {},
          "execution_count": 61
        }
      ]
    },
    {
      "cell_type": "code",
      "source": [
        "round(ecef(210,15100*210**.5),4)"
      ],
      "metadata": {
        "colab": {
          "base_uri": "https://localhost:8080/"
        },
        "id": "-VfgjPh_4ULm",
        "outputId": "b82c0466-7dea-48d9-9ddd-2d325d19e5a7"
      },
      "execution_count": null,
      "outputs": [
        {
          "output_type": "execute_result",
          "data": {
            "text/plain": [
              "0.0016"
            ]
          },
          "metadata": {},
          "execution_count": 33
        }
      ]
    },
    {
      "cell_type": "code",
      "source": [
        "round(beta(round(ecef(210,15100*210**.5),4),0.0016),2)"
      ],
      "metadata": {
        "colab": {
          "base_uri": "https://localhost:8080/"
        },
        "id": "5AdMoY8r44yG",
        "outputId": "45e01650-a422-4036-e569-c91e663cc33f"
      },
      "execution_count": null,
      "outputs": [
        {
          "output_type": "execute_result",
          "data": {
            "text/plain": [
              "0.75"
            ]
          },
          "metadata": {},
          "execution_count": 70
        }
      ]
    },
    {
      "cell_type": "code",
      "source": [
        "round(alpha(0.0016,0.0016,0.79),2)"
      ],
      "metadata": {
        "colab": {
          "base_uri": "https://localhost:8080/"
        },
        "id": "F42D4z7p7ZnY",
        "outputId": "73c907b3-62e9-4652-810d-feb3907d513b"
      },
      "execution_count": null,
      "outputs": [
        {
          "output_type": "execute_result",
          "data": {
            "text/plain": [
              "0.84"
            ]
          },
          "metadata": {},
          "execution_count": 43
        }
      ]
    },
    {
      "cell_type": "code",
      "source": [
        "round(cc(.84,280,.75,10,30),2)"
      ],
      "metadata": {
        "colab": {
          "base_uri": "https://localhost:8080/"
        },
        "id": "tGEYwTkp74eK",
        "outputId": "d0edbb08-0787-4903-d675-07a29e879346"
      },
      "execution_count": null,
      "outputs": [
        {
          "output_type": "execute_result",
          "data": {
            "text/plain": [
              "52920.0"
            ]
          },
          "metadata": {},
          "execution_count": 65
        }
      ]
    },
    {
      "cell_type": "code",
      "source": [
        "round (ts(Area_acero(3,5/8),4200),2)"
      ],
      "metadata": {
        "colab": {
          "base_uri": "https://localhost:8080/"
        },
        "id": "0SaL4jql9lEo",
        "outputId": "cc52af05-bf80-4c08-9394-5022a5c6febc"
      },
      "execution_count": null,
      "outputs": [
        {
          "output_type": "execute_result",
          "data": {
            "text/plain": [
              "24926.87"
            ]
          },
          "metadata": {},
          "execution_count": 49
        }
      ]
    },
    {
      "cell_type": "code",
      "source": [
        "round(tf(3.6,9075),2)"
      ],
      "metadata": {
        "colab": {
          "base_uri": "https://localhost:8080/"
        },
        "id": "Sq4zplv895fL",
        "outputId": "d9b7ca70-d73a-44a1-c968-04603fe92308"
      },
      "execution_count": null,
      "outputs": [
        {
          "output_type": "execute_result",
          "data": {
            "text/plain": [
              "32670.0"
            ]
          },
          "metadata": {},
          "execution_count": 68
        }
      ]
    },
    {
      "cell_type": "code",
      "source": [
        "Mns(Area_acero(3,5/8),4200,42,.75,10)*10**-5"
      ],
      "metadata": {
        "colab": {
          "base_uri": "https://localhost:8080/"
        },
        "id": "9QmaqqgX-vWG",
        "outputId": "36f79833-54d9-4bf9-d746-69cbfe3d4606"
      },
      "execution_count": null,
      "outputs": [
        {
          "output_type": "execute_result",
          "data": {
            "text/plain": [
              "9.534526041796875"
            ]
          },
          "metadata": {},
          "execution_count": 74
        }
      ]
    },
    {
      "cell_type": "code",
      "source": [
        "Mnf(3.6,9075,50.6,.75,10)*10**-5"
      ],
      "metadata": {
        "colab": {
          "base_uri": "https://localhost:8080/"
        },
        "id": "1xVS6EHWEInQ",
        "outputId": "bb0ec3b3-3b23-4623-e50a-42760b122495"
      },
      "execution_count": null,
      "outputs": [
        {
          "output_type": "execute_result",
          "data": {
            "text/plain": [
              "15.305895000000001"
            ]
          },
          "metadata": {},
          "execution_count": 75
        }
      ]
    },
    {
      "cell_type": "code",
      "source": [],
      "metadata": {
        "id": "O2SepA-cEX2B"
      },
      "execution_count": null,
      "outputs": []
    }
  ]
}