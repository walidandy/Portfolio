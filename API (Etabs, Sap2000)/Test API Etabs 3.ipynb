{
 "cells": [
  {
   "cell_type": "markdown",
   "metadata": {},
   "source": [
    "*Importando*"
   ]
  },
  {
   "cell_type": "code",
   "execution_count": 80,
   "metadata": {},
   "outputs": [],
   "source": [
    "import os\n",
    "import sys\n",
    "import clr\n",
    "\n",
    "from enum import Enum"
   ]
  },
  {
   "cell_type": "markdown",
   "metadata": {},
   "source": [
    "*Formalismo*"
   ]
  },
  {
   "cell_type": "code",
   "execution_count": 81,
   "metadata": {},
   "outputs": [],
   "source": [
    "clr.AddReference(\"System.Runtime.InteropServices\")\n",
    "from System.Runtime.InteropServices import Marshal\n",
    "\n",
    "clr.AddReference(R'C:\\Program Files\\Computers and Structures\\ETABS 21\\ETABSv1.dll')\n",
    "from ETABSv1 import *"
   ]
  },
  {
   "cell_type": "markdown",
   "metadata": {},
   "source": [
    "*Api Helper*"
   ]
  },
  {
   "cell_type": "code",
   "execution_count": 82,
   "metadata": {},
   "outputs": [],
   "source": [
    "helper = cHelper(Helper())"
   ]
  },
  {
   "cell_type": "markdown",
   "metadata": {},
   "source": [
    "*COAPI*"
   ]
  },
  {
   "cell_type": "code",
   "execution_count": 83,
   "metadata": {},
   "outputs": [],
   "source": [
    "myETABSObject = cOAPI(helper.GetObject(\"CSI.ETABS.API.ETABSObject\"))"
   ]
  },
  {
   "cell_type": "markdown",
   "metadata": {},
   "source": [
    "*Get*"
   ]
  },
  {
   "cell_type": "code",
   "execution_count": 84,
   "metadata": {},
   "outputs": [],
   "source": [
    "ret=helper.GetObject('CSI.ETABS.API.ETABSObject')"
   ]
  },
  {
   "cell_type": "markdown",
   "metadata": {},
   "source": [
    "*SapModel*"
   ]
  },
  {
   "cell_type": "code",
   "execution_count": 85,
   "metadata": {},
   "outputs": [],
   "source": [
    "SapModel=cSapModel(myETABSObject.SapModel)"
   ]
  },
  {
   "cell_type": "code",
   "execution_count": 86,
   "metadata": {},
   "outputs": [],
   "source": [
    "Analyze = cAnalyze(SapModel.Analyze)\n",
    "ret = Analyze.RunAnalysis()"
   ]
  },
  {
   "cell_type": "code",
   "execution_count": 87,
   "metadata": {},
   "outputs": [
    {
     "ename": "IndexError",
     "evalue": "array index out of range",
     "output_type": "error",
     "traceback": [
      "\u001b[1;31m---------------------------------------------------------------------------\u001b[0m",
      "\u001b[1;31mIndexError\u001b[0m                                Traceback (most recent call last)",
      "\u001b[1;32mc:\\Users\\USUARIO\\OneDrive\\Documents\\Tesis\\Plan de Tesis\\JN\\10.ipynb Cell 14\u001b[0m line \u001b[0;36m3\n\u001b[0;32m     <a href='vscode-notebook-cell:/c%3A/Users/USUARIO/OneDrive/Documents/Tesis/Plan%20de%20Tesis/JN/10.ipynb#X16sZmlsZQ%3D%3D?line=28'>29</a>\u001b[0m [ret, NumberResults, Obj, ObjSta, Elm, ElmSta, LoadCase, StepType, StepNum, P, V2, V3, T, M2, M3] \u001b[39m=\u001b[39m Results\u001b[39m.\u001b[39mFrameForce(\u001b[39m'\u001b[39m\u001b[39m80\u001b[39m\u001b[39m'\u001b[39m, eItemTypeElm(ObjectElm), NumberResults, Obj, ObjSta, Elm, ElmSta, LoadCase, StepType, StepNum, P, V2, V3, T, M2, M3)\n\u001b[0;32m     <a href='vscode-notebook-cell:/c%3A/Users/USUARIO/OneDrive/Documents/Tesis/Plan%20de%20Tesis/JN/10.ipynb#X16sZmlsZQ%3D%3D?line=29'>30</a>\u001b[0m \u001b[39mfor\u001b[39;00m i \u001b[39min\u001b[39;00m \u001b[39mrange\u001b[39m(\u001b[39m0\u001b[39m,\u001b[39m6\u001b[39m):\n\u001b[1;32m---> <a href='vscode-notebook-cell:/c%3A/Users/USUARIO/OneDrive/Documents/Tesis/Plan%20de%20Tesis/JN/10.ipynb#X16sZmlsZQ%3D%3D?line=30'>31</a>\u001b[0m     \u001b[39mprint\u001b[39m(\u001b[39mround\u001b[39m(M3[i],\u001b[39m2\u001b[39m))\n\u001b[0;32m     <a href='vscode-notebook-cell:/c%3A/Users/USUARIO/OneDrive/Documents/Tesis/Plan%20de%20Tesis/JN/10.ipynb#X16sZmlsZQ%3D%3D?line=33'>34</a>\u001b[0m \u001b[39m#for i in range(1,5):\u001b[39;00m\n\u001b[0;32m     <a href='vscode-notebook-cell:/c%3A/Users/USUARIO/OneDrive/Documents/Tesis/Plan%20de%20Tesis/JN/10.ipynb#X16sZmlsZQ%3D%3D?line=34'>35</a>\u001b[0m \u001b[39m#    [ret, NumberResults, Obj, ObjSta, Elm, ElmSta, LoadCase, StepType, StepNum, P, V2, V3, T, M2, M3] = Results.#FrameForce(str(i), eItemTypeElm(ObjectElm), NumberResults, Obj, ObjSta, Elm, ElmSta, LoadCase, StepType, StepNum, P, #V2, V3, T, M2, M3)\u001b[39;00m\n\u001b[0;32m     <a href='vscode-notebook-cell:/c%3A/Users/USUARIO/OneDrive/Documents/Tesis/Plan%20de%20Tesis/JN/10.ipynb#X16sZmlsZQ%3D%3D?line=35'>36</a>\u001b[0m \u001b[39m#    # display results\u001b[39;00m\n\u001b[1;32m   (...)\u001b[0m\n\u001b[0;32m     <a href='vscode-notebook-cell:/c%3A/Users/USUARIO/OneDrive/Documents/Tesis/Plan%20de%20Tesis/JN/10.ipynb#X16sZmlsZQ%3D%3D?line=38'>39</a>\u001b[0m \u001b[39m#    print(\"------------------\")\u001b[39;00m\n\u001b[0;32m     <a href='vscode-notebook-cell:/c%3A/Users/USUARIO/OneDrive/Documents/Tesis/Plan%20de%20Tesis/JN/10.ipynb#X16sZmlsZQ%3D%3D?line=39'>40</a>\u001b[0m \u001b[39m#print(\"Los Resultados Son:\", M3)\u001b[39;00m\n",
      "\u001b[1;31mIndexError\u001b[0m: array index out of range"
     ]
    }
   ],
   "source": [
    "ret = SapModel.SetPresentUnits(eUnits(8))\n",
    "\n",
    "# initialize for results\n",
    "\n",
    "# Results\n",
    "Results = cAnalysisResults(SapModel.Results)\n",
    "Setup = cAnalysisResultsSetup(Results.Setup)\n",
    "\n",
    "NumberResults = 0\n",
    "Obj = []\n",
    "ObjSta = []\n",
    "Elm = []\n",
    "ElmSta = []\n",
    "LoadCase = []\n",
    "StepType = []\n",
    "StepNum = []\n",
    "P = []\n",
    "V2 = []\n",
    "V3 = []\n",
    "T = []\n",
    "M2 = []\n",
    "M3 = []\n",
    "ObjectElm = 0\n",
    "\n",
    "ret = Setup.DeselectAllCasesAndCombosForOutput()\n",
    "ret = Setup.SetCaseSelectedForOutput('Peso Propio')\n",
    "\n",
    "\n",
    "[ret, NumberResults, Obj, ObjSta, Elm, ElmSta, LoadCase, StepType, StepNum, P, V2, V3, T, M2, M3] = Results.FrameForce('80', eItemTypeElm(ObjectElm), NumberResults, Obj, ObjSta, Elm, ElmSta, LoadCase, StepType, StepNum, P, V2, V3, T, M2, M3)\n",
    "for i in range(0,6):\n",
    "    print(round(M3[i],2))\n",
    "\n",
    "\n",
    "#for i in range(1,5):\n",
    "#    [ret, NumberResults, Obj, ObjSta, Elm, ElmSta, LoadCase, StepType, StepNum, P, V2, V3, T, M2, M3] = Results.#FrameForce(str(i), eItemTypeElm(ObjectElm), NumberResults, Obj, ObjSta, Elm, ElmSta, LoadCase, StepType, StepNum, P, #V2, V3, T, M2, M3)\n",
    "#    # display results\n",
    "#    for i in range(0,6):\n",
    "#        print(round(M3[i],2))\n",
    "#    print(\"------------------\")\n",
    "#print(\"Los Resultados Son:\", M3)"
   ]
  },
  {
   "cell_type": "code",
   "execution_count": null,
   "metadata": {},
   "outputs": [
    {
     "name": "stdout",
     "output_type": "stream",
     "text": [
      "Los Resultados son: [808.2587201592511, 518.4393182198461, 0, 0, 0, 0, 0, 0, 0, 0, 0, 0]\n"
     ]
    }
   ],
   "source": [
    "ret = SapModel.SetPresentUnits(eUnits(8))\n",
    "\n",
    "ProgramResult=[0,0,0,0,0,0,0,0,0,0,0,0]\n",
    "\n",
    "Results = cAnalysisResults(SapModel.Results)\n",
    "Setup = cAnalysisResultsSetup(Results.Setup)\n",
    "\n",
    "NumberResults = 0\n",
    "StoryName = []\n",
    "PierName = []\n",
    "LoadCase = []\n",
    "Location= []\n",
    "P= []\n",
    "V2 = []\n",
    "V3 = []\n",
    "T = []\n",
    "M2 = []\n",
    "M3 = []\n",
    "\n",
    "ret = Setup.DeselectAllCasesAndCombosForOutput()\n",
    "ret = Setup.SetCaseSelectedForOutput('Peso Propio')\n",
    "\n",
    "[ret, NumberResults, StoryName, PierName, LoadCase, Location, P, V2, V3, T, M2,M3] = Results.PierForce(NumberResults, 'NTN', 'P1', LoadCase, Location, P, V2, V3, T, M2, M3)\n",
    "ProgramResult[0] = M3[0]\n",
    "ProgramResult[1] = M3[1]\n",
    "# display results\n",
    "print(\"Los Resultados son:\", ProgramResult)"
   ]
  },
  {
   "cell_type": "markdown",
   "metadata": {},
   "source": [
    "**Generando un Nuevo MODELO**"
   ]
  },
  {
   "cell_type": "code",
   "execution_count": 88,
   "metadata": {},
   "outputs": [],
   "source": [
    "import os\n",
    "import sys\n",
    "import clr\n",
    "\n",
    "from enum import Enum\n",
    "\n",
    "clr.AddReference(\"System.Runtime.InteropServices\")\n",
    "from System.Runtime.InteropServices import Marshal\n",
    "\n",
    "clr.AddReference(R'C:\\Program Files\\Computers and Structures\\ETABS 21\\ETABSv1.dll')\n",
    "from ETABSv1 import *\n",
    "\n",
    "Remote = False\n",
    "AttachToInstance = False\n",
    "SpecifyPath = False\n",
    "\n",
    "# full path to the model\n",
    "# set it to the desired path of your model\n",
    "APIPath = \"D:\\\\VS\\\\Ejemplo 3\"\n",
    "ModelPath = APIPath + os.sep + 'Ejemplo 3 .edb'\n",
    "\n",
    "# create API helper object\n",
    "helper = cHelper(Helper())\n",
    "\n",
    "myETABSObject = cOAPI(helper.CreateObjectProgID(\"CSI.ETABS.API.ETABSObject\"))\n",
    "\n",
    "# start ETABS application\n",
    "myETABSObject.ApplicationStart()\n",
    "\n",
    "# create SapModel object\n",
    "SapModel = cSapModel(myETABSObject.SapModel)\n",
    "\n",
    "# initialize model\n",
    "SapModel.InitializeNewModel()\n",
    "\n",
    "# create new blank model\n",
    "File = cFile(SapModel.File)\n",
    "ret = File.NewBlank()"
   ]
  },
  {
   "cell_type": "code",
   "execution_count": 98,
   "metadata": {},
   "outputs": [],
   "source": [
    "ret = SapModel.SetPresentUnits(eUnits(8))"
   ]
  },
  {
   "cell_type": "code",
   "execution_count": 109,
   "metadata": {},
   "outputs": [],
   "source": [
    "# Material - Medio Isotropico\n",
    "# PropMaterial = cPropMaterial(SapModel.PropMaterial)\n",
    "# ret = PropMaterial.SetMaterial('Concreto wkh', eMatType(2))\n",
    "# fc=210\n",
    "# ret = PropMaterial.SetMPIsotropic('Concreto wkh', 15000*(fc*100**2)**.5, 0.25, 0.0000055)"
   ]
  },
  {
   "cell_type": "code",
   "execution_count": 112,
   "metadata": {},
   "outputs": [],
   "source": [
    "# Seccion Transversal\n",
    "PropFrame=cPropFrame(SapModel.PropFrame)\n",
    "ret = PropFrame.SetRectangle('Rec 1','Concreto 210',0.3,0.3)"
   ]
  },
  {
   "cell_type": "code",
   "execution_count": 113,
   "metadata": {},
   "outputs": [],
   "source": [
    "# Frame\n",
    "FrameObj=cFrameObj(SapModel.FrameObj)\n",
    "\n",
    "n=6 # Numero de Columnas\n",
    "\n",
    "# Coordenadas de las Columnas\n",
    "\n",
    "s = [0, 0, 0, 0, 4.779, 0, 0, 8.0, 0, 0, 0, 3, 0, 8.0, 3, 0, 4.779, 3]\n",
    "f = [0, 0, 3, 0, 4.779, 3, 0, 8.0, 3, 0, 0, 6, 0, 8.0, 6, 0, 4.779, 6]\n",
    "\n",
    "F1 = ''\n",
    "for i in range(0,n):\n",
    "    [ret,F1]=FrameObj.AddByCoord(s[3*i],s[3*i+1],s[3*i+2],f[3*i],f[3*i+1],f[3*i+2],F1,'Rec 1','1','Global')"
   ]
  },
  {
   "cell_type": "code",
   "execution_count": 114,
   "metadata": {},
   "outputs": [],
   "source": [
    "n = 12  # Numero de Vigas o Frame\n",
    "\n",
    "# Coordenadas de las vigas\n",
    "\n",
    "s =[0, 0, 3,0, 8.0, 3,6.679, 0, 3,5.436, 3.375, 3,6.832, 4.779, 3,3.55, 4.779, 3,0, 0, 6,0, 8.0, 6,6.679, 0, 6,5.436, 3.375, 6,6.832, 4.779, 6,3.55, 4.779, 6]\n",
    "f=[0, 4.779, 3,0, 4.779, 3,8, 0, 3,5.436, 4.729, 3,8, 4.779, 3,4.45, 4.779, 3,0, 4.779, 6,0, 4.779, 6,8, 0, 6,5.436, 4.729, 6,8, 4.779, 6,4.45, 4.779, 6]\n",
    "\n",
    "for i in range(0,n):\n",
    "    [ret,F1]=FrameObj.AddByCoord(s[3*i],s[3*i+1],s[3*i+2],f[3*i],f[3*i+1],f[3*i+2],F1,'Rec 1','1','Global')"
   ]
  },
  {
   "cell_type": "code",
   "execution_count": 115,
   "metadata": {},
   "outputs": [],
   "source": [
    "# Elementos Area\n",
    "PropArea=cPropArea(SapModel.PropArea)\n",
    "ret=PropArea.SetWall('Muro',eWallPropType(1), eShellType(2), 'Concreto 210', 0.15)\n",
    "ret=PropArea.SetSlab('Losa',eSlabType(0), eShellType(3),'Concreto 210', 0.2)"
   ]
  },
  {
   "cell_type": "code",
   "execution_count": 116,
   "metadata": {},
   "outputs": [],
   "source": [
    "# Elementos Area\n",
    "AreaObj = cAreaObj(SapModel.AreaObj)\n",
    "\n",
    "# Losa\n",
    "x = [0, 8, 8, 0, 0, 8, 8, 0]\n",
    "y = [0, 0, 8, 8, 0, 0, 8, 8]\n",
    "z = [3, 3, 3, 3, 6, 6, 6, 6]\n",
    "\n",
    "#Numero de Losas\n",
    "n=2\n",
    "\n",
    "A1 = ''\n",
    "for i in range(0,n):\n",
    "    [ret,_,_,_,A1] = AreaObj.AddByCoord(4, x[4*i:4*i+4], y[4*i:4*i+4], z[4*i:4*i+4], A1, 'Losa')"
   ]
  },
  {
   "cell_type": "code",
   "execution_count": 117,
   "metadata": {},
   "outputs": [],
   "source": [
    "# Muro\n",
    "x =[0,8,8,0,0,3.55,3.55,0,4.45,6.832,6.832,4.45,0,8,8,0,0,8,8,0,0,3.55,3.55,0,4.45,6.832,6.832,4.45,0,8,8,0]\n",
    "y =[0,0,0,0,4.779,4.779,4.779,4.779,4.779,4.779,4.779,4.779,8.0,8.0,8.0,8.0,0,0,0,0,4.779,4.779,4.779,4.779,4.779,4.779,4.779,4.779,8.0,8.0,8.0,8.0]\n",
    "z =[6,6,3,3,6,6,3,3,6,6,3,3,6,6,3,3,3,3,0,0,3,3,0,0,3,3,0,0,3,3,0,0]\n",
    "\n",
    "# Numero de Muros\n",
    "n=8\n",
    "\n",
    "A2 = ''\n",
    "for i in range(0,n):\n",
    "    [ret,_,_,_,A2] = AreaObj.AddByCoord(4, x[4*i:4*i+4], y[4*i:4*i+4], z[4*i:4*i+4], A2, 'Muro')"
   ]
  },
  {
   "cell_type": "code",
   "execution_count": 119,
   "metadata": {},
   "outputs": [],
   "source": [
    "Analyze = cAnalyze(SapModel.Analyze)\n",
    "ret = Analyze.RunAnalysis()"
   ]
  },
  {
   "cell_type": "code",
   "execution_count": 127,
   "metadata": {},
   "outputs": [
    {
     "name": "stdout",
     "output_type": "stream",
     "text": [
      "-1889.77\n",
      "-793.44\n",
      "128.37\n",
      "791.43\n",
      "1111.49\n",
      "1032.4\n",
      "610.32\n",
      "-70.52\n",
      "-925.87\n"
     ]
    }
   ],
   "source": [
    "# Results\n",
    "Results = cAnalysisResults(SapModel.Results)\n",
    "Setup = cAnalysisResultsSetup(Results.Setup)\n",
    "\n",
    "NumberResults = 0\n",
    "Obj = []\n",
    "ObjSta = []\n",
    "Elm = []\n",
    "ElmSta = []\n",
    "LoadCase = []\n",
    "StepType = []\n",
    "StepNum = []\n",
    "P = []\n",
    "V2 = []\n",
    "V3 = []\n",
    "T = []\n",
    "M2 = []\n",
    "M3 = []\n",
    "ObjectElm = 0\n",
    "\n",
    "ret = Setup.DeselectAllCasesAndCombosForOutput()\n",
    "ret = Setup.SetCaseSelectedForOutput('Dead')\n",
    "\n",
    "\n",
    "[ret, NumberResults, Obj, ObjSta, Elm, ElmSta, LoadCase, StepType, StepNum, P, V2, V3, T, M2, M3] = Results.FrameForce('61', eItemTypeElm(ObjectElm), NumberResults, Obj, ObjSta, Elm, ElmSta, LoadCase, StepType, StepNum, P, V2, V3, T, M2, M3)\n",
    "for i in range(0,9):\n",
    "    print(round(M3[i],2))"
   ]
  },
  {
   "cell_type": "code",
   "execution_count": null,
   "metadata": {},
   "outputs": [],
   "source": []
  }
 ],
 "metadata": {
  "kernelspec": {
   "display_name": "Python 3",
   "language": "python",
   "name": "python3"
  },
  "language_info": {
   "codemirror_mode": {
    "name": "ipython",
    "version": 3
   },
   "file_extension": ".py",
   "mimetype": "text/x-python",
   "name": "python",
   "nbconvert_exporter": "python",
   "pygments_lexer": "ipython3",
   "version": "3.12.0"
  }
 },
 "nbformat": 4,
 "nbformat_minor": 2
}
