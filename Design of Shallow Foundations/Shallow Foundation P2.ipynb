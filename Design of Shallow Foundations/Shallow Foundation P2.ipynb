{
 "cells": [
  {
   "cell_type": "code",
   "execution_count": 6,
   "metadata": {},
   "outputs": [],
   "source": [
    "from sympy import *\n",
    "import ipywidgets as widgets\n",
    "import handcalcs.render"
   ]
  },
  {
   "cell_type": "markdown",
   "metadata": {},
   "source": [
    "# 1.Datos iniciales\n"
   ]
  },
  {
   "cell_type": "code",
   "execution_count": 7,
   "metadata": {},
   "outputs": [
    {
     "data": {
      "text/latex": [
       "\\[\n",
       "\\begin{aligned}\n",
       "d_{c} &= 2.40 \\; \\;\\textrm{(tnf/m3)}\n",
       " &d_{e} &= 6 \\; \\;\\textrm{(m)}\n",
       " &\\mathrm{esf}_{adm} &= 1.80 \\; \\;\\textrm{(kgf/cm2)}\n",
       "\\\\[10pt]\n",
       "\\end{aligned}\n",
       "\\]"
      ],
      "text/plain": [
       "<IPython.core.display.Latex object>"
      ]
     },
     "metadata": {},
     "output_type": "display_data"
    }
   ],
   "source": [
    "%%render params 2\n",
    "d_c=2.4 #tnf/m3\n",
    "d_e=6 #m\n",
    "esf_adm=1.8 #kgf/cm2"
   ]
  },
  {
   "cell_type": "code",
   "execution_count": 51,
   "metadata": {},
   "outputs": [
    {
     "data": {
      "application/vnd.jupyter.widget-view+json": {
       "model_id": "bfa592f28ef144c4a04bd4578e0a75a0",
       "version_major": 2,
       "version_minor": 0
      },
      "text/plain": [
       "FloatText(value=1.0, description='hz=')"
      ]
     },
     "metadata": {},
     "output_type": "display_data"
    },
    {
     "data": {
      "application/vnd.jupyter.widget-view+json": {
       "model_id": "1b4ecd779e584e9ba7a6a5fc4d614573",
       "version_major": 2,
       "version_minor": 0
      },
      "text/plain": [
       "FloatText(value=1.0, description='col=')"
      ]
     },
     "metadata": {},
     "output_type": "display_data"
    }
   ],
   "source": [
    "hz = widgets.FloatText(value=1, description=\"hz=\")\n",
    "col = widgets.FloatText(value=1, description=\"col=\")\n",
    "display(hz, col)"
   ]
  },
  {
   "cell_type": "code",
   "execution_count": 12,
   "metadata": {},
   "outputs": [
    {
     "data": {
      "application/vnd.jupyter.widget-view+json": {
       "model_id": "01115063ba394470901178631ee414cd",
       "version_major": 2,
       "version_minor": 0
      },
      "text/plain": [
       "FloatText(value=1.0, description='Pcm1=')"
      ]
     },
     "metadata": {},
     "output_type": "display_data"
    },
    {
     "data": {
      "application/vnd.jupyter.widget-view+json": {
       "model_id": "2b16be54a6b640b4b95e7cf88f387b8b",
       "version_major": 2,
       "version_minor": 0
      },
      "text/plain": [
       "FloatText(value=1.0, description='Pcv1=')"
      ]
     },
     "metadata": {},
     "output_type": "display_data"
    },
    {
     "data": {
      "application/vnd.jupyter.widget-view+json": {
       "model_id": "dc667f2e8e3449dfb7bff71553b0f334",
       "version_major": 2,
       "version_minor": 0
      },
      "text/plain": [
       "FloatText(value=1.0, description='Pcm2=')"
      ]
     },
     "metadata": {},
     "output_type": "display_data"
    },
    {
     "data": {
      "application/vnd.jupyter.widget-view+json": {
       "model_id": "13cdee3f373d4e9b851a09f632cf0be3",
       "version_major": 2,
       "version_minor": 0
      },
      "text/plain": [
       "FloatText(value=1.0, description='Pcv2=')"
      ]
     },
     "metadata": {},
     "output_type": "display_data"
    },
    {
     "data": {
      "application/vnd.jupyter.widget-view+json": {
       "model_id": "68610e5e71b74306a517b408c0395615",
       "version_major": 2,
       "version_minor": 0
      },
      "text/plain": [
       "FloatText(value=1.0, description='Mcm=')"
      ]
     },
     "metadata": {},
     "output_type": "display_data"
    },
    {
     "data": {
      "application/vnd.jupyter.widget-view+json": {
       "model_id": "20471a73a33d482688fba5dadb8e3986",
       "version_major": 2,
       "version_minor": 0
      },
      "text/plain": [
       "FloatText(value=1.0, description='Mcv=')"
      ]
     },
     "metadata": {},
     "output_type": "display_data"
    },
    {
     "data": {
      "application/vnd.jupyter.widget-view+json": {
       "model_id": "fccf3506d2134099a9bdb865b63ec205",
       "version_major": 2,
       "version_minor": 0
      },
      "text/plain": [
       "FloatText(value=1.0, description='Ms_pos=')"
      ]
     },
     "metadata": {},
     "output_type": "display_data"
    },
    {
     "data": {
      "application/vnd.jupyter.widget-view+json": {
       "model_id": "8543904595a4444d9ed0d9fb87b4af80",
       "version_major": 2,
       "version_minor": 0
      },
      "text/plain": [
       "FloatText(value=1.0, description='Ms_neg=')"
      ]
     },
     "metadata": {},
     "output_type": "display_data"
    }
   ],
   "source": [
    "Pcm1 = widgets.FloatText(value=1, description=\"Pcm1=\")\n",
    "Pcv1 = widgets.FloatText(value=1, description=\"Pcv1=\")\n",
    "Pcm2 = widgets.FloatText(value=1, description=\"Pcm2=\")\n",
    "Pcv2 = widgets.FloatText(value=1, description=\"Pcv2=\")\n",
    "Mcm = widgets.FloatText(value=1, description=\"Mcm=\")\n",
    "Mcv = widgets.FloatText(value=1, description=\"Mcv=\")\n",
    "Ms_pos = widgets.FloatText(value=1, description=\"Ms_pos=\")\n",
    "Ms_neg = widgets.FloatText(value=1, description=\"Ms_neg=\")\n",
    "display(Pcm1, Pcv1, Pcm2, Pcv2, Mcm, Mcv, Ms_pos, Ms_neg)"
   ]
  },
  {
   "cell_type": "markdown",
   "metadata": {},
   "source": [
    "# 2.Predimensionamiento\n"
   ]
  },
  {
   "cell_type": "markdown",
   "metadata": {},
   "source": [
    "## 2.1.Zapata Exterior\n"
   ]
  },
  {
   "cell_type": "code",
   "execution_count": 14,
   "metadata": {},
   "outputs": [
    {
     "name": "stdout",
     "output_type": "stream",
     "text": [
      "A= 5.19\n"
     ]
    }
   ],
   "source": [
    "P = Pcm1.value + Pcv1.value + 0.1 * (Pcm1.value + Pcv1.value)\n",
    "x = symbols(\"x\")\n",
    "A = P / (esf_adm * 10)\n",
    "print(\"A=\", round(A, 2))"
   ]
  },
  {
   "cell_type": "code",
   "execution_count": 15,
   "metadata": {},
   "outputs": [
    {
     "data": {
      "application/vnd.jupyter.widget-view+json": {
       "model_id": "778887b945894c7bacf57bbd7ba12b9b",
       "version_major": 2,
       "version_minor": 0
      },
      "text/plain": [
       "FloatText(value=1.0, description='L=')"
      ]
     },
     "metadata": {},
     "output_type": "display_data"
    },
    {
     "data": {
      "application/vnd.jupyter.widget-view+json": {
       "model_id": "2636625f55934adba50a9ec39acae796",
       "version_major": 2,
       "version_minor": 0
      },
      "text/plain": [
       "FloatText(value=1.0, description='B=')"
      ]
     },
     "metadata": {},
     "output_type": "display_data"
    }
   ],
   "source": [
    "L1 = widgets.FloatText(value=1, description=\"L1=\")\n",
    "B1 = widgets.FloatText(value=1, description=\"B1=\")\n",
    "display(L1, B1)"
   ]
  },
  {
   "cell_type": "code",
   "execution_count": 18,
   "metadata": {},
   "outputs": [
    {
     "name": "stdout",
     "output_type": "stream",
     "text": [
      "A= 5.18\n"
     ]
    }
   ],
   "source": [
    "print(\"A=\", round(L1.value * B1.value, 2))"
   ]
  },
  {
   "cell_type": "markdown",
   "metadata": {},
   "source": [
    "## 2.2.Zapata Interior\n"
   ]
  },
  {
   "cell_type": "code",
   "execution_count": 72,
   "metadata": {},
   "outputs": [
    {
     "name": "stdout",
     "output_type": "stream",
     "text": [
      "A= 10.05\n"
     ]
    }
   ],
   "source": [
    "P = (Pcm2.value+ Pcv2.value+ 0.1*(Pcm2.value+ Pcv2.value)+(Mcm.value + Mcv.value)/d_e- (Pcm1.value + Pcv1.value + d_c * (L1.value * B1.value * hz.value))*((L1.value - col.value) / 2)/ d_e)\n",
    "x = symbols(\"x\")\n",
    "A = P / (esf_adm * 10)\n",
    "print(\"A=\", round(A, 2))"
   ]
  },
  {
   "cell_type": "code",
   "execution_count": 74,
   "metadata": {},
   "outputs": [
    {
     "data": {
      "application/vnd.jupyter.widget-view+json": {
       "model_id": "e7ee154bb8a749ab972375a7ed48bed6",
       "version_major": 2,
       "version_minor": 0
      },
      "text/plain": [
       "FloatText(value=1.0, description='L2=')"
      ]
     },
     "metadata": {},
     "output_type": "display_data"
    },
    {
     "data": {
      "application/vnd.jupyter.widget-view+json": {
       "model_id": "9d4a950245ec47a1abfaf06e2f454956",
       "version_major": 2,
       "version_minor": 0
      },
      "text/plain": [
       "FloatText(value=1.0, description='B2=')"
      ]
     },
     "metadata": {},
     "output_type": "display_data"
    }
   ],
   "source": [
    "L2 = widgets.FloatText(value=1, description=\"L2=\")\n",
    "B2 = widgets.FloatText(value=1, description=\"B2=\")\n",
    "display(L2, B2)"
   ]
  },
  {
   "cell_type": "code",
   "execution_count": 78,
   "metadata": {},
   "outputs": [
    {
     "name": "stdout",
     "output_type": "stream",
     "text": [
      "A= 10.24\n"
     ]
    }
   ],
   "source": [
    "print(\"A=\", round(L2.value * B2.value, 2))"
   ]
  },
  {
   "cell_type": "markdown",
   "metadata": {},
   "source": [
    "# 3.Verificacion de esfuerzos en el suelo"
   ]
  },
  {
   "cell_type": "markdown",
   "metadata": {},
   "source": [
    "## 3.1.Zapata Exterior"
   ]
  },
  {
   "cell_type": "markdown",
   "metadata": {},
   "source": [
    "### 3.1.1.Combinacion Cm,Cv"
   ]
  },
  {
   "cell_type": "code",
   "execution_count": 82,
   "metadata": {},
   "outputs": [
    {
     "name": "stdout",
     "output_type": "stream",
     "text": [
      "OK\n",
      "σ_ze = 17.85 < σ_adm= 18.0\n"
     ]
    }
   ],
   "source": [
    "sigma_ze=(Pcm1.value+Pcv1.value+(d_c*(hz.value*L1.value*B1.value)))/(L1.value*B1.value)\n",
    "if sigma_ze<(esf_adm*10):\n",
    "    print('OK')\n",
    "    print('σ_ze =',round(sigma_ze,2),'<','σ_adm=',round(esf_adm*10,2))\n",
    "else:\n",
    "    print('NO OK')\n",
    "    print('σ_ze =',round(sigma_ze,2),'>','σ_adm=',round(esf_adm*10,2))"
   ]
  },
  {
   "cell_type": "markdown",
   "metadata": {},
   "source": [
    "### 3.1.2.Combinacion Cm,Cv,Cs(-)"
   ]
  },
  {
   "cell_type": "code",
   "execution_count": 83,
   "metadata": {},
   "outputs": [
    {
     "name": "stdout",
     "output_type": "stream",
     "text": [
      "OK\n",
      "σ_ze = 17.85 < σ_adm= 23.4\n"
     ]
    }
   ],
   "source": [
    "sigma_ze=(Pcm1.value+Pcv1.value+(d_c*(hz.value*L1.value*B1.value)))/(L1.value*B1.value)\n",
    "if sigma_ze<(esf_adm*10*1.3):\n",
    "    print('OK')\n",
    "    print('σ_ze =',round(sigma_ze,2),'<','σ_adm=',round(esf_adm*10*1.3,2))\n",
    "else:\n",
    "    print('NO OK')\n",
    "    print('σ_ze =',round(sigma_ze,2),'>','σ_adm=',round(esf_adm*10*1.3,2))"
   ]
  },
  {
   "cell_type": "markdown",
   "metadata": {},
   "source": [
    "### 3.1.3.Combinacion Cm,Cv,Cs(+)"
   ]
  },
  {
   "cell_type": "code",
   "execution_count": null,
   "metadata": {},
   "outputs": [
    {
     "name": "stdout",
     "output_type": "stream",
     "text": [
      "OK\n",
      "σ_ze = 17.85 < σ_adm= 23.4\n"
     ]
    }
   ],
   "source": [
    "sigma_ze=(Pcm1.value+Pcv1.value+(d_c*(hz.value*L1.value*B1.value)))/(L1.value*B1.value)\n",
    "if sigma_ze<(esf_adm*10*1.3):\n",
    "    print('OK')\n",
    "    print('σ_ze =',round(sigma_ze,2),'<','σ_adm=',round(esf_adm*10*1.3,2))\n",
    "else:\n",
    "    print('NO OK')\n",
    "    print('σ_ze =',round(sigma_ze,2),'>','σ_adm=',round(esf_adm*10*1.3,2))"
   ]
  },
  {
   "cell_type": "markdown",
   "metadata": {},
   "source": [
    "## 3.2.Zapata Interior"
   ]
  },
  {
   "cell_type": "markdown",
   "metadata": {},
   "source": [
    "### 3.2.1.Combinacion Cm,Cv"
   ]
  },
  {
   "cell_type": "code",
   "execution_count": 87,
   "metadata": {},
   "outputs": [
    {
     "name": "stdout",
     "output_type": "stream",
     "text": [
      "P= 5.46\n"
     ]
    }
   ],
   "source": [
    "PP = d_c * (L1.value * B1.value * hz.value)\n",
    "P_ce = PP + Pcm1.value + Pcv1.value\n",
    "R = P_ce\n",
    "M = Mcm.value + Mcv.value + PP * (L1.value / 2 - col.value / 2)\n",
    "x = symbols(\"x\")\n",
    "P_ci = solveset(Eq(-M + R * (L1.value / 2 - col.value / 2) - x * d_e, 0), x)\n",
    "P_ci = list(P_ci)[0]\n",
    "print(\"P=\", round(P_ci, 2))"
   ]
  },
  {
   "cell_type": "code",
   "execution_count": 89,
   "metadata": {},
   "outputs": [
    {
     "name": "stdout",
     "output_type": "stream",
     "text": [
      "OK\n",
      "σ_ze = 17.51 < σ_adm= 18.0\n"
     ]
    }
   ],
   "source": [
    "sigma_ze=(Pcm2.value+Pcv2.value+(d_c*(hz.value*L2.value*B2.value))-P_ci)/(L2.value*B2.value)\n",
    "if sigma_ze<(esf_adm*10):\n",
    "    print('OK')\n",
    "    print('σ_ze =',round(sigma_ze,2),'<','σ_adm=',round(esf_adm*10,2))\n",
    "else:\n",
    "    print('NO OK')\n",
    "    print('σ_ze =',round(sigma_ze,2),'>','σ_adm=',round(esf_adm*10,2))"
   ]
  },
  {
   "cell_type": "markdown",
   "metadata": {},
   "source": [
    "### 3.2.2.Combinacion Cm,Cv,Cs(+)"
   ]
  },
  {
   "cell_type": "code",
   "execution_count": 91,
   "metadata": {},
   "outputs": [
    {
     "name": "stdout",
     "output_type": "stream",
     "text": [
      "P= -9.54\n"
     ]
    }
   ],
   "source": [
    "PP = d_c * (L1.value * B1.value * hz.value)\n",
    "P_ce = PP + Pcm1.value + Pcv1.value\n",
    "R = P_ce\n",
    "M = Mcm.value + Mcv.value + PP * (L1.value / 2 - col.value / 2)\n",
    "x = symbols(\"x\")\n",
    "M = Mcm.value + Mcv.value + Ms_pos.value + PP * (L1.value / 2 - col.value / 2)\n",
    "P_ci = solveset(Eq(-M + R * (L1.value / 2 - col.value / 2) - x * d_e, 0), x)\n",
    "P_ci = list(P_ci)[0]\n",
    "print(\"P=\", round(P_ci, 2))"
   ]
  },
  {
   "cell_type": "code",
   "execution_count": 97,
   "metadata": {},
   "outputs": [
    {
     "name": "stdout",
     "output_type": "stream",
     "text": [
      "OK\n",
      "σ_ze = 18.97 < σ_adm= 23.4\n"
     ]
    }
   ],
   "source": [
    "sigma_ze=(Pcm2.value+Pcv2.value+(d_c*(hz.value*L2.value*B2.value))-P_ci)/(L2.value*B2.value)\n",
    "if sigma_ze<(esf_adm*10*1.3):\n",
    "    print('OK')\n",
    "    print('σ_ze =',round(sigma_ze,2),'<','σ_adm=',round(esf_adm*10*1.3,2))\n",
    "else:\n",
    "    print('NO OK')\n",
    "    print('σ_ze =',round(sigma_ze,2),'>','σ_adm=',round(esf_adm*10*1.3,2))"
   ]
  },
  {
   "cell_type": "markdown",
   "metadata": {},
   "source": [
    "### 3.2.3.Combinacion Cm,Cv,Cs(-)"
   ]
  },
  {
   "cell_type": "code",
   "execution_count": 98,
   "metadata": {},
   "outputs": [
    {
     "name": "stdout",
     "output_type": "stream",
     "text": [
      "P= 20.77\n"
     ]
    }
   ],
   "source": [
    "PP = d_c * (L1.value * B1.value * hz.value)\n",
    "P_ce = PP + Pcm1.value + Pcv1.value\n",
    "R = P_ce\n",
    "M = Mcm.value + Mcv.value + PP * (L1.value / 2 - col.value / 2)\n",
    "x = symbols(\"x\")\n",
    "M = Mcm.value + Mcv.value + Ms_neg.value + PP * (L1.value / 2 - col.value)\n",
    "P_ci = solveset(Eq(-M + R * (L1.value / 2 - col.value / 2) - x * d_e, 0), x)\n",
    "P_ci = list(P_ci)[0]\n",
    "print(\"P=\", round(P_ci, 2))"
   ]
  },
  {
   "cell_type": "code",
   "execution_count": 99,
   "metadata": {},
   "outputs": [
    {
     "name": "stdout",
     "output_type": "stream",
     "text": [
      "OK\n",
      "σ_ze = 16.01 < σ_adm= 23.4\n"
     ]
    }
   ],
   "source": [
    "sigma_ze=(Pcm2.value+Pcv2.value+(d_c*(hz.value*L2.value*B2.value))-P_ci)/(L2.value*B2.value)\n",
    "if sigma_ze<(esf_adm*10*1.3):\n",
    "    print('OK')\n",
    "    print('σ_ze =',round(sigma_ze,2),'<','σ_adm=',round(esf_adm*10*1.3,2))\n",
    "else:\n",
    "    print('NO OK')\n",
    "    print('σ_ze =',round(sigma_ze,2),'>','σ_adm=',round(esf_adm*10*1.3,2))"
   ]
  }
 ],
 "metadata": {
  "kernelspec": {
   "display_name": "Python 3",
   "language": "python",
   "name": "python3"
  },
  "language_info": {
   "codemirror_mode": {
    "name": "ipython",
    "version": 3
   },
   "file_extension": ".py",
   "mimetype": "text/x-python",
   "name": "python",
   "nbconvert_exporter": "python",
   "pygments_lexer": "ipython3",
   "version": "3.10.1"
  },
  "orig_nbformat": 4
 },
 "nbformat": 4,
 "nbformat_minor": 2
}
