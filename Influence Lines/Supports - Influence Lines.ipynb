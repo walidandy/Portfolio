{
 "cells": [
  {
   "cell_type": "code",
   "execution_count": 8,
   "metadata": {},
   "outputs": [
    {
     "name": "stdout",
     "output_type": "stream",
     "text": [
      "Dash app running on http://127.0.0.1:8050/\n"
     ]
    }
   ],
   "source": [
    "from dash import Dash, Input, Output, dcc, html,callback\n",
    "import plotly.graph_objs as go\n",
    "import plotly.express as px\n",
    "import numpy as np\n",
    "\n",
    "app=Dash(__name__)\n",
    "app.layout=html.Div([\n",
    "    dcc.Input(id='input-1',value=5,type='number'),\n",
    "    dcc.Input(id='input-2',value=5,type='number'),\n",
    "    html.Div(children=[\n",
    "        dcc.Graph(id='output1',style={'display': 'inline-block'}),\n",
    "        dcc.Graph(id='output2',style={'display': 'inline-block'})\n",
    "    ])\n",
    "])\n",
    "@callback(\n",
    "    Output('output1','figure'),\n",
    "    Output('output2','figure'),\n",
    "    Input('input-1','value'),\n",
    "    Input('input-2', 'value')\n",
    ")\n",
    "def A(P,L):\n",
    "    t=np.linspace(0,L,L+1)\n",
    "    fig1=px.line(x=t,y=P*(1-t/L),title='Reaccion A',width=500,height=400,markers=True)\n",
    "    fig2=px.line(x=t,y=P*t/L,title='Reaccion B',width=500,height=400,markers=True)\n",
    "    return fig1,fig2\n",
    "if __name__=='__main__':\n",
    "    app.run(jupyter_mode=\"external\")"
   ]
  },
  {
   "cell_type": "code",
   "execution_count": null,
   "metadata": {},
   "outputs": [],
   "source": []
  }
 ],
 "metadata": {
  "kernelspec": {
   "display_name": "Python 3",
   "language": "python",
   "name": "python3"
  },
  "language_info": {
   "codemirror_mode": {
    "name": "ipython",
    "version": 3
   },
   "file_extension": ".py",
   "mimetype": "text/x-python",
   "name": "python",
   "nbconvert_exporter": "python",
   "pygments_lexer": "ipython3",
   "version": "3.11.5"
  },
  "orig_nbformat": 4
 },
 "nbformat": 4,
 "nbformat_minor": 2
}
