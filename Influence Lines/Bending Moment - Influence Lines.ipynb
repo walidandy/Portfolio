{
 "cells": [
  {
   "cell_type": "code",
   "execution_count": 1,
   "metadata": {},
   "outputs": [
    {
     "data": {
      "text/html": [
       "\n",
       "        <iframe\n",
       "            width=\"100%\"\n",
       "            height=\"650\"\n",
       "            src=\"http://127.0.0.1:8050/\"\n",
       "            frameborder=\"0\"\n",
       "            allowfullscreen\n",
       "            \n",
       "        ></iframe>\n",
       "        "
      ],
      "text/plain": [
       "<IPython.lib.display.IFrame at 0x193565755b0>"
      ]
     },
     "metadata": {},
     "output_type": "display_data"
    }
   ],
   "source": [
    "from dash import Dash, Input, Output, dcc, html,callback\n",
    "import plotly.graph_objs as go\n",
    "import plotly.express as px\n",
    "import numpy as np\n",
    "\n",
    "app=Dash(__name__)\n",
    "app.layout=html.Div([\n",
    "    dcc.Input(id='input-1',value=1,type='number'),\n",
    "    dcc.Input(id='input-2',value=20,type='number'),\n",
    "    dcc.Input(id='input-3',value=4,type='number'),\n",
    "    dcc.Graph(id='output1',style={'display': 'inline-block'}),\n",
    "    ])\n",
    "@callback(\n",
    "    Output('output1','figure'),\n",
    "    Input('input-1','value'),\n",
    "    Input('input-2','value'),\n",
    "    Input('input-3', 'value')\n",
    ")\n",
    "def A(P,L,x):\n",
    "    t1=np.linspace(0,x,x+1)\n",
    "    t2=np.linspace(x,L,(L-x)+1)\n",
    "    fig1=go.Figure(data=go.Scatter(x=t1,y=P*t1/L*(L-x),mode='lines+markers'))\n",
    "    fig2=go.Figure(data=go.Scatter(x=t2,y=P*(L-t2)/L*x,mode='lines+markers'))\n",
    "    fig=go.Figure()\n",
    "    fig=fig.add_traces(fig1.data+fig2.data)\n",
    "    return fig\n",
    "if __name__=='__main__':\n",
    "    app.run(debug=True)"
   ]
  },
  {
   "cell_type": "code",
   "execution_count": null,
   "metadata": {},
   "outputs": [],
   "source": []
  }
 ],
 "metadata": {
  "kernelspec": {
   "display_name": "Python 3",
   "language": "python",
   "name": "python3"
  },
  "language_info": {
   "codemirror_mode": {
    "name": "ipython",
    "version": 3
   },
   "file_extension": ".py",
   "mimetype": "text/x-python",
   "name": "python",
   "nbconvert_exporter": "python",
   "pygments_lexer": "ipython3",
   "version": "3.12.1"
  },
  "orig_nbformat": 4
 },
 "nbformat": 4,
 "nbformat_minor": 2
}
